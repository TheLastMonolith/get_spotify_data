{
 "cells": [
  {
   "cell_type": "code",
   "execution_count": 1,
   "metadata": {
    "ExecuteTime": {
     "end_time": "2020-09-22T18:01:57.883248Z",
     "start_time": "2020-09-22T18:01:32.286873Z"
    }
   },
   "outputs": [],
   "source": [
    "import os\n",
    "\n",
    "import numpy as np\n",
    "import pandas as pd"
   ]
  },
  {
   "cell_type": "code",
   "execution_count": 2,
   "metadata": {
    "ExecuteTime": {
     "end_time": "2020-09-22T18:03:58.002361Z",
     "start_time": "2020-09-22T18:01:57.883248Z"
    },
    "scrolled": true
   },
   "outputs": [
    {
     "name": "stdout",
     "output_type": "stream",
     "text": [
      "Enter start date in YYYY-mm-dd format:2018-01-01\n",
      "\tStart scraping from: 2018-01-01\n",
      "Enter end date in YYYY-mm-dd format:2020-09-15\n",
      "\tEnd scraping at: 2020-09-15\n",
      "Enter desired region:ph\n",
      "\tRegion: ph\n",
      "Enter output directory:data/daily_charts\n",
      "\tOutput directory: data/daily_charts\n",
      "Spotify chart scraper configured! \n"
     ]
    },
    {
     "name": "stderr",
     "output_type": "stream",
     "text": [
      "\r\n",
      "Collecting chart data from ph: 0it [00:00, ?it/s]"
     ]
    },
    {
     "name": "stdout",
     "output_type": "stream",
     "text": [
      "\n",
      "Date: 2018-01-01\n",
      "https://spotifycharts.com/regional/ph/daily/2018-01-01/download\n"
     ]
    },
    {
     "name": "stderr",
     "output_type": "stream",
     "text": [
      "\r\n",
      "Collecting chart data from ph: 1it [00:02,  2.73s/it]"
     ]
    },
    {
     "name": "stdout",
     "output_type": "stream",
     "text": [
      "\n",
      "Date: 2018-01-02\n",
      "https://spotifycharts.com/regional/ph/daily/2018-01-02/download\n"
     ]
    },
    {
     "name": "stderr",
     "output_type": "stream",
     "text": [
      "\r\n",
      "Collecting chart data from ph: 2it [00:04,  2.57s/it]"
     ]
    },
    {
     "name": "stdout",
     "output_type": "stream",
     "text": [
      "\n",
      "Date: 2018-01-03\n",
      "https://spotifycharts.com/regional/ph/daily/2018-01-03/download\n"
     ]
    },
    {
     "name": "stderr",
     "output_type": "stream",
     "text": [
      "\r\n",
      "Collecting chart data from ph: 3it [00:07,  2.49s/it]"
     ]
    },
    {
     "name": "stdout",
     "output_type": "stream",
     "text": [
      "\n",
      "Date: 2018-01-04\n",
      "https://spotifycharts.com/regional/ph/daily/2018-01-04/download\n"
     ]
    },
    {
     "name": "stderr",
     "output_type": "stream",
     "text": [
      "\r\n",
      "Collecting chart data from ph: 4it [00:09,  2.31s/it]"
     ]
    },
    {
     "name": "stdout",
     "output_type": "stream",
     "text": [
      "\n",
      "Date: 2018-01-05\n",
      "https://spotifycharts.com/regional/ph/daily/2018-01-05/download\n"
     ]
    },
    {
     "name": "stderr",
     "output_type": "stream",
     "text": [
      "\r\n",
      "Collecting chart data from ph: 5it [00:11,  2.24s/it]"
     ]
    },
    {
     "name": "stdout",
     "output_type": "stream",
     "text": [
      "\n",
      "Date: 2018-01-06\n",
      "https://spotifycharts.com/regional/ph/daily/2018-01-06/download\n"
     ]
    },
    {
     "name": "stderr",
     "output_type": "stream",
     "text": [
      "\r\n",
      "Collecting chart data from ph: 6it [00:13,  2.11s/it]"
     ]
    },
    {
     "name": "stdout",
     "output_type": "stream",
     "text": [
      "\n",
      "Date: 2018-01-07\n",
      "https://spotifycharts.com/regional/ph/daily/2018-01-07/download\n"
     ]
    },
    {
     "name": "stderr",
     "output_type": "stream",
     "text": [
      "\r\n",
      "Collecting chart data from ph: 7it [00:14,  2.06s/it]"
     ]
    },
    {
     "name": "stdout",
     "output_type": "stream",
     "text": [
      "\n",
      "Date: 2018-01-08\n",
      "https://spotifycharts.com/regional/ph/daily/2018-01-08/download\n"
     ]
    },
    {
     "name": "stderr",
     "output_type": "stream",
     "text": [
      "\r\n",
      "Collecting chart data from ph: 8it [00:16,  2.00s/it]"
     ]
    },
    {
     "name": "stdout",
     "output_type": "stream",
     "text": [
      "\n",
      "Date: 2018-01-09\n",
      "https://spotifycharts.com/regional/ph/daily/2018-01-09/download\n"
     ]
    },
    {
     "name": "stderr",
     "output_type": "stream",
     "text": [
      "\r\n",
      "Collecting chart data from ph: 9it [00:18,  2.01s/it]"
     ]
    },
    {
     "name": "stdout",
     "output_type": "stream",
     "text": [
      "\n",
      "Date: 2018-01-10\n",
      "https://spotifycharts.com/regional/ph/daily/2018-01-10/download\n"
     ]
    },
    {
     "name": "stderr",
     "output_type": "stream",
     "text": [
      "\r\n",
      "Collecting chart data from ph: 10it [00:20,  1.96s/it]"
     ]
    },
    {
     "name": "stdout",
     "output_type": "stream",
     "text": [
      "\n",
      "Date: 2018-01-11\n",
      "https://spotifycharts.com/regional/ph/daily/2018-01-11/download\n"
     ]
    },
    {
     "name": "stderr",
     "output_type": "stream",
     "text": [
      "\r\n",
      "Collecting chart data from ph: 11it [00:22,  1.96s/it]"
     ]
    },
    {
     "name": "stdout",
     "output_type": "stream",
     "text": [
      "\n",
      "Date: 2018-01-12\n",
      "https://spotifycharts.com/regional/ph/daily/2018-01-12/download\n"
     ]
    },
    {
     "name": "stderr",
     "output_type": "stream",
     "text": [
      "\r\n",
      "Collecting chart data from ph: 12it [00:24,  1.98s/it]"
     ]
    },
    {
     "name": "stdout",
     "output_type": "stream",
     "text": [
      "\n",
      "Date: 2018-01-13\n",
      "https://spotifycharts.com/regional/ph/daily/2018-01-13/download\n"
     ]
    },
    {
     "name": "stderr",
     "output_type": "stream",
     "text": [
      "\r\n",
      "Collecting chart data from ph: 13it [00:26,  2.02s/it]"
     ]
    },
    {
     "name": "stdout",
     "output_type": "stream",
     "text": [
      "\n",
      "Date: 2018-01-14\n",
      "https://spotifycharts.com/regional/ph/daily/2018-01-14/download\n"
     ]
    },
    {
     "name": "stderr",
     "output_type": "stream",
     "text": [
      "\r\n",
      "Collecting chart data from ph: 14it [00:28,  1.97s/it]"
     ]
    },
    {
     "name": "stdout",
     "output_type": "stream",
     "text": [
      "\n",
      "Date: 2018-01-15\n",
      "https://spotifycharts.com/regional/ph/daily/2018-01-15/download\n"
     ]
    },
    {
     "name": "stderr",
     "output_type": "stream",
     "text": [
      "\r\n",
      "Collecting chart data from ph: 15it [00:30,  1.99s/it]"
     ]
    },
    {
     "name": "stdout",
     "output_type": "stream",
     "text": [
      "\n",
      "Date: 2018-01-16\n",
      "https://spotifycharts.com/regional/ph/daily/2018-01-16/download\n"
     ]
    },
    {
     "name": "stderr",
     "output_type": "stream",
     "text": [
      "\r\n",
      "Collecting chart data from ph: 16it [00:32,  1.94s/it]"
     ]
    },
    {
     "name": "stdout",
     "output_type": "stream",
     "text": [
      "\n",
      "Date: 2018-01-17\n",
      "https://spotifycharts.com/regional/ph/daily/2018-01-17/download\n"
     ]
    },
    {
     "name": "stderr",
     "output_type": "stream",
     "text": [
      "\r\n",
      "Collecting chart data from ph: 17it [00:34,  1.90s/it]"
     ]
    },
    {
     "name": "stdout",
     "output_type": "stream",
     "text": [
      "\n",
      "Date: 2018-01-18\n",
      "https://spotifycharts.com/regional/ph/daily/2018-01-18/download\n"
     ]
    },
    {
     "name": "stderr",
     "output_type": "stream",
     "text": [
      "\r\n",
      "Collecting chart data from ph: 18it [00:36,  1.95s/it]"
     ]
    },
    {
     "name": "stdout",
     "output_type": "stream",
     "text": [
      "\n",
      "Date: 2018-01-19\n",
      "https://spotifycharts.com/regional/ph/daily/2018-01-19/download\n"
     ]
    },
    {
     "name": "stderr",
     "output_type": "stream",
     "text": [
      "\r\n",
      "Collecting chart data from ph: 19it [00:38,  1.96s/it]"
     ]
    },
    {
     "name": "stdout",
     "output_type": "stream",
     "text": [
      "\n",
      "Date: 2018-01-20\n",
      "https://spotifycharts.com/regional/ph/daily/2018-01-20/download\n"
     ]
    },
    {
     "name": "stderr",
     "output_type": "stream",
     "text": [
      "\r\n",
      "Collecting chart data from ph: 20it [00:40,  1.90s/it]"
     ]
    },
    {
     "name": "stdout",
     "output_type": "stream",
     "text": [
      "\n",
      "Date: 2018-01-21\n",
      "https://spotifycharts.com/regional/ph/daily/2018-01-21/download\n"
     ]
    },
    {
     "name": "stderr",
     "output_type": "stream",
     "text": [
      "\r\n",
      "Collecting chart data from ph: 21it [00:41,  1.87s/it]"
     ]
    },
    {
     "name": "stdout",
     "output_type": "stream",
     "text": [
      "\n",
      "Date: 2018-01-22\n",
      "https://spotifycharts.com/regional/ph/daily/2018-01-22/download\n"
     ]
    },
    {
     "name": "stderr",
     "output_type": "stream",
     "text": [
      "\r\n",
      "Collecting chart data from ph: 22it [00:43,  1.88s/it]"
     ]
    },
    {
     "name": "stdout",
     "output_type": "stream",
     "text": [
      "\n",
      "Date: 2018-01-23\n",
      "https://spotifycharts.com/regional/ph/daily/2018-01-23/download\n"
     ]
    },
    {
     "name": "stderr",
     "output_type": "stream",
     "text": [
      "\r\n",
      "Collecting chart data from ph: 23it [00:45,  1.92s/it]"
     ]
    },
    {
     "name": "stdout",
     "output_type": "stream",
     "text": [
      "\n",
      "Date: 2018-01-24\n",
      "https://spotifycharts.com/regional/ph/daily/2018-01-24/download\n"
     ]
    },
    {
     "name": "stderr",
     "output_type": "stream",
     "text": [
      "\r\n",
      "Collecting chart data from ph: 24it [00:47,  1.88s/it]"
     ]
    },
    {
     "name": "stdout",
     "output_type": "stream",
     "text": [
      "\n",
      "Date: 2018-01-25\n",
      "https://spotifycharts.com/regional/ph/daily/2018-01-25/download\n"
     ]
    },
    {
     "name": "stderr",
     "output_type": "stream",
     "text": [
      "\r\n",
      "Collecting chart data from ph: 25it [00:49,  1.88s/it]"
     ]
    },
    {
     "name": "stdout",
     "output_type": "stream",
     "text": [
      "\n",
      "Date: 2018-01-26\n",
      "https://spotifycharts.com/regional/ph/daily/2018-01-26/download\n"
     ]
    },
    {
     "name": "stderr",
     "output_type": "stream",
     "text": [
      "\r\n",
      "Collecting chart data from ph: 26it [00:51,  1.87s/it]"
     ]
    },
    {
     "name": "stdout",
     "output_type": "stream",
     "text": [
      "\n",
      "Date: 2018-01-27\n",
      "https://spotifycharts.com/regional/ph/daily/2018-01-27/download\n"
     ]
    },
    {
     "name": "stderr",
     "output_type": "stream",
     "text": [
      "\r\n",
      "Collecting chart data from ph: 27it [00:53,  1.86s/it]"
     ]
    },
    {
     "name": "stdout",
     "output_type": "stream",
     "text": [
      "\n",
      "Date: 2018-01-28\n",
      "https://spotifycharts.com/regional/ph/daily/2018-01-28/download\n"
     ]
    },
    {
     "name": "stderr",
     "output_type": "stream",
     "text": [
      "\r\n",
      "Collecting chart data from ph: 28it [00:55,  1.94s/it]"
     ]
    },
    {
     "name": "stdout",
     "output_type": "stream",
     "text": [
      "\n",
      "Date: 2018-01-29\n",
      "https://spotifycharts.com/regional/ph/daily/2018-01-29/download\n"
     ]
    },
    {
     "name": "stderr",
     "output_type": "stream",
     "text": [
      "\r\n",
      "Collecting chart data from ph: 29it [00:57,  1.90s/it]"
     ]
    },
    {
     "name": "stdout",
     "output_type": "stream",
     "text": [
      "\n",
      "Date: 2018-01-30\n",
      "https://spotifycharts.com/regional/ph/daily/2018-01-30/download\n"
     ]
    },
    {
     "name": "stderr",
     "output_type": "stream",
     "text": [
      "\r\n",
      "Collecting chart data from ph: 30it [00:58,  1.87s/it]"
     ]
    },
    {
     "name": "stdout",
     "output_type": "stream",
     "text": [
      "\n",
      "Date: 2018-01-31\n",
      "https://spotifycharts.com/regional/ph/daily/2018-01-31/download\n"
     ]
    },
    {
     "name": "stderr",
     "output_type": "stream",
     "text": [
      "\r\n",
      "Collecting chart data from ph: 31it [01:00,  1.88s/it]"
     ]
    },
    {
     "name": "stdout",
     "output_type": "stream",
     "text": [
      "\n",
      "Date: 2018-02-01\n",
      "https://spotifycharts.com/regional/ph/daily/2018-02-01/download\n"
     ]
    },
    {
     "name": "stderr",
     "output_type": "stream",
     "text": [
      "\r\n",
      "Collecting chart data from ph: 32it [01:02,  1.88s/it]"
     ]
    },
    {
     "name": "stdout",
     "output_type": "stream",
     "text": [
      "\n",
      "Date: 2018-02-02\n",
      "https://spotifycharts.com/regional/ph/daily/2018-02-02/download\n"
     ]
    },
    {
     "name": "stderr",
     "output_type": "stream",
     "text": [
      "\r\n",
      "Collecting chart data from ph: 33it [01:04,  1.91s/it]"
     ]
    },
    {
     "name": "stdout",
     "output_type": "stream",
     "text": [
      "\n",
      "Date: 2018-02-03\n",
      "https://spotifycharts.com/regional/ph/daily/2018-02-03/download\n"
     ]
    },
    {
     "name": "stderr",
     "output_type": "stream",
     "text": [
      "\r\n",
      "Collecting chart data from ph: 34it [01:06,  1.94s/it]"
     ]
    },
    {
     "name": "stdout",
     "output_type": "stream",
     "text": [
      "\n",
      "Date: 2018-02-04\n",
      "https://spotifycharts.com/regional/ph/daily/2018-02-04/download\n"
     ]
    },
    {
     "name": "stderr",
     "output_type": "stream",
     "text": [
      "\r\n",
      "Collecting chart data from ph: 35it [01:08,  2.02s/it]"
     ]
    },
    {
     "name": "stdout",
     "output_type": "stream",
     "text": [
      "\n",
      "Date: 2018-02-05\n",
      "https://spotifycharts.com/regional/ph/daily/2018-02-05/download\n"
     ]
    },
    {
     "name": "stderr",
     "output_type": "stream",
     "text": [
      "\r\n",
      "Collecting chart data from ph: 36it [01:11,  2.13s/it]"
     ]
    },
    {
     "name": "stdout",
     "output_type": "stream",
     "text": [
      "\n",
      "Date: 2018-02-06\n",
      "https://spotifycharts.com/regional/ph/daily/2018-02-06/download\n"
     ]
    },
    {
     "name": "stderr",
     "output_type": "stream",
     "text": [
      "\r\n",
      "Collecting chart data from ph: 37it [01:13,  2.03s/it]"
     ]
    },
    {
     "name": "stdout",
     "output_type": "stream",
     "text": [
      "\n",
      "Date: 2018-02-07\n",
      "https://spotifycharts.com/regional/ph/daily/2018-02-07/download\n"
     ]
    },
    {
     "name": "stderr",
     "output_type": "stream",
     "text": [
      "\r\n",
      "Collecting chart data from ph: 38it [01:15,  2.02s/it]"
     ]
    },
    {
     "name": "stdout",
     "output_type": "stream",
     "text": [
      "\n",
      "Date: 2018-02-08\n",
      "https://spotifycharts.com/regional/ph/daily/2018-02-08/download\n"
     ]
    },
    {
     "name": "stderr",
     "output_type": "stream",
     "text": [
      "\r\n",
      "Collecting chart data from ph: 39it [01:16,  1.95s/it]"
     ]
    },
    {
     "name": "stdout",
     "output_type": "stream",
     "text": [
      "\n",
      "Date: 2018-02-09\n",
      "https://spotifycharts.com/regional/ph/daily/2018-02-09/download\n"
     ]
    },
    {
     "name": "stderr",
     "output_type": "stream",
     "text": [
      "\r\n",
      "Collecting chart data from ph: 40it [01:18,  1.97s/it]"
     ]
    },
    {
     "name": "stdout",
     "output_type": "stream",
     "text": [
      "\n",
      "Date: 2018-02-10\n",
      "https://spotifycharts.com/regional/ph/daily/2018-02-10/download\n"
     ]
    },
    {
     "name": "stderr",
     "output_type": "stream",
     "text": [
      "\r\n",
      "Collecting chart data from ph: 41it [01:20,  1.93s/it]"
     ]
    },
    {
     "name": "stdout",
     "output_type": "stream",
     "text": [
      "\n",
      "Date: 2018-02-11\n",
      "https://spotifycharts.com/regional/ph/daily/2018-02-11/download\n"
     ]
    },
    {
     "name": "stderr",
     "output_type": "stream",
     "text": [
      "\r\n",
      "Collecting chart data from ph: 42it [01:22,  1.86s/it]"
     ]
    },
    {
     "name": "stdout",
     "output_type": "stream",
     "text": [
      "\n",
      "Date: 2018-02-12\n",
      "https://spotifycharts.com/regional/ph/daily/2018-02-12/download\n"
     ]
    },
    {
     "name": "stderr",
     "output_type": "stream",
     "text": [
      "\r\n",
      "Collecting chart data from ph: 43it [01:24,  1.81s/it]"
     ]
    },
    {
     "name": "stdout",
     "output_type": "stream",
     "text": [
      "\n",
      "Date: 2018-02-13\n",
      "https://spotifycharts.com/regional/ph/daily/2018-02-13/download\n"
     ]
    },
    {
     "name": "stderr",
     "output_type": "stream",
     "text": [
      "\r\n",
      "Collecting chart data from ph: 44it [01:25,  1.81s/it]"
     ]
    },
    {
     "name": "stdout",
     "output_type": "stream",
     "text": [
      "\n",
      "Date: 2018-02-14\n",
      "https://spotifycharts.com/regional/ph/daily/2018-02-14/download\n"
     ]
    },
    {
     "name": "stderr",
     "output_type": "stream",
     "text": [
      "\r\n",
      "Collecting chart data from ph: 45it [01:27,  1.84s/it]"
     ]
    },
    {
     "name": "stdout",
     "output_type": "stream",
     "text": [
      "\n",
      "Date: 2018-02-15\n",
      "https://spotifycharts.com/regional/ph/daily/2018-02-15/download\n"
     ]
    },
    {
     "name": "stderr",
     "output_type": "stream",
     "text": [
      "\r\n",
      "Collecting chart data from ph: 46it [01:29,  1.83s/it]"
     ]
    },
    {
     "name": "stdout",
     "output_type": "stream",
     "text": [
      "\n",
      "Date: 2018-02-16\n",
      "https://spotifycharts.com/regional/ph/daily/2018-02-16/download\n"
     ]
    },
    {
     "name": "stderr",
     "output_type": "stream",
     "text": [
      "\r\n",
      "Collecting chart data from ph: 47it [01:31,  1.94s/it]"
     ]
    },
    {
     "name": "stdout",
     "output_type": "stream",
     "text": [
      "\n",
      "Date: 2018-02-17\n",
      "https://spotifycharts.com/regional/ph/daily/2018-02-17/download\n"
     ]
    },
    {
     "name": "stderr",
     "output_type": "stream",
     "text": [
      "\r\n",
      "Collecting chart data from ph: 48it [01:33,  1.92s/it]"
     ]
    },
    {
     "name": "stdout",
     "output_type": "stream",
     "text": [
      "\n",
      "Date: 2018-02-18\n",
      "https://spotifycharts.com/regional/ph/daily/2018-02-18/download\n"
     ]
    },
    {
     "name": "stderr",
     "output_type": "stream",
     "text": [
      "\r\n",
      "Collecting chart data from ph: 49it [01:35,  1.82s/it]"
     ]
    },
    {
     "name": "stdout",
     "output_type": "stream",
     "text": [
      "\n",
      "Date: 2018-02-19\n",
      "https://spotifycharts.com/regional/ph/daily/2018-02-19/download\n"
     ]
    },
    {
     "name": "stderr",
     "output_type": "stream",
     "text": [
      "\r\n",
      "Collecting chart data from ph: 50it [01:37,  1.82s/it]"
     ]
    },
    {
     "name": "stdout",
     "output_type": "stream",
     "text": [
      "\n",
      "Date: 2018-02-20\n",
      "https://spotifycharts.com/regional/ph/daily/2018-02-20/download\n"
     ]
    },
    {
     "name": "stderr",
     "output_type": "stream",
     "text": [
      "\r\n",
      "Collecting chart data from ph: 51it [01:38,  1.79s/it]"
     ]
    },
    {
     "name": "stdout",
     "output_type": "stream",
     "text": [
      "\n",
      "Date: 2018-02-21\n",
      "https://spotifycharts.com/regional/ph/daily/2018-02-21/download\n"
     ]
    },
    {
     "name": "stderr",
     "output_type": "stream",
     "text": [
      "\r\n",
      "Collecting chart data from ph: 52it [01:40,  1.80s/it]"
     ]
    },
    {
     "name": "stdout",
     "output_type": "stream",
     "text": [
      "\n",
      "Date: 2018-02-22\n",
      "https://spotifycharts.com/regional/ph/daily/2018-02-22/download\n"
     ]
    },
    {
     "name": "stderr",
     "output_type": "stream",
     "text": [
      "\r\n",
      "Collecting chart data from ph: 53it [01:42,  1.76s/it]"
     ]
    },
    {
     "name": "stdout",
     "output_type": "stream",
     "text": [
      "\n",
      "Date: 2018-02-23\n",
      "https://spotifycharts.com/regional/ph/daily/2018-02-23/download\n"
     ]
    },
    {
     "name": "stderr",
     "output_type": "stream",
     "text": [
      "\r\n",
      "Collecting chart data from ph: 54it [01:44,  1.85s/it]"
     ]
    },
    {
     "name": "stdout",
     "output_type": "stream",
     "text": [
      "\n",
      "Date: 2018-02-24\n",
      "https://spotifycharts.com/regional/ph/daily/2018-02-24/download\n"
     ]
    },
    {
     "name": "stderr",
     "output_type": "stream",
     "text": [
      "\r\n",
      "Collecting chart data from ph: 55it [01:45,  1.77s/it]"
     ]
    },
    {
     "name": "stdout",
     "output_type": "stream",
     "text": [
      "\n",
      "Date: 2018-02-25\n",
      "https://spotifycharts.com/regional/ph/daily/2018-02-25/download\n"
     ]
    },
    {
     "name": "stderr",
     "output_type": "stream",
     "text": [
      "\r\n",
      "Collecting chart data from ph: 56it [01:47,  1.80s/it]"
     ]
    },
    {
     "name": "stdout",
     "output_type": "stream",
     "text": [
      "\n",
      "Date: 2018-02-26\n",
      "https://spotifycharts.com/regional/ph/daily/2018-02-26/download\n"
     ]
    },
    {
     "name": "stderr",
     "output_type": "stream",
     "text": [
      "\r\n",
      "Collecting chart data from ph: 57it [01:49,  1.87s/it]"
     ]
    },
    {
     "name": "stdout",
     "output_type": "stream",
     "text": [
      "\n",
      "Date: 2018-02-27\n",
      "https://spotifycharts.com/regional/ph/daily/2018-02-27/download\n"
     ]
    },
    {
     "name": "stderr",
     "output_type": "stream",
     "text": [
      "\r\n",
      "Collecting chart data from ph: 58it [01:51,  1.85s/it]"
     ]
    },
    {
     "name": "stdout",
     "output_type": "stream",
     "text": [
      "\n",
      "Date: 2018-02-28\n",
      "https://spotifycharts.com/regional/ph/daily/2018-02-28/download\n"
     ]
    },
    {
     "name": "stderr",
     "output_type": "stream",
     "text": [
      "\r\n",
      "Collecting chart data from ph: 59it [01:53,  1.85s/it]"
     ]
    },
    {
     "name": "stdout",
     "output_type": "stream",
     "text": [
      "\n",
      "Date: 2018-03-01\n",
      "https://spotifycharts.com/regional/ph/daily/2018-03-01/download\n"
     ]
    },
    {
     "name": "stderr",
     "output_type": "stream",
     "text": [
      "\r\n",
      "Collecting chart data from ph: 60it [01:55,  1.82s/it]"
     ]
    },
    {
     "name": "stdout",
     "output_type": "stream",
     "text": [
      "\n",
      "Date: 2018-03-02\n",
      "https://spotifycharts.com/regional/ph/daily/2018-03-02/download\n"
     ]
    },
    {
     "name": "stderr",
     "output_type": "stream",
     "text": [
      "\r\n",
      "Collecting chart data from ph: 61it [01:57,  1.80s/it]"
     ]
    },
    {
     "name": "stdout",
     "output_type": "stream",
     "text": [
      "\n",
      "Date: 2018-03-03\n",
      "https://spotifycharts.com/regional/ph/daily/2018-03-03/download\n"
     ]
    },
    {
     "name": "stderr",
     "output_type": "stream",
     "text": [
      "\r\n",
      "Collecting chart data from ph: 62it [01:58,  1.78s/it]"
     ]
    },
    {
     "name": "stdout",
     "output_type": "stream",
     "text": [
      "\n",
      "Date: 2018-03-04\n",
      "https://spotifycharts.com/regional/ph/daily/2018-03-04/download\n"
     ]
    },
    {
     "name": "stderr",
     "output_type": "stream",
     "text": [
      "\r\n",
      "Collecting chart data from ph: 63it [02:00,  1.78s/it]"
     ]
    },
    {
     "name": "stdout",
     "output_type": "stream",
     "text": [
      "\n",
      "Date: 2018-03-05\n",
      "https://spotifycharts.com/regional/ph/daily/2018-03-05/download\n"
     ]
    },
    {
     "name": "stderr",
     "output_type": "stream",
     "text": [
      "\r\n",
      "Collecting chart data from ph: 64it [02:02,  1.79s/it]"
     ]
    },
    {
     "name": "stdout",
     "output_type": "stream",
     "text": [
      "\n",
      "Date: 2018-03-06\n",
      "https://spotifycharts.com/regional/ph/daily/2018-03-06/download\n"
     ]
    },
    {
     "name": "stderr",
     "output_type": "stream",
     "text": [
      "\r\n",
      "Collecting chart data from ph: 65it [02:04,  1.78s/it]"
     ]
    },
    {
     "name": "stdout",
     "output_type": "stream",
     "text": [
      "\n",
      "Date: 2018-03-07\n",
      "https://spotifycharts.com/regional/ph/daily/2018-03-07/download\n"
     ]
    },
    {
     "name": "stderr",
     "output_type": "stream",
     "text": [
      "\r\n",
      "Collecting chart data from ph: 66it [02:06,  2.04s/it]"
     ]
    },
    {
     "name": "stdout",
     "output_type": "stream",
     "text": [
      "\n",
      "Date: 2018-03-08\n",
      "https://spotifycharts.com/regional/ph/daily/2018-03-08/download\n"
     ]
    },
    {
     "name": "stderr",
     "output_type": "stream",
     "text": [
      "\r\n",
      "Collecting chart data from ph: 67it [02:08,  1.93s/it]"
     ]
    },
    {
     "name": "stdout",
     "output_type": "stream",
     "text": [
      "\n",
      "Date: 2018-03-09\n",
      "https://spotifycharts.com/regional/ph/daily/2018-03-09/download\n"
     ]
    },
    {
     "name": "stderr",
     "output_type": "stream",
     "text": [
      "\r\n",
      "Collecting chart data from ph: 68it [02:10,  1.85s/it]"
     ]
    },
    {
     "name": "stdout",
     "output_type": "stream",
     "text": [
      "\n",
      "Date: 2018-03-10\n",
      "https://spotifycharts.com/regional/ph/daily/2018-03-10/download\n"
     ]
    },
    {
     "name": "stderr",
     "output_type": "stream",
     "text": [
      "\r\n",
      "Collecting chart data from ph: 69it [02:11,  1.85s/it]"
     ]
    },
    {
     "name": "stdout",
     "output_type": "stream",
     "text": [
      "\n",
      "Date: 2018-03-11\n",
      "https://spotifycharts.com/regional/ph/daily/2018-03-11/download\n"
     ]
    },
    {
     "name": "stderr",
     "output_type": "stream",
     "text": [
      "\r\n",
      "Collecting chart data from ph: 70it [02:13,  1.87s/it]"
     ]
    },
    {
     "name": "stdout",
     "output_type": "stream",
     "text": [
      "\n",
      "Date: 2018-03-12\n",
      "https://spotifycharts.com/regional/ph/daily/2018-03-12/download\n"
     ]
    },
    {
     "name": "stderr",
     "output_type": "stream",
     "text": [
      "\r\n",
      "Collecting chart data from ph: 71it [02:15,  1.84s/it]"
     ]
    },
    {
     "name": "stdout",
     "output_type": "stream",
     "text": [
      "\n",
      "Date: 2018-03-13\n",
      "https://spotifycharts.com/regional/ph/daily/2018-03-13/download\n"
     ]
    },
    {
     "name": "stderr",
     "output_type": "stream",
     "text": [
      "\r\n",
      "Collecting chart data from ph: 72it [02:17,  1.83s/it]"
     ]
    },
    {
     "name": "stdout",
     "output_type": "stream",
     "text": [
      "\n",
      "Date: 2018-03-14\n",
      "https://spotifycharts.com/regional/ph/daily/2018-03-14/download\n"
     ]
    },
    {
     "name": "stderr",
     "output_type": "stream",
     "text": [
      "\r\n",
      "Collecting chart data from ph: 73it [02:19,  1.98s/it]"
     ]
    },
    {
     "name": "stdout",
     "output_type": "stream",
     "text": [
      "\n",
      "Date: 2018-03-15\n",
      "https://spotifycharts.com/regional/ph/daily/2018-03-15/download\n"
     ]
    },
    {
     "name": "stderr",
     "output_type": "stream",
     "text": [
      "\r\n",
      "Collecting chart data from ph: 74it [02:21,  1.89s/it]"
     ]
    },
    {
     "name": "stdout",
     "output_type": "stream",
     "text": [
      "\n",
      "Date: 2018-03-16\n",
      "https://spotifycharts.com/regional/ph/daily/2018-03-16/download\n"
     ]
    },
    {
     "name": "stderr",
     "output_type": "stream",
     "text": [
      "\r\n",
      "Collecting chart data from ph: 75it [02:23,  1.90s/it]"
     ]
    },
    {
     "name": "stdout",
     "output_type": "stream",
     "text": [
      "\n",
      "Date: 2018-03-17\n",
      "https://spotifycharts.com/regional/ph/daily/2018-03-17/download\n"
     ]
    },
    {
     "name": "stderr",
     "output_type": "stream",
     "text": [
      "\r\n",
      "Collecting chart data from ph: 76it [02:25,  1.90s/it]"
     ]
    },
    {
     "name": "stdout",
     "output_type": "stream",
     "text": [
      "\n",
      "Date: 2018-03-18\n",
      "https://spotifycharts.com/regional/ph/daily/2018-03-18/download\n"
     ]
    },
    {
     "name": "stderr",
     "output_type": "stream",
     "text": [
      "\r\n",
      "Collecting chart data from ph: 77it [02:27,  1.85s/it]"
     ]
    },
    {
     "name": "stdout",
     "output_type": "stream",
     "text": [
      "\n",
      "Date: 2018-03-19\n",
      "https://spotifycharts.com/regional/ph/daily/2018-03-19/download\n"
     ]
    },
    {
     "name": "stderr",
     "output_type": "stream",
     "text": [
      "\r\n",
      "Collecting chart data from ph: 78it [02:28,  1.84s/it]"
     ]
    },
    {
     "name": "stdout",
     "output_type": "stream",
     "text": [
      "\n",
      "Date: 2018-03-20\n",
      "https://spotifycharts.com/regional/ph/daily/2018-03-20/download\n"
     ]
    },
    {
     "name": "stderr",
     "output_type": "stream",
     "text": [
      "\r\n",
      "Collecting chart data from ph: 79it [02:30,  1.84s/it]"
     ]
    },
    {
     "name": "stdout",
     "output_type": "stream",
     "text": [
      "\n",
      "Date: 2018-03-21\n",
      "https://spotifycharts.com/regional/ph/daily/2018-03-21/download\n"
     ]
    },
    {
     "name": "stderr",
     "output_type": "stream",
     "text": [
      "\r\n",
      "Collecting chart data from ph: 80it [02:32,  1.81s/it]"
     ]
    },
    {
     "name": "stdout",
     "output_type": "stream",
     "text": [
      "\n",
      "Date: 2018-03-22\n",
      "https://spotifycharts.com/regional/ph/daily/2018-03-22/download\n"
     ]
    },
    {
     "name": "stderr",
     "output_type": "stream",
     "text": [
      "\r\n",
      "Collecting chart data from ph: 81it [02:34,  1.77s/it]"
     ]
    },
    {
     "name": "stdout",
     "output_type": "stream",
     "text": [
      "\n",
      "Date: 2018-03-23\n",
      "https://spotifycharts.com/regional/ph/daily/2018-03-23/download\n"
     ]
    },
    {
     "name": "stderr",
     "output_type": "stream",
     "text": [
      "\r\n",
      "Collecting chart data from ph: 82it [02:35,  1.77s/it]"
     ]
    },
    {
     "name": "stdout",
     "output_type": "stream",
     "text": [
      "\n",
      "Date: 2018-03-24\n",
      "https://spotifycharts.com/regional/ph/daily/2018-03-24/download\n"
     ]
    },
    {
     "name": "stderr",
     "output_type": "stream",
     "text": [
      "\r\n",
      "Collecting chart data from ph: 83it [02:39,  2.32s/it]"
     ]
    },
    {
     "name": "stdout",
     "output_type": "stream",
     "text": [
      "\n",
      "Date: 2018-03-25\n",
      "https://spotifycharts.com/regional/ph/daily/2018-03-25/download\n"
     ]
    },
    {
     "name": "stderr",
     "output_type": "stream",
     "text": [
      "\r\n",
      "Collecting chart data from ph: 84it [02:41,  2.16s/it]"
     ]
    },
    {
     "name": "stdout",
     "output_type": "stream",
     "text": [
      "\n",
      "Date: 2018-03-26\n",
      "https://spotifycharts.com/regional/ph/daily/2018-03-26/download\n"
     ]
    },
    {
     "name": "stderr",
     "output_type": "stream",
     "text": [
      "\r\n",
      "Collecting chart data from ph: 85it [02:42,  2.01s/it]"
     ]
    },
    {
     "name": "stdout",
     "output_type": "stream",
     "text": [
      "\n",
      "Date: 2018-03-27\n",
      "https://spotifycharts.com/regional/ph/daily/2018-03-27/download\n"
     ]
    },
    {
     "name": "stderr",
     "output_type": "stream",
     "text": [
      "\r\n",
      "Collecting chart data from ph: 86it [02:44,  1.97s/it]"
     ]
    },
    {
     "name": "stdout",
     "output_type": "stream",
     "text": [
      "\n",
      "Date: 2018-03-28\n",
      "https://spotifycharts.com/regional/ph/daily/2018-03-28/download\n"
     ]
    },
    {
     "name": "stderr",
     "output_type": "stream",
     "text": [
      "\r\n",
      "Collecting chart data from ph: 87it [02:46,  1.89s/it]"
     ]
    },
    {
     "name": "stdout",
     "output_type": "stream",
     "text": [
      "\n",
      "Date: 2018-03-29\n",
      "https://spotifycharts.com/regional/ph/daily/2018-03-29/download\n"
     ]
    },
    {
     "name": "stderr",
     "output_type": "stream",
     "text": [
      "\r\n",
      "Collecting chart data from ph: 88it [02:48,  1.84s/it]"
     ]
    },
    {
     "name": "stdout",
     "output_type": "stream",
     "text": [
      "\n",
      "Date: 2018-03-30\n",
      "https://spotifycharts.com/regional/ph/daily/2018-03-30/download\n"
     ]
    },
    {
     "name": "stderr",
     "output_type": "stream",
     "text": [
      "\r\n",
      "Collecting chart data from ph: 89it [02:50,  1.83s/it]"
     ]
    },
    {
     "name": "stdout",
     "output_type": "stream",
     "text": [
      "\n",
      "Date: 2018-03-31\n",
      "https://spotifycharts.com/regional/ph/daily/2018-03-31/download\n"
     ]
    },
    {
     "name": "stderr",
     "output_type": "stream",
     "text": [
      "\r\n",
      "Collecting chart data from ph: 90it [02:51,  1.80s/it]"
     ]
    },
    {
     "name": "stdout",
     "output_type": "stream",
     "text": [
      "\n",
      "Date: 2018-04-01\n",
      "https://spotifycharts.com/regional/ph/daily/2018-04-01/download\n"
     ]
    },
    {
     "name": "stderr",
     "output_type": "stream",
     "text": [
      "\r\n",
      "Collecting chart data from ph: 91it [02:53,  1.82s/it]"
     ]
    },
    {
     "name": "stdout",
     "output_type": "stream",
     "text": [
      "\n",
      "Date: 2018-04-02\n",
      "https://spotifycharts.com/regional/ph/daily/2018-04-02/download\n"
     ]
    },
    {
     "name": "stderr",
     "output_type": "stream",
     "text": [
      "\r\n",
      "Collecting chart data from ph: 92it [02:55,  1.78s/it]"
     ]
    },
    {
     "name": "stdout",
     "output_type": "stream",
     "text": [
      "\n",
      "Date: 2018-04-03\n",
      "https://spotifycharts.com/regional/ph/daily/2018-04-03/download\n"
     ]
    },
    {
     "name": "stderr",
     "output_type": "stream",
     "text": [
      "\r\n",
      "Collecting chart data from ph: 93it [02:56,  1.74s/it]"
     ]
    },
    {
     "name": "stdout",
     "output_type": "stream",
     "text": [
      "\n",
      "Date: 2018-04-04\n",
      "https://spotifycharts.com/regional/ph/daily/2018-04-04/download\n"
     ]
    },
    {
     "name": "stderr",
     "output_type": "stream",
     "text": [
      "\r\n",
      "Collecting chart data from ph: 94it [02:58,  1.74s/it]"
     ]
    },
    {
     "name": "stdout",
     "output_type": "stream",
     "text": [
      "\n",
      "Date: 2018-04-05\n",
      "https://spotifycharts.com/regional/ph/daily/2018-04-05/download\n"
     ]
    },
    {
     "name": "stderr",
     "output_type": "stream",
     "text": [
      "\r\n",
      "Collecting chart data from ph: 95it [03:00,  1.71s/it]"
     ]
    },
    {
     "name": "stdout",
     "output_type": "stream",
     "text": [
      "\n",
      "Date: 2018-04-06\n",
      "https://spotifycharts.com/regional/ph/daily/2018-04-06/download\n"
     ]
    },
    {
     "name": "stderr",
     "output_type": "stream",
     "text": [
      "\r\n",
      "Collecting chart data from ph: 96it [03:02,  1.73s/it]"
     ]
    },
    {
     "name": "stdout",
     "output_type": "stream",
     "text": [
      "\n",
      "Date: 2018-04-07\n",
      "https://spotifycharts.com/regional/ph/daily/2018-04-07/download\n"
     ]
    },
    {
     "name": "stderr",
     "output_type": "stream",
     "text": [
      "\r\n",
      "Collecting chart data from ph: 97it [03:03,  1.70s/it]"
     ]
    },
    {
     "name": "stdout",
     "output_type": "stream",
     "text": [
      "\n",
      "Date: 2018-04-08\n",
      "https://spotifycharts.com/regional/ph/daily/2018-04-08/download\n"
     ]
    },
    {
     "name": "stderr",
     "output_type": "stream",
     "text": [
      "\r\n",
      "Collecting chart data from ph: 98it [03:05,  1.84s/it]"
     ]
    },
    {
     "name": "stdout",
     "output_type": "stream",
     "text": [
      "\n",
      "Date: 2018-04-09\n",
      "https://spotifycharts.com/regional/ph/daily/2018-04-09/download\n"
     ]
    },
    {
     "name": "stderr",
     "output_type": "stream",
     "text": [
      "\r\n",
      "Collecting chart data from ph: 99it [03:07,  1.81s/it]"
     ]
    },
    {
     "name": "stdout",
     "output_type": "stream",
     "text": [
      "\n",
      "Date: 2018-04-10\n",
      "https://spotifycharts.com/regional/ph/daily/2018-04-10/download\n"
     ]
    },
    {
     "name": "stderr",
     "output_type": "stream",
     "text": [
      "\r\n",
      "Collecting chart data from ph: 100it [03:09,  1.75s/it]"
     ]
    },
    {
     "name": "stdout",
     "output_type": "stream",
     "text": [
      "\n",
      "Date: 2018-04-11\n",
      "https://spotifycharts.com/regional/ph/daily/2018-04-11/download\n"
     ]
    },
    {
     "name": "stderr",
     "output_type": "stream",
     "text": [
      "\r\n",
      "Collecting chart data from ph: 101it [03:10,  1.75s/it]"
     ]
    },
    {
     "name": "stdout",
     "output_type": "stream",
     "text": [
      "\n",
      "Date: 2018-04-12\n",
      "https://spotifycharts.com/regional/ph/daily/2018-04-12/download\n"
     ]
    },
    {
     "name": "stderr",
     "output_type": "stream",
     "text": [
      "\r\n",
      "Collecting chart data from ph: 102it [03:12,  1.78s/it]"
     ]
    },
    {
     "name": "stdout",
     "output_type": "stream",
     "text": [
      "\n",
      "Date: 2018-04-13\n",
      "https://spotifycharts.com/regional/ph/daily/2018-04-13/download\n"
     ]
    },
    {
     "name": "stderr",
     "output_type": "stream",
     "text": [
      "\r\n",
      "Collecting chart data from ph: 103it [03:14,  1.75s/it]"
     ]
    },
    {
     "name": "stdout",
     "output_type": "stream",
     "text": [
      "\n",
      "Date: 2018-04-14\n",
      "https://spotifycharts.com/regional/ph/daily/2018-04-14/download\n"
     ]
    },
    {
     "name": "stderr",
     "output_type": "stream",
     "text": [
      "\r\n",
      "Collecting chart data from ph: 104it [03:16,  1.80s/it]"
     ]
    },
    {
     "name": "stdout",
     "output_type": "stream",
     "text": [
      "\n",
      "Date: 2018-04-15\n",
      "https://spotifycharts.com/regional/ph/daily/2018-04-15/download\n"
     ]
    },
    {
     "name": "stderr",
     "output_type": "stream",
     "text": [
      "\r\n",
      "Collecting chart data from ph: 105it [03:18,  1.79s/it]"
     ]
    },
    {
     "name": "stdout",
     "output_type": "stream",
     "text": [
      "\n",
      "Date: 2018-04-16\n",
      "https://spotifycharts.com/regional/ph/daily/2018-04-16/download\n"
     ]
    },
    {
     "name": "stderr",
     "output_type": "stream",
     "text": [
      "\r\n",
      "Collecting chart data from ph: 106it [03:20,  1.80s/it]"
     ]
    },
    {
     "name": "stdout",
     "output_type": "stream",
     "text": [
      "\n",
      "Date: 2018-04-17\n",
      "https://spotifycharts.com/regional/ph/daily/2018-04-17/download\n"
     ]
    },
    {
     "name": "stderr",
     "output_type": "stream",
     "text": [
      "\r\n",
      "Collecting chart data from ph: 107it [03:21,  1.78s/it]"
     ]
    },
    {
     "name": "stdout",
     "output_type": "stream",
     "text": [
      "\n",
      "Date: 2018-04-18\n",
      "https://spotifycharts.com/regional/ph/daily/2018-04-18/download\n"
     ]
    },
    {
     "name": "stderr",
     "output_type": "stream",
     "text": [
      "\r\n",
      "Collecting chart data from ph: 108it [03:24,  2.06s/it]"
     ]
    },
    {
     "name": "stdout",
     "output_type": "stream",
     "text": [
      "\n",
      "Date: 2018-04-19\n",
      "https://spotifycharts.com/regional/ph/daily/2018-04-19/download\n"
     ]
    },
    {
     "name": "stderr",
     "output_type": "stream",
     "text": [
      "\r\n",
      "Collecting chart data from ph: 109it [03:26,  1.96s/it]"
     ]
    },
    {
     "name": "stdout",
     "output_type": "stream",
     "text": [
      "\n",
      "Date: 2018-04-20\n",
      "https://spotifycharts.com/regional/ph/daily/2018-04-20/download\n"
     ]
    },
    {
     "name": "stderr",
     "output_type": "stream",
     "text": [
      "\r\n",
      "Collecting chart data from ph: 110it [03:27,  1.89s/it]"
     ]
    },
    {
     "name": "stdout",
     "output_type": "stream",
     "text": [
      "\n",
      "Date: 2018-04-21\n",
      "https://spotifycharts.com/regional/ph/daily/2018-04-21/download\n"
     ]
    },
    {
     "name": "stderr",
     "output_type": "stream",
     "text": [
      "\r\n",
      "Collecting chart data from ph: 111it [03:29,  1.85s/it]"
     ]
    },
    {
     "name": "stdout",
     "output_type": "stream",
     "text": [
      "\n",
      "Date: 2018-04-22\n",
      "https://spotifycharts.com/regional/ph/daily/2018-04-22/download\n"
     ]
    },
    {
     "name": "stderr",
     "output_type": "stream",
     "text": [
      "\r\n",
      "Collecting chart data from ph: 112it [03:31,  1.83s/it]"
     ]
    },
    {
     "name": "stdout",
     "output_type": "stream",
     "text": [
      "\n",
      "Date: 2018-04-23\n",
      "https://spotifycharts.com/regional/ph/daily/2018-04-23/download\n"
     ]
    },
    {
     "name": "stderr",
     "output_type": "stream",
     "text": [
      "\r\n",
      "Collecting chart data from ph: 113it [03:33,  1.78s/it]"
     ]
    },
    {
     "name": "stdout",
     "output_type": "stream",
     "text": [
      "\n",
      "Date: 2018-04-24\n",
      "https://spotifycharts.com/regional/ph/daily/2018-04-24/download\n"
     ]
    },
    {
     "name": "stderr",
     "output_type": "stream",
     "text": [
      "\r\n",
      "Collecting chart data from ph: 114it [03:34,  1.79s/it]"
     ]
    },
    {
     "name": "stdout",
     "output_type": "stream",
     "text": [
      "\n",
      "Date: 2018-04-25\n",
      "https://spotifycharts.com/regional/ph/daily/2018-04-25/download\n"
     ]
    },
    {
     "name": "stderr",
     "output_type": "stream",
     "text": [
      "\r\n",
      "Collecting chart data from ph: 115it [03:36,  1.80s/it]"
     ]
    },
    {
     "name": "stdout",
     "output_type": "stream",
     "text": [
      "\n",
      "Date: 2018-04-26\n",
      "https://spotifycharts.com/regional/ph/daily/2018-04-26/download\n"
     ]
    },
    {
     "name": "stderr",
     "output_type": "stream",
     "text": [
      "\r\n",
      "Collecting chart data from ph: 116it [03:38,  1.74s/it]"
     ]
    },
    {
     "name": "stdout",
     "output_type": "stream",
     "text": [
      "\n",
      "Date: 2018-04-27\n",
      "https://spotifycharts.com/regional/ph/daily/2018-04-27/download\n"
     ]
    },
    {
     "name": "stderr",
     "output_type": "stream",
     "text": [
      "\r\n",
      "Collecting chart data from ph: 117it [03:40,  1.81s/it]"
     ]
    },
    {
     "name": "stdout",
     "output_type": "stream",
     "text": [
      "\n",
      "Date: 2018-04-28\n",
      "https://spotifycharts.com/regional/ph/daily/2018-04-28/download\n"
     ]
    },
    {
     "name": "stderr",
     "output_type": "stream",
     "text": [
      "\r\n",
      "Collecting chart data from ph: 118it [03:42,  1.78s/it]"
     ]
    },
    {
     "name": "stdout",
     "output_type": "stream",
     "text": [
      "\n",
      "Date: 2018-04-29\n",
      "https://spotifycharts.com/regional/ph/daily/2018-04-29/download\n"
     ]
    },
    {
     "name": "stderr",
     "output_type": "stream",
     "text": [
      "\r\n",
      "Collecting chart data from ph: 119it [03:43,  1.75s/it]"
     ]
    },
    {
     "name": "stdout",
     "output_type": "stream",
     "text": [
      "\n",
      "Date: 2018-04-30\n",
      "https://spotifycharts.com/regional/ph/daily/2018-04-30/download\n"
     ]
    },
    {
     "name": "stderr",
     "output_type": "stream",
     "text": [
      "\r\n",
      "Collecting chart data from ph: 120it [03:45,  1.76s/it]"
     ]
    },
    {
     "name": "stdout",
     "output_type": "stream",
     "text": [
      "\n",
      "Date: 2018-05-01\n",
      "https://spotifycharts.com/regional/ph/daily/2018-05-01/download\n"
     ]
    },
    {
     "name": "stderr",
     "output_type": "stream",
     "text": [
      "\r\n",
      "Collecting chart data from ph: 121it [03:47,  1.73s/it]"
     ]
    },
    {
     "name": "stdout",
     "output_type": "stream",
     "text": [
      "\n",
      "Date: 2018-05-02\n",
      "https://spotifycharts.com/regional/ph/daily/2018-05-02/download\n"
     ]
    },
    {
     "name": "stderr",
     "output_type": "stream",
     "text": [
      "\r\n",
      "Collecting chart data from ph: 122it [03:48,  1.75s/it]"
     ]
    },
    {
     "name": "stdout",
     "output_type": "stream",
     "text": [
      "\n",
      "Date: 2018-05-03\n",
      "https://spotifycharts.com/regional/ph/daily/2018-05-03/download\n"
     ]
    },
    {
     "name": "stderr",
     "output_type": "stream",
     "text": [
      "\r\n",
      "Collecting chart data from ph: 123it [03:50,  1.73s/it]"
     ]
    },
    {
     "name": "stdout",
     "output_type": "stream",
     "text": [
      "\n",
      "Date: 2018-05-04\n",
      "https://spotifycharts.com/regional/ph/daily/2018-05-04/download\n"
     ]
    },
    {
     "name": "stderr",
     "output_type": "stream",
     "text": [
      "\r\n",
      "Collecting chart data from ph: 124it [03:52,  1.74s/it]"
     ]
    },
    {
     "name": "stdout",
     "output_type": "stream",
     "text": [
      "\n",
      "Date: 2018-05-05\n",
      "https://spotifycharts.com/regional/ph/daily/2018-05-05/download\n"
     ]
    },
    {
     "name": "stderr",
     "output_type": "stream",
     "text": [
      "\r\n",
      "Collecting chart data from ph: 125it [03:54,  1.75s/it]"
     ]
    },
    {
     "name": "stdout",
     "output_type": "stream",
     "text": [
      "\n",
      "Date: 2018-05-06\n",
      "https://spotifycharts.com/regional/ph/daily/2018-05-06/download\n"
     ]
    },
    {
     "name": "stderr",
     "output_type": "stream",
     "text": [
      "\r\n",
      "Collecting chart data from ph: 126it [03:55,  1.76s/it]"
     ]
    },
    {
     "name": "stdout",
     "output_type": "stream",
     "text": [
      "\n",
      "Date: 2018-05-07\n",
      "https://spotifycharts.com/regional/ph/daily/2018-05-07/download\n"
     ]
    },
    {
     "name": "stderr",
     "output_type": "stream",
     "text": [
      "\r\n",
      "Collecting chart data from ph: 127it [03:57,  1.74s/it]"
     ]
    },
    {
     "name": "stdout",
     "output_type": "stream",
     "text": [
      "\n",
      "Date: 2018-05-08\n",
      "https://spotifycharts.com/regional/ph/daily/2018-05-08/download\n"
     ]
    },
    {
     "name": "stderr",
     "output_type": "stream",
     "text": [
      "\r\n",
      "Collecting chart data from ph: 128it [03:59,  1.78s/it]"
     ]
    },
    {
     "name": "stdout",
     "output_type": "stream",
     "text": [
      "\n",
      "Date: 2018-05-09\n",
      "https://spotifycharts.com/regional/ph/daily/2018-05-09/download\n"
     ]
    },
    {
     "name": "stderr",
     "output_type": "stream",
     "text": [
      "\r\n",
      "Collecting chart data from ph: 129it [04:01,  1.80s/it]"
     ]
    },
    {
     "name": "stdout",
     "output_type": "stream",
     "text": [
      "\n",
      "Date: 2018-05-10\n",
      "https://spotifycharts.com/regional/ph/daily/2018-05-10/download\n"
     ]
    },
    {
     "name": "stderr",
     "output_type": "stream",
     "text": [
      "\r\n",
      "Collecting chart data from ph: 130it [04:03,  1.77s/it]"
     ]
    },
    {
     "name": "stdout",
     "output_type": "stream",
     "text": [
      "\n",
      "Date: 2018-05-11\n",
      "https://spotifycharts.com/regional/ph/daily/2018-05-11/download\n"
     ]
    },
    {
     "name": "stderr",
     "output_type": "stream",
     "text": [
      "\r\n",
      "Collecting chart data from ph: 131it [04:05,  1.84s/it]"
     ]
    },
    {
     "name": "stdout",
     "output_type": "stream",
     "text": [
      "\n",
      "Date: 2018-05-12\n",
      "https://spotifycharts.com/regional/ph/daily/2018-05-12/download\n"
     ]
    },
    {
     "name": "stderr",
     "output_type": "stream",
     "text": [
      "\r\n",
      "Collecting chart data from ph: 132it [04:06,  1.85s/it]"
     ]
    },
    {
     "name": "stdout",
     "output_type": "stream",
     "text": [
      "\n",
      "Date: 2018-05-13\n",
      "https://spotifycharts.com/regional/ph/daily/2018-05-13/download\n"
     ]
    },
    {
     "name": "stderr",
     "output_type": "stream",
     "text": [
      "\r\n",
      "Collecting chart data from ph: 133it [04:08,  1.88s/it]"
     ]
    },
    {
     "name": "stdout",
     "output_type": "stream",
     "text": [
      "\n",
      "Date: 2018-05-14\n",
      "https://spotifycharts.com/regional/ph/daily/2018-05-14/download\n"
     ]
    },
    {
     "name": "stderr",
     "output_type": "stream",
     "text": [
      "\r\n",
      "Collecting chart data from ph: 134it [04:10,  1.83s/it]"
     ]
    },
    {
     "name": "stdout",
     "output_type": "stream",
     "text": [
      "\n",
      "Date: 2018-05-15\n",
      "https://spotifycharts.com/regional/ph/daily/2018-05-15/download\n"
     ]
    },
    {
     "name": "stderr",
     "output_type": "stream",
     "text": [
      "\r\n",
      "Collecting chart data from ph: 135it [04:12,  1.83s/it]"
     ]
    },
    {
     "name": "stdout",
     "output_type": "stream",
     "text": [
      "\n",
      "Date: 2018-05-16\n",
      "https://spotifycharts.com/regional/ph/daily/2018-05-16/download\n"
     ]
    },
    {
     "name": "stderr",
     "output_type": "stream",
     "text": [
      "\r\n",
      "Collecting chart data from ph: 136it [04:14,  1.87s/it]"
     ]
    },
    {
     "name": "stdout",
     "output_type": "stream",
     "text": [
      "\n",
      "Date: 2018-05-17\n",
      "https://spotifycharts.com/regional/ph/daily/2018-05-17/download\n"
     ]
    },
    {
     "name": "stderr",
     "output_type": "stream",
     "text": [
      "\r\n",
      "Collecting chart data from ph: 137it [04:16,  1.87s/it]"
     ]
    },
    {
     "name": "stdout",
     "output_type": "stream",
     "text": [
      "\n",
      "Date: 2018-05-18\n",
      "https://spotifycharts.com/regional/ph/daily/2018-05-18/download\n"
     ]
    },
    {
     "name": "stderr",
     "output_type": "stream",
     "text": [
      "\r\n",
      "Collecting chart data from ph: 138it [04:18,  1.83s/it]"
     ]
    },
    {
     "name": "stdout",
     "output_type": "stream",
     "text": [
      "\n",
      "Date: 2018-05-19\n",
      "https://spotifycharts.com/regional/ph/daily/2018-05-19/download\n"
     ]
    },
    {
     "name": "stderr",
     "output_type": "stream",
     "text": [
      "\r\n",
      "Collecting chart data from ph: 139it [04:19,  1.85s/it]"
     ]
    },
    {
     "name": "stdout",
     "output_type": "stream",
     "text": [
      "\n",
      "Date: 2018-05-20\n",
      "https://spotifycharts.com/regional/ph/daily/2018-05-20/download\n"
     ]
    },
    {
     "name": "stderr",
     "output_type": "stream",
     "text": [
      "\r\n",
      "Collecting chart data from ph: 140it [04:21,  1.85s/it]"
     ]
    },
    {
     "name": "stdout",
     "output_type": "stream",
     "text": [
      "\n",
      "Date: 2018-05-21\n",
      "https://spotifycharts.com/regional/ph/daily/2018-05-21/download\n"
     ]
    },
    {
     "name": "stderr",
     "output_type": "stream",
     "text": [
      "\r\n",
      "Collecting chart data from ph: 141it [04:23,  1.84s/it]"
     ]
    },
    {
     "name": "stdout",
     "output_type": "stream",
     "text": [
      "\n",
      "Date: 2018-05-22\n",
      "https://spotifycharts.com/regional/ph/daily/2018-05-22/download\n"
     ]
    },
    {
     "name": "stderr",
     "output_type": "stream",
     "text": [
      "\r\n",
      "Collecting chart data from ph: 142it [04:25,  1.83s/it]"
     ]
    },
    {
     "name": "stdout",
     "output_type": "stream",
     "text": [
      "\n",
      "Date: 2018-05-23\n",
      "https://spotifycharts.com/regional/ph/daily/2018-05-23/download\n"
     ]
    },
    {
     "name": "stderr",
     "output_type": "stream",
     "text": [
      "\r\n",
      "Collecting chart data from ph: 143it [04:27,  1.84s/it]"
     ]
    },
    {
     "name": "stdout",
     "output_type": "stream",
     "text": [
      "\n",
      "Date: 2018-05-24\n",
      "https://spotifycharts.com/regional/ph/daily/2018-05-24/download\n"
     ]
    },
    {
     "name": "stderr",
     "output_type": "stream",
     "text": [
      "\r\n",
      "Collecting chart data from ph: 144it [04:29,  1.86s/it]"
     ]
    },
    {
     "name": "stdout",
     "output_type": "stream",
     "text": [
      "\n",
      "Date: 2018-05-25\n",
      "https://spotifycharts.com/regional/ph/daily/2018-05-25/download\n"
     ]
    },
    {
     "name": "stderr",
     "output_type": "stream",
     "text": [
      "\r\n",
      "Collecting chart data from ph: 145it [04:30,  1.85s/it]"
     ]
    },
    {
     "name": "stdout",
     "output_type": "stream",
     "text": [
      "\n",
      "Date: 2018-05-26\n",
      "https://spotifycharts.com/regional/ph/daily/2018-05-26/download\n"
     ]
    },
    {
     "name": "stderr",
     "output_type": "stream",
     "text": [
      "\r\n",
      "Collecting chart data from ph: 146it [04:32,  1.81s/it]"
     ]
    },
    {
     "name": "stdout",
     "output_type": "stream",
     "text": [
      "\n",
      "Date: 2018-05-27\n",
      "https://spotifycharts.com/regional/ph/daily/2018-05-27/download\n"
     ]
    },
    {
     "name": "stderr",
     "output_type": "stream",
     "text": [
      "\r\n",
      "Collecting chart data from ph: 147it [04:34,  1.81s/it]"
     ]
    },
    {
     "name": "stdout",
     "output_type": "stream",
     "text": [
      "\n",
      "Date: 2018-05-28\n",
      "https://spotifycharts.com/regional/ph/daily/2018-05-28/download\n"
     ]
    },
    {
     "name": "stderr",
     "output_type": "stream",
     "text": [
      "\r\n",
      "Collecting chart data from ph: 148it [04:36,  1.86s/it]"
     ]
    },
    {
     "name": "stdout",
     "output_type": "stream",
     "text": [
      "\n",
      "Date: 2018-05-29\n",
      "https://spotifycharts.com/regional/ph/daily/2018-05-29/download\n"
     ]
    },
    {
     "name": "stderr",
     "output_type": "stream",
     "text": [
      "\r\n",
      "Collecting chart data from ph: 149it [04:38,  1.82s/it]"
     ]
    },
    {
     "name": "stdout",
     "output_type": "stream",
     "text": [
      "\n",
      "Date: 2018-05-30\n",
      "https://spotifycharts.com/regional/ph/daily/2018-05-30/download\n"
     ]
    },
    {
     "name": "stderr",
     "output_type": "stream",
     "text": [
      "\r\n",
      "Collecting chart data from ph: 150it [04:40,  1.84s/it]"
     ]
    },
    {
     "name": "stdout",
     "output_type": "stream",
     "text": [
      "\n",
      "Date: 2018-05-31\n",
      "https://spotifycharts.com/regional/ph/daily/2018-05-31/download\n"
     ]
    },
    {
     "name": "stderr",
     "output_type": "stream",
     "text": [
      "\r\n",
      "Collecting chart data from ph: 151it [04:41,  1.80s/it]"
     ]
    },
    {
     "name": "stdout",
     "output_type": "stream",
     "text": [
      "\n",
      "Date: 2018-06-01\n",
      "https://spotifycharts.com/regional/ph/daily/2018-06-01/download\n"
     ]
    },
    {
     "name": "stderr",
     "output_type": "stream",
     "text": [
      "\r\n",
      "Collecting chart data from ph: 152it [04:43,  1.77s/it]"
     ]
    },
    {
     "name": "stdout",
     "output_type": "stream",
     "text": [
      "\n",
      "Date: 2018-06-02\n",
      "https://spotifycharts.com/regional/ph/daily/2018-06-02/download\n"
     ]
    },
    {
     "name": "stderr",
     "output_type": "stream",
     "text": [
      "\r\n",
      "Collecting chart data from ph: 153it [04:45,  1.78s/it]"
     ]
    },
    {
     "name": "stdout",
     "output_type": "stream",
     "text": [
      "\n",
      "Date: 2018-06-03\n",
      "https://spotifycharts.com/regional/ph/daily/2018-06-03/download\n"
     ]
    },
    {
     "name": "stderr",
     "output_type": "stream",
     "text": [
      "\r\n",
      "Collecting chart data from ph: 154it [04:47,  1.79s/it]"
     ]
    },
    {
     "name": "stdout",
     "output_type": "stream",
     "text": [
      "\n",
      "Date: 2018-06-04\n",
      "https://spotifycharts.com/regional/ph/daily/2018-06-04/download\n"
     ]
    },
    {
     "name": "stderr",
     "output_type": "stream",
     "text": [
      "\r\n",
      "Collecting chart data from ph: 155it [04:48,  1.76s/it]"
     ]
    },
    {
     "name": "stdout",
     "output_type": "stream",
     "text": [
      "\n",
      "Date: 2018-06-05\n",
      "https://spotifycharts.com/regional/ph/daily/2018-06-05/download\n"
     ]
    },
    {
     "name": "stderr",
     "output_type": "stream",
     "text": [
      "\r\n",
      "Collecting chart data from ph: 156it [04:50,  1.73s/it]"
     ]
    },
    {
     "name": "stdout",
     "output_type": "stream",
     "text": [
      "\n",
      "Date: 2018-06-06\n",
      "https://spotifycharts.com/regional/ph/daily/2018-06-06/download\n"
     ]
    },
    {
     "name": "stderr",
     "output_type": "stream",
     "text": [
      "\r\n",
      "Collecting chart data from ph: 157it [04:52,  1.75s/it]"
     ]
    },
    {
     "name": "stdout",
     "output_type": "stream",
     "text": [
      "\n",
      "Date: 2018-06-07\n",
      "https://spotifycharts.com/regional/ph/daily/2018-06-07/download\n"
     ]
    },
    {
     "name": "stderr",
     "output_type": "stream",
     "text": [
      "\r\n",
      "Collecting chart data from ph: 158it [04:54,  1.76s/it]"
     ]
    },
    {
     "name": "stdout",
     "output_type": "stream",
     "text": [
      "\n",
      "Date: 2018-06-08\n",
      "https://spotifycharts.com/regional/ph/daily/2018-06-08/download\n"
     ]
    },
    {
     "name": "stderr",
     "output_type": "stream",
     "text": [
      "\r\n",
      "Collecting chart data from ph: 159it [04:55,  1.74s/it]"
     ]
    },
    {
     "name": "stdout",
     "output_type": "stream",
     "text": [
      "\n",
      "Date: 2018-06-09\n",
      "https://spotifycharts.com/regional/ph/daily/2018-06-09/download\n"
     ]
    },
    {
     "name": "stderr",
     "output_type": "stream",
     "text": [
      "\r\n",
      "Collecting chart data from ph: 160it [04:57,  1.73s/it]"
     ]
    },
    {
     "name": "stdout",
     "output_type": "stream",
     "text": [
      "\n",
      "Date: 2018-06-10\n",
      "https://spotifycharts.com/regional/ph/daily/2018-06-10/download\n"
     ]
    },
    {
     "name": "stderr",
     "output_type": "stream",
     "text": [
      "\r\n",
      "Collecting chart data from ph: 161it [04:59,  1.70s/it]"
     ]
    },
    {
     "name": "stdout",
     "output_type": "stream",
     "text": [
      "\n",
      "Date: 2018-06-11\n",
      "https://spotifycharts.com/regional/ph/daily/2018-06-11/download\n"
     ]
    },
    {
     "name": "stderr",
     "output_type": "stream",
     "text": [
      "\r\n",
      "Collecting chart data from ph: 162it [05:00,  1.70s/it]"
     ]
    },
    {
     "name": "stdout",
     "output_type": "stream",
     "text": [
      "\n",
      "Date: 2018-06-12\n",
      "https://spotifycharts.com/regional/ph/daily/2018-06-12/download\n"
     ]
    },
    {
     "name": "stderr",
     "output_type": "stream",
     "text": [
      "\r\n",
      "Collecting chart data from ph: 163it [05:02,  1.74s/it]"
     ]
    },
    {
     "name": "stdout",
     "output_type": "stream",
     "text": [
      "\n",
      "Date: 2018-06-13\n",
      "https://spotifycharts.com/regional/ph/daily/2018-06-13/download\n"
     ]
    },
    {
     "name": "stderr",
     "output_type": "stream",
     "text": [
      "\r\n",
      "Collecting chart data from ph: 164it [05:04,  1.70s/it]"
     ]
    },
    {
     "name": "stdout",
     "output_type": "stream",
     "text": [
      "\n",
      "Date: 2018-06-14\n",
      "https://spotifycharts.com/regional/ph/daily/2018-06-14/download\n"
     ]
    },
    {
     "name": "stderr",
     "output_type": "stream",
     "text": [
      "\r\n",
      "Collecting chart data from ph: 165it [05:05,  1.68s/it]"
     ]
    },
    {
     "name": "stdout",
     "output_type": "stream",
     "text": [
      "\n",
      "Date: 2018-06-15\n",
      "https://spotifycharts.com/regional/ph/daily/2018-06-15/download\n"
     ]
    },
    {
     "name": "stderr",
     "output_type": "stream",
     "text": [
      "\r\n",
      "Collecting chart data from ph: 166it [05:07,  1.65s/it]"
     ]
    },
    {
     "name": "stdout",
     "output_type": "stream",
     "text": [
      "\n",
      "Date: 2018-06-16\n",
      "https://spotifycharts.com/regional/ph/daily/2018-06-16/download\n"
     ]
    },
    {
     "name": "stderr",
     "output_type": "stream",
     "text": [
      "\r\n",
      "Collecting chart data from ph: 167it [05:09,  1.65s/it]"
     ]
    },
    {
     "name": "stdout",
     "output_type": "stream",
     "text": [
      "\n",
      "Date: 2018-06-17\n",
      "https://spotifycharts.com/regional/ph/daily/2018-06-17/download\n"
     ]
    },
    {
     "name": "stderr",
     "output_type": "stream",
     "text": [
      "\r\n",
      "Collecting chart data from ph: 168it [05:10,  1.63s/it]"
     ]
    },
    {
     "name": "stdout",
     "output_type": "stream",
     "text": [
      "\n",
      "Date: 2018-06-18\n",
      "https://spotifycharts.com/regional/ph/daily/2018-06-18/download\n"
     ]
    },
    {
     "name": "stderr",
     "output_type": "stream",
     "text": [
      "\r\n",
      "Collecting chart data from ph: 169it [05:12,  1.71s/it]"
     ]
    },
    {
     "name": "stdout",
     "output_type": "stream",
     "text": [
      "\n",
      "Date: 2018-06-19\n",
      "https://spotifycharts.com/regional/ph/daily/2018-06-19/download\n"
     ]
    },
    {
     "name": "stderr",
     "output_type": "stream",
     "text": [
      "\r\n",
      "Collecting chart data from ph: 170it [05:14,  1.71s/it]"
     ]
    },
    {
     "name": "stdout",
     "output_type": "stream",
     "text": [
      "\n",
      "Date: 2018-06-20\n",
      "https://spotifycharts.com/regional/ph/daily/2018-06-20/download\n"
     ]
    },
    {
     "name": "stderr",
     "output_type": "stream",
     "text": [
      "\r\n",
      "Collecting chart data from ph: 171it [05:15,  1.64s/it]"
     ]
    },
    {
     "name": "stdout",
     "output_type": "stream",
     "text": [
      "\n",
      "Date: 2018-06-21\n",
      "https://spotifycharts.com/regional/ph/daily/2018-06-21/download\n"
     ]
    },
    {
     "name": "stderr",
     "output_type": "stream",
     "text": [
      "\r\n",
      "Collecting chart data from ph: 172it [05:17,  1.61s/it]"
     ]
    },
    {
     "name": "stdout",
     "output_type": "stream",
     "text": [
      "\n",
      "Date: 2018-06-22\n",
      "https://spotifycharts.com/regional/ph/daily/2018-06-22/download\n"
     ]
    },
    {
     "name": "stderr",
     "output_type": "stream",
     "text": [
      "\r\n",
      "Collecting chart data from ph: 173it [05:18,  1.59s/it]"
     ]
    },
    {
     "name": "stdout",
     "output_type": "stream",
     "text": [
      "\n",
      "Date: 2018-06-23\n",
      "https://spotifycharts.com/regional/ph/daily/2018-06-23/download\n"
     ]
    },
    {
     "name": "stderr",
     "output_type": "stream",
     "text": [
      "\r\n",
      "Collecting chart data from ph: 174it [05:20,  1.58s/it]"
     ]
    },
    {
     "name": "stdout",
     "output_type": "stream",
     "text": [
      "\n",
      "Date: 2018-06-24\n",
      "https://spotifycharts.com/regional/ph/daily/2018-06-24/download\n"
     ]
    },
    {
     "name": "stderr",
     "output_type": "stream",
     "text": [
      "\r\n",
      "Collecting chart data from ph: 175it [05:22,  1.61s/it]"
     ]
    },
    {
     "name": "stdout",
     "output_type": "stream",
     "text": [
      "\n",
      "Date: 2018-06-25\n",
      "https://spotifycharts.com/regional/ph/daily/2018-06-25/download\n"
     ]
    },
    {
     "name": "stderr",
     "output_type": "stream",
     "text": [
      "\r\n",
      "Collecting chart data from ph: 176it [05:23,  1.62s/it]"
     ]
    },
    {
     "name": "stdout",
     "output_type": "stream",
     "text": [
      "\n",
      "Date: 2018-06-26\n",
      "https://spotifycharts.com/regional/ph/daily/2018-06-26/download\n"
     ]
    },
    {
     "name": "stderr",
     "output_type": "stream",
     "text": [
      "\r\n",
      "Collecting chart data from ph: 177it [05:25,  1.68s/it]"
     ]
    },
    {
     "name": "stdout",
     "output_type": "stream",
     "text": [
      "\n",
      "Date: 2018-06-27\n",
      "https://spotifycharts.com/regional/ph/daily/2018-06-27/download\n"
     ]
    },
    {
     "name": "stderr",
     "output_type": "stream",
     "text": [
      "\r\n",
      "Collecting chart data from ph: 178it [05:27,  1.64s/it]"
     ]
    },
    {
     "name": "stdout",
     "output_type": "stream",
     "text": [
      "\n",
      "Date: 2018-06-28\n",
      "https://spotifycharts.com/regional/ph/daily/2018-06-28/download\n"
     ]
    },
    {
     "name": "stderr",
     "output_type": "stream",
     "text": [
      "\r\n",
      "Collecting chart data from ph: 179it [05:28,  1.64s/it]"
     ]
    },
    {
     "name": "stdout",
     "output_type": "stream",
     "text": [
      "\n",
      "Date: 2018-06-29\n",
      "https://spotifycharts.com/regional/ph/daily/2018-06-29/download\n"
     ]
    },
    {
     "name": "stderr",
     "output_type": "stream",
     "text": [
      "\r\n",
      "Collecting chart data from ph: 180it [05:30,  1.62s/it]"
     ]
    },
    {
     "name": "stdout",
     "output_type": "stream",
     "text": [
      "\n",
      "Date: 2018-06-30\n",
      "https://spotifycharts.com/regional/ph/daily/2018-06-30/download\n"
     ]
    },
    {
     "name": "stderr",
     "output_type": "stream",
     "text": [
      "\r\n",
      "Collecting chart data from ph: 181it [05:31,  1.59s/it]"
     ]
    },
    {
     "name": "stdout",
     "output_type": "stream",
     "text": [
      "\n",
      "Date: 2018-07-01\n",
      "https://spotifycharts.com/regional/ph/daily/2018-07-01/download\n"
     ]
    },
    {
     "name": "stderr",
     "output_type": "stream",
     "text": [
      "\r\n",
      "Collecting chart data from ph: 182it [05:33,  1.58s/it]"
     ]
    },
    {
     "name": "stdout",
     "output_type": "stream",
     "text": [
      "\n",
      "Date: 2018-07-02\n",
      "https://spotifycharts.com/regional/ph/daily/2018-07-02/download\n"
     ]
    },
    {
     "name": "stderr",
     "output_type": "stream",
     "text": [
      "\r\n",
      "Collecting chart data from ph: 183it [05:35,  1.62s/it]"
     ]
    },
    {
     "name": "stdout",
     "output_type": "stream",
     "text": [
      "\n",
      "Date: 2018-07-03\n",
      "https://spotifycharts.com/regional/ph/daily/2018-07-03/download\n"
     ]
    },
    {
     "name": "stderr",
     "output_type": "stream",
     "text": [
      "\r\n",
      "Collecting chart data from ph: 184it [05:36,  1.58s/it]"
     ]
    },
    {
     "name": "stdout",
     "output_type": "stream",
     "text": [
      "\n",
      "Date: 2018-07-04\n",
      "https://spotifycharts.com/regional/ph/daily/2018-07-04/download\n"
     ]
    },
    {
     "name": "stderr",
     "output_type": "stream",
     "text": [
      "\r\n",
      "Collecting chart data from ph: 185it [05:38,  1.59s/it]"
     ]
    },
    {
     "name": "stdout",
     "output_type": "stream",
     "text": [
      "\n",
      "Date: 2018-07-05\n",
      "https://spotifycharts.com/regional/ph/daily/2018-07-05/download\n"
     ]
    },
    {
     "name": "stderr",
     "output_type": "stream",
     "text": [
      "\r\n",
      "Collecting chart data from ph: 186it [05:39,  1.59s/it]"
     ]
    },
    {
     "name": "stdout",
     "output_type": "stream",
     "text": [
      "\n",
      "Date: 2018-07-06\n",
      "https://spotifycharts.com/regional/ph/daily/2018-07-06/download\n"
     ]
    },
    {
     "name": "stderr",
     "output_type": "stream",
     "text": [
      "\r\n",
      "Collecting chart data from ph: 187it [05:41,  1.58s/it]"
     ]
    },
    {
     "name": "stdout",
     "output_type": "stream",
     "text": [
      "\n",
      "Date: 2018-07-07\n",
      "https://spotifycharts.com/regional/ph/daily/2018-07-07/download\n"
     ]
    },
    {
     "name": "stderr",
     "output_type": "stream",
     "text": [
      "\r\n",
      "Collecting chart data from ph: 188it [05:42,  1.56s/it]"
     ]
    },
    {
     "name": "stdout",
     "output_type": "stream",
     "text": [
      "\n",
      "Date: 2018-07-08\n",
      "https://spotifycharts.com/regional/ph/daily/2018-07-08/download\n"
     ]
    },
    {
     "name": "stderr",
     "output_type": "stream",
     "text": [
      "\r\n",
      "Collecting chart data from ph: 189it [05:44,  1.57s/it]"
     ]
    },
    {
     "name": "stdout",
     "output_type": "stream",
     "text": [
      "\n",
      "Date: 2018-07-09\n",
      "https://spotifycharts.com/regional/ph/daily/2018-07-09/download\n"
     ]
    },
    {
     "name": "stderr",
     "output_type": "stream",
     "text": [
      "\r\n",
      "Collecting chart data from ph: 190it [05:45,  1.56s/it]"
     ]
    },
    {
     "name": "stdout",
     "output_type": "stream",
     "text": [
      "\n",
      "Date: 2018-07-10\n",
      "https://spotifycharts.com/regional/ph/daily/2018-07-10/download\n"
     ]
    },
    {
     "name": "stderr",
     "output_type": "stream",
     "text": [
      "\r\n",
      "Collecting chart data from ph: 191it [05:47,  1.53s/it]"
     ]
    },
    {
     "name": "stdout",
     "output_type": "stream",
     "text": [
      "\n",
      "Date: 2018-07-11\n",
      "https://spotifycharts.com/regional/ph/daily/2018-07-11/download\n"
     ]
    },
    {
     "name": "stderr",
     "output_type": "stream",
     "text": [
      "\r\n",
      "Collecting chart data from ph: 192it [05:48,  1.54s/it]"
     ]
    },
    {
     "name": "stdout",
     "output_type": "stream",
     "text": [
      "\n",
      "Date: 2018-07-12\n",
      "https://spotifycharts.com/regional/ph/daily/2018-07-12/download\n"
     ]
    },
    {
     "name": "stderr",
     "output_type": "stream",
     "text": [
      "\r\n",
      "Collecting chart data from ph: 193it [05:50,  1.54s/it]"
     ]
    },
    {
     "name": "stdout",
     "output_type": "stream",
     "text": [
      "\n",
      "Date: 2018-07-13\n",
      "https://spotifycharts.com/regional/ph/daily/2018-07-13/download\n"
     ]
    },
    {
     "name": "stderr",
     "output_type": "stream",
     "text": [
      "\r\n",
      "Collecting chart data from ph: 194it [05:52,  1.55s/it]"
     ]
    },
    {
     "name": "stdout",
     "output_type": "stream",
     "text": [
      "\n",
      "Date: 2018-07-14\n",
      "https://spotifycharts.com/regional/ph/daily/2018-07-14/download\n"
     ]
    },
    {
     "name": "stderr",
     "output_type": "stream",
     "text": [
      "\r\n",
      "Collecting chart data from ph: 195it [05:53,  1.53s/it]"
     ]
    },
    {
     "name": "stdout",
     "output_type": "stream",
     "text": [
      "\n",
      "Date: 2018-07-15\n",
      "https://spotifycharts.com/regional/ph/daily/2018-07-15/download\n"
     ]
    },
    {
     "name": "stderr",
     "output_type": "stream",
     "text": [
      "\r\n",
      "Collecting chart data from ph: 196it [05:55,  1.55s/it]"
     ]
    },
    {
     "name": "stdout",
     "output_type": "stream",
     "text": [
      "\n",
      "Date: 2018-07-16\n",
      "https://spotifycharts.com/regional/ph/daily/2018-07-16/download\n"
     ]
    },
    {
     "name": "stderr",
     "output_type": "stream",
     "text": [
      "\r\n",
      "Collecting chart data from ph: 197it [05:56,  1.52s/it]"
     ]
    },
    {
     "name": "stdout",
     "output_type": "stream",
     "text": [
      "\n",
      "Date: 2018-07-17\n",
      "https://spotifycharts.com/regional/ph/daily/2018-07-17/download\n"
     ]
    },
    {
     "name": "stderr",
     "output_type": "stream",
     "text": [
      "\r\n",
      "Collecting chart data from ph: 198it [05:58,  1.57s/it]"
     ]
    },
    {
     "name": "stdout",
     "output_type": "stream",
     "text": [
      "\n",
      "Date: 2018-07-18\n",
      "https://spotifycharts.com/regional/ph/daily/2018-07-18/download\n"
     ]
    },
    {
     "name": "stderr",
     "output_type": "stream",
     "text": [
      "\r\n",
      "Collecting chart data from ph: 199it [06:00,  1.67s/it]"
     ]
    },
    {
     "name": "stdout",
     "output_type": "stream",
     "text": [
      "\n",
      "Date: 2018-07-19\n",
      "https://spotifycharts.com/regional/ph/daily/2018-07-19/download\n"
     ]
    },
    {
     "name": "stderr",
     "output_type": "stream",
     "text": [
      "\r\n",
      "Collecting chart data from ph: 200it [06:01,  1.65s/it]"
     ]
    },
    {
     "name": "stdout",
     "output_type": "stream",
     "text": [
      "\n",
      "Date: 2018-07-20\n",
      "https://spotifycharts.com/regional/ph/daily/2018-07-20/download\n"
     ]
    },
    {
     "name": "stderr",
     "output_type": "stream",
     "text": [
      "\r\n",
      "Collecting chart data from ph: 201it [06:03,  1.62s/it]"
     ]
    },
    {
     "name": "stdout",
     "output_type": "stream",
     "text": [
      "\n",
      "Date: 2018-07-21\n",
      "https://spotifycharts.com/regional/ph/daily/2018-07-21/download\n"
     ]
    },
    {
     "name": "stderr",
     "output_type": "stream",
     "text": [
      "\r\n",
      "Collecting chart data from ph: 202it [06:04,  1.60s/it]"
     ]
    },
    {
     "name": "stdout",
     "output_type": "stream",
     "text": [
      "\n",
      "Date: 2018-07-22\n",
      "https://spotifycharts.com/regional/ph/daily/2018-07-22/download\n"
     ]
    },
    {
     "name": "stderr",
     "output_type": "stream",
     "text": [
      "\r\n",
      "Collecting chart data from ph: 203it [06:06,  1.63s/it]"
     ]
    },
    {
     "name": "stdout",
     "output_type": "stream",
     "text": [
      "\n",
      "Date: 2018-07-23\n",
      "https://spotifycharts.com/regional/ph/daily/2018-07-23/download\n"
     ]
    },
    {
     "name": "stderr",
     "output_type": "stream",
     "text": [
      "\r\n",
      "Collecting chart data from ph: 204it [06:08,  1.65s/it]"
     ]
    },
    {
     "name": "stdout",
     "output_type": "stream",
     "text": [
      "\n",
      "Date: 2018-07-24\n",
      "https://spotifycharts.com/regional/ph/daily/2018-07-24/download\n"
     ]
    },
    {
     "name": "stderr",
     "output_type": "stream",
     "text": [
      "\r\n",
      "Collecting chart data from ph: 205it [06:09,  1.63s/it]"
     ]
    },
    {
     "name": "stdout",
     "output_type": "stream",
     "text": [
      "\n",
      "Date: 2018-07-25\n",
      "https://spotifycharts.com/regional/ph/daily/2018-07-25/download\n"
     ]
    },
    {
     "name": "stderr",
     "output_type": "stream",
     "text": [
      "\r\n",
      "Collecting chart data from ph: 206it [06:11,  1.66s/it]"
     ]
    },
    {
     "name": "stdout",
     "output_type": "stream",
     "text": [
      "\n",
      "Date: 2018-07-26\n",
      "https://spotifycharts.com/regional/ph/daily/2018-07-26/download\n"
     ]
    },
    {
     "name": "stderr",
     "output_type": "stream",
     "text": [
      "\r\n",
      "Collecting chart data from ph: 207it [06:13,  1.61s/it]"
     ]
    },
    {
     "name": "stdout",
     "output_type": "stream",
     "text": [
      "\n",
      "Date: 2018-07-27\n",
      "https://spotifycharts.com/regional/ph/daily/2018-07-27/download\n"
     ]
    },
    {
     "name": "stderr",
     "output_type": "stream",
     "text": [
      "\r\n",
      "Collecting chart data from ph: 208it [06:14,  1.62s/it]"
     ]
    },
    {
     "name": "stdout",
     "output_type": "stream",
     "text": [
      "\n",
      "Date: 2018-07-28\n",
      "https://spotifycharts.com/regional/ph/daily/2018-07-28/download\n"
     ]
    },
    {
     "name": "stderr",
     "output_type": "stream",
     "text": [
      "\r\n",
      "Collecting chart data from ph: 209it [06:16,  1.61s/it]"
     ]
    },
    {
     "name": "stdout",
     "output_type": "stream",
     "text": [
      "\n",
      "Date: 2018-07-29\n",
      "https://spotifycharts.com/regional/ph/daily/2018-07-29/download\n"
     ]
    },
    {
     "name": "stderr",
     "output_type": "stream",
     "text": [
      "\r\n",
      "Collecting chart data from ph: 210it [06:17,  1.61s/it]"
     ]
    },
    {
     "name": "stdout",
     "output_type": "stream",
     "text": [
      "\n",
      "Date: 2018-07-30\n",
      "https://spotifycharts.com/regional/ph/daily/2018-07-30/download\n"
     ]
    },
    {
     "name": "stderr",
     "output_type": "stream",
     "text": [
      "\r\n",
      "Collecting chart data from ph: 211it [06:19,  1.64s/it]"
     ]
    },
    {
     "name": "stdout",
     "output_type": "stream",
     "text": [
      "\n",
      "Date: 2018-07-31\n",
      "https://spotifycharts.com/regional/ph/daily/2018-07-31/download\n"
     ]
    },
    {
     "name": "stderr",
     "output_type": "stream",
     "text": [
      "\r\n",
      "Collecting chart data from ph: 212it [06:21,  1.68s/it]"
     ]
    },
    {
     "name": "stdout",
     "output_type": "stream",
     "text": [
      "\n",
      "Date: 2018-08-01\n",
      "https://spotifycharts.com/regional/ph/daily/2018-08-01/download\n"
     ]
    },
    {
     "name": "stderr",
     "output_type": "stream",
     "text": [
      "\r\n",
      "Collecting chart data from ph: 213it [06:23,  1.65s/it]"
     ]
    },
    {
     "name": "stdout",
     "output_type": "stream",
     "text": [
      "\n",
      "Date: 2018-08-02\n",
      "https://spotifycharts.com/regional/ph/daily/2018-08-02/download\n"
     ]
    },
    {
     "name": "stderr",
     "output_type": "stream",
     "text": [
      "\r\n",
      "Collecting chart data from ph: 214it [06:24,  1.68s/it]"
     ]
    },
    {
     "name": "stdout",
     "output_type": "stream",
     "text": [
      "\n",
      "Date: 2018-08-03\n",
      "https://spotifycharts.com/regional/ph/daily/2018-08-03/download\n"
     ]
    },
    {
     "name": "stderr",
     "output_type": "stream",
     "text": [
      "\r\n",
      "Collecting chart data from ph: 215it [06:26,  1.69s/it]"
     ]
    },
    {
     "name": "stdout",
     "output_type": "stream",
     "text": [
      "\n",
      "Date: 2018-08-04\n",
      "https://spotifycharts.com/regional/ph/daily/2018-08-04/download\n"
     ]
    },
    {
     "name": "stderr",
     "output_type": "stream",
     "text": [
      "\r\n",
      "Collecting chart data from ph: 216it [06:28,  1.67s/it]"
     ]
    },
    {
     "name": "stdout",
     "output_type": "stream",
     "text": [
      "\n",
      "Date: 2018-08-05\n",
      "https://spotifycharts.com/regional/ph/daily/2018-08-05/download\n"
     ]
    },
    {
     "name": "stderr",
     "output_type": "stream",
     "text": [
      "\r\n",
      "Collecting chart data from ph: 217it [06:29,  1.70s/it]"
     ]
    },
    {
     "name": "stdout",
     "output_type": "stream",
     "text": [
      "\n",
      "Date: 2018-08-06\n",
      "https://spotifycharts.com/regional/ph/daily/2018-08-06/download\n"
     ]
    },
    {
     "name": "stderr",
     "output_type": "stream",
     "text": [
      "\r\n",
      "Collecting chart data from ph: 218it [06:31,  1.66s/it]"
     ]
    },
    {
     "name": "stdout",
     "output_type": "stream",
     "text": [
      "\n",
      "Date: 2018-08-07\n",
      "https://spotifycharts.com/regional/ph/daily/2018-08-07/download\n"
     ]
    },
    {
     "name": "stderr",
     "output_type": "stream",
     "text": [
      "\r\n",
      "Collecting chart data from ph: 219it [06:33,  1.69s/it]"
     ]
    },
    {
     "name": "stdout",
     "output_type": "stream",
     "text": [
      "\n",
      "Date: 2018-08-08\n",
      "https://spotifycharts.com/regional/ph/daily/2018-08-08/download\n"
     ]
    },
    {
     "name": "stderr",
     "output_type": "stream",
     "text": [
      "\r\n",
      "Collecting chart data from ph: 220it [06:34,  1.65s/it]"
     ]
    },
    {
     "name": "stdout",
     "output_type": "stream",
     "text": [
      "\n",
      "Date: 2018-08-09\n",
      "https://spotifycharts.com/regional/ph/daily/2018-08-09/download\n"
     ]
    },
    {
     "name": "stderr",
     "output_type": "stream",
     "text": [
      "\r\n",
      "Collecting chart data from ph: 221it [06:36,  1.63s/it]"
     ]
    },
    {
     "name": "stdout",
     "output_type": "stream",
     "text": [
      "\n",
      "Date: 2018-08-10\n",
      "https://spotifycharts.com/regional/ph/daily/2018-08-10/download\n"
     ]
    },
    {
     "name": "stderr",
     "output_type": "stream",
     "text": [
      "\r\n",
      "Collecting chart data from ph: 222it [06:37,  1.62s/it]"
     ]
    },
    {
     "name": "stdout",
     "output_type": "stream",
     "text": [
      "\n",
      "Date: 2018-08-11\n",
      "https://spotifycharts.com/regional/ph/daily/2018-08-11/download\n"
     ]
    },
    {
     "name": "stderr",
     "output_type": "stream",
     "text": [
      "\r\n",
      "Collecting chart data from ph: 223it [06:39,  1.66s/it]"
     ]
    },
    {
     "name": "stdout",
     "output_type": "stream",
     "text": [
      "\n",
      "Date: 2018-08-12\n",
      "https://spotifycharts.com/regional/ph/daily/2018-08-12/download\n"
     ]
    },
    {
     "name": "stderr",
     "output_type": "stream",
     "text": [
      "\r\n",
      "Collecting chart data from ph: 224it [06:41,  1.61s/it]"
     ]
    },
    {
     "name": "stdout",
     "output_type": "stream",
     "text": [
      "\n",
      "Date: 2018-08-13\n",
      "https://spotifycharts.com/regional/ph/daily/2018-08-13/download\n"
     ]
    },
    {
     "name": "stderr",
     "output_type": "stream",
     "text": [
      "\r\n",
      "Collecting chart data from ph: 225it [06:42,  1.63s/it]"
     ]
    },
    {
     "name": "stdout",
     "output_type": "stream",
     "text": [
      "\n",
      "Date: 2018-08-14\n",
      "https://spotifycharts.com/regional/ph/daily/2018-08-14/download\n"
     ]
    },
    {
     "name": "stderr",
     "output_type": "stream",
     "text": [
      "\r\n",
      "Collecting chart data from ph: 226it [06:44,  1.63s/it]"
     ]
    },
    {
     "name": "stdout",
     "output_type": "stream",
     "text": [
      "\n",
      "Date: 2018-08-15\n",
      "https://spotifycharts.com/regional/ph/daily/2018-08-15/download\n"
     ]
    },
    {
     "name": "stderr",
     "output_type": "stream",
     "text": [
      "\r\n",
      "Collecting chart data from ph: 227it [06:46,  1.62s/it]"
     ]
    },
    {
     "name": "stdout",
     "output_type": "stream",
     "text": [
      "\n",
      "Date: 2018-08-16\n",
      "https://spotifycharts.com/regional/ph/daily/2018-08-16/download\n"
     ]
    },
    {
     "name": "stderr",
     "output_type": "stream",
     "text": [
      "\r\n",
      "Collecting chart data from ph: 228it [06:47,  1.62s/it]"
     ]
    },
    {
     "name": "stdout",
     "output_type": "stream",
     "text": [
      "\n",
      "Date: 2018-08-17\n",
      "https://spotifycharts.com/regional/ph/daily/2018-08-17/download\n"
     ]
    },
    {
     "name": "stderr",
     "output_type": "stream",
     "text": [
      "\r\n",
      "Collecting chart data from ph: 229it [06:49,  1.63s/it]"
     ]
    },
    {
     "name": "stdout",
     "output_type": "stream",
     "text": [
      "\n",
      "Date: 2018-08-18\n",
      "https://spotifycharts.com/regional/ph/daily/2018-08-18/download\n"
     ]
    },
    {
     "name": "stderr",
     "output_type": "stream",
     "text": [
      "\r\n",
      "Collecting chart data from ph: 230it [06:51,  1.76s/it]"
     ]
    },
    {
     "name": "stdout",
     "output_type": "stream",
     "text": [
      "\n",
      "Date: 2018-08-19\n",
      "https://spotifycharts.com/regional/ph/daily/2018-08-19/download\n"
     ]
    },
    {
     "name": "stderr",
     "output_type": "stream",
     "text": [
      "\r\n",
      "Collecting chart data from ph: 231it [06:53,  1.73s/it]"
     ]
    },
    {
     "name": "stdout",
     "output_type": "stream",
     "text": [
      "\n",
      "Date: 2018-08-20\n",
      "https://spotifycharts.com/regional/ph/daily/2018-08-20/download\n"
     ]
    },
    {
     "name": "stderr",
     "output_type": "stream",
     "text": [
      "\r\n",
      "Collecting chart data from ph: 232it [06:54,  1.78s/it]"
     ]
    },
    {
     "name": "stdout",
     "output_type": "stream",
     "text": [
      "\n",
      "Date: 2018-08-21\n",
      "https://spotifycharts.com/regional/ph/daily/2018-08-21/download\n"
     ]
    },
    {
     "name": "stderr",
     "output_type": "stream",
     "text": [
      "\r\n",
      "Collecting chart data from ph: 233it [06:56,  1.76s/it]"
     ]
    },
    {
     "name": "stdout",
     "output_type": "stream",
     "text": [
      "\n",
      "Date: 2018-08-22\n",
      "https://spotifycharts.com/regional/ph/daily/2018-08-22/download\n"
     ]
    },
    {
     "name": "stderr",
     "output_type": "stream",
     "text": [
      "\r\n",
      "Collecting chart data from ph: 234it [06:59,  1.95s/it]"
     ]
    },
    {
     "name": "stdout",
     "output_type": "stream",
     "text": [
      "\n",
      "Date: 2018-08-23\n",
      "https://spotifycharts.com/regional/ph/daily/2018-08-23/download\n"
     ]
    },
    {
     "name": "stderr",
     "output_type": "stream",
     "text": [
      "\r\n",
      "Collecting chart data from ph: 235it [07:00,  1.81s/it]"
     ]
    },
    {
     "name": "stdout",
     "output_type": "stream",
     "text": [
      "\n",
      "Date: 2018-08-24\n",
      "https://spotifycharts.com/regional/ph/daily/2018-08-24/download\n"
     ]
    },
    {
     "name": "stderr",
     "output_type": "stream",
     "text": [
      "\r\n",
      "Collecting chart data from ph: 236it [07:02,  1.83s/it]"
     ]
    },
    {
     "name": "stdout",
     "output_type": "stream",
     "text": [
      "\n",
      "Date: 2018-08-25\n",
      "https://spotifycharts.com/regional/ph/daily/2018-08-25/download\n"
     ]
    },
    {
     "name": "stderr",
     "output_type": "stream",
     "text": [
      "\r\n",
      "Collecting chart data from ph: 237it [07:04,  1.77s/it]"
     ]
    },
    {
     "name": "stdout",
     "output_type": "stream",
     "text": [
      "\n",
      "Date: 2018-08-26\n",
      "https://spotifycharts.com/regional/ph/daily/2018-08-26/download\n"
     ]
    },
    {
     "name": "stderr",
     "output_type": "stream",
     "text": [
      "\r\n",
      "Collecting chart data from ph: 238it [07:05,  1.74s/it]"
     ]
    },
    {
     "name": "stdout",
     "output_type": "stream",
     "text": [
      "\n",
      "Date: 2018-08-27\n",
      "https://spotifycharts.com/regional/ph/daily/2018-08-27/download\n"
     ]
    },
    {
     "name": "stderr",
     "output_type": "stream",
     "text": [
      "\r\n",
      "Collecting chart data from ph: 239it [07:07,  1.73s/it]"
     ]
    },
    {
     "name": "stdout",
     "output_type": "stream",
     "text": [
      "\n",
      "Date: 2018-08-28\n",
      "https://spotifycharts.com/regional/ph/daily/2018-08-28/download\n"
     ]
    },
    {
     "name": "stderr",
     "output_type": "stream",
     "text": [
      "\r\n",
      "Collecting chart data from ph: 240it [07:09,  1.67s/it]"
     ]
    },
    {
     "name": "stdout",
     "output_type": "stream",
     "text": [
      "\n",
      "Date: 2018-08-29\n",
      "https://spotifycharts.com/regional/ph/daily/2018-08-29/download\n"
     ]
    },
    {
     "name": "stderr",
     "output_type": "stream",
     "text": [
      "\r\n",
      "Collecting chart data from ph: 241it [07:10,  1.69s/it]"
     ]
    },
    {
     "name": "stdout",
     "output_type": "stream",
     "text": [
      "\n",
      "Date: 2018-08-30\n",
      "https://spotifycharts.com/regional/ph/daily/2018-08-30/download\n"
     ]
    },
    {
     "name": "stderr",
     "output_type": "stream",
     "text": [
      "\r\n",
      "Collecting chart data from ph: 242it [07:12,  1.67s/it]"
     ]
    },
    {
     "name": "stdout",
     "output_type": "stream",
     "text": [
      "\n",
      "Date: 2018-08-31\n",
      "https://spotifycharts.com/regional/ph/daily/2018-08-31/download\n"
     ]
    },
    {
     "name": "stderr",
     "output_type": "stream",
     "text": [
      "\r\n",
      "Collecting chart data from ph: 243it [07:13,  1.63s/it]"
     ]
    },
    {
     "name": "stdout",
     "output_type": "stream",
     "text": [
      "\n",
      "Date: 2018-09-01\n",
      "https://spotifycharts.com/regional/ph/daily/2018-09-01/download\n"
     ]
    },
    {
     "name": "stderr",
     "output_type": "stream",
     "text": [
      "\r\n",
      "Collecting chart data from ph: 244it [07:15,  1.64s/it]"
     ]
    },
    {
     "name": "stdout",
     "output_type": "stream",
     "text": [
      "\n",
      "Date: 2018-09-02\n",
      "https://spotifycharts.com/regional/ph/daily/2018-09-02/download\n"
     ]
    },
    {
     "name": "stderr",
     "output_type": "stream",
     "text": [
      "\r\n",
      "Collecting chart data from ph: 245it [07:17,  1.78s/it]"
     ]
    },
    {
     "name": "stdout",
     "output_type": "stream",
     "text": [
      "\n",
      "Date: 2018-09-03\n",
      "https://spotifycharts.com/regional/ph/daily/2018-09-03/download\n"
     ]
    },
    {
     "name": "stderr",
     "output_type": "stream",
     "text": [
      "\r\n",
      "Collecting chart data from ph: 246it [07:19,  1.71s/it]"
     ]
    },
    {
     "name": "stdout",
     "output_type": "stream",
     "text": [
      "\n",
      "Date: 2018-09-04\n",
      "https://spotifycharts.com/regional/ph/daily/2018-09-04/download\n"
     ]
    },
    {
     "name": "stderr",
     "output_type": "stream",
     "text": [
      "\r\n",
      "Collecting chart data from ph: 247it [07:20,  1.70s/it]"
     ]
    },
    {
     "name": "stdout",
     "output_type": "stream",
     "text": [
      "\n",
      "Date: 2018-09-05\n",
      "https://spotifycharts.com/regional/ph/daily/2018-09-05/download\n"
     ]
    },
    {
     "name": "stderr",
     "output_type": "stream",
     "text": [
      "\r\n",
      "Collecting chart data from ph: 248it [07:22,  1.71s/it]"
     ]
    },
    {
     "name": "stdout",
     "output_type": "stream",
     "text": [
      "\n",
      "Date: 2018-09-06\n",
      "https://spotifycharts.com/regional/ph/daily/2018-09-06/download\n"
     ]
    },
    {
     "name": "stderr",
     "output_type": "stream",
     "text": [
      "\r\n",
      "Collecting chart data from ph: 249it [07:24,  1.65s/it]"
     ]
    },
    {
     "name": "stdout",
     "output_type": "stream",
     "text": [
      "\n",
      "Date: 2018-09-07\n",
      "https://spotifycharts.com/regional/ph/daily/2018-09-07/download\n"
     ]
    },
    {
     "name": "stderr",
     "output_type": "stream",
     "text": [
      "\r\n",
      "Collecting chart data from ph: 250it [07:25,  1.68s/it]"
     ]
    },
    {
     "name": "stdout",
     "output_type": "stream",
     "text": [
      "\n",
      "Date: 2018-09-08\n",
      "https://spotifycharts.com/regional/ph/daily/2018-09-08/download\n"
     ]
    },
    {
     "name": "stderr",
     "output_type": "stream",
     "text": [
      "\r\n",
      "Collecting chart data from ph: 251it [07:27,  1.64s/it]"
     ]
    },
    {
     "name": "stdout",
     "output_type": "stream",
     "text": [
      "\n",
      "Date: 2018-09-09\n",
      "https://spotifycharts.com/regional/ph/daily/2018-09-09/download\n"
     ]
    },
    {
     "name": "stderr",
     "output_type": "stream",
     "text": [
      "\r\n",
      "Collecting chart data from ph: 252it [07:29,  1.63s/it]"
     ]
    },
    {
     "name": "stdout",
     "output_type": "stream",
     "text": [
      "\n",
      "Date: 2018-09-10\n",
      "https://spotifycharts.com/regional/ph/daily/2018-09-10/download\n"
     ]
    },
    {
     "name": "stderr",
     "output_type": "stream",
     "text": [
      "\r\n",
      "Collecting chart data from ph: 253it [07:30,  1.68s/it]"
     ]
    },
    {
     "name": "stdout",
     "output_type": "stream",
     "text": [
      "\n",
      "Date: 2018-09-11\n",
      "https://spotifycharts.com/regional/ph/daily/2018-09-11/download\n"
     ]
    },
    {
     "name": "stderr",
     "output_type": "stream",
     "text": [
      "\r\n",
      "Collecting chart data from ph: 254it [07:32,  1.62s/it]"
     ]
    },
    {
     "name": "stdout",
     "output_type": "stream",
     "text": [
      "\n",
      "Date: 2018-09-12\n",
      "https://spotifycharts.com/regional/ph/daily/2018-09-12/download\n"
     ]
    },
    {
     "name": "stderr",
     "output_type": "stream",
     "text": [
      "\r\n",
      "Collecting chart data from ph: 255it [07:34,  1.66s/it]"
     ]
    },
    {
     "name": "stdout",
     "output_type": "stream",
     "text": [
      "\n",
      "Date: 2018-09-13\n",
      "https://spotifycharts.com/regional/ph/daily/2018-09-13/download\n"
     ]
    },
    {
     "name": "stderr",
     "output_type": "stream",
     "text": [
      "\r\n",
      "Collecting chart data from ph: 256it [07:35,  1.65s/it]"
     ]
    },
    {
     "name": "stdout",
     "output_type": "stream",
     "text": [
      "\n",
      "Date: 2018-09-14\n",
      "https://spotifycharts.com/regional/ph/daily/2018-09-14/download\n"
     ]
    },
    {
     "name": "stderr",
     "output_type": "stream",
     "text": [
      "\r\n",
      "Collecting chart data from ph: 257it [07:37,  1.65s/it]"
     ]
    },
    {
     "name": "stdout",
     "output_type": "stream",
     "text": [
      "\n",
      "Date: 2018-09-15\n",
      "https://spotifycharts.com/regional/ph/daily/2018-09-15/download\n"
     ]
    },
    {
     "name": "stderr",
     "output_type": "stream",
     "text": [
      "\r\n",
      "Collecting chart data from ph: 258it [07:39,  1.68s/it]"
     ]
    },
    {
     "name": "stdout",
     "output_type": "stream",
     "text": [
      "\n",
      "Date: 2018-09-16\n",
      "https://spotifycharts.com/regional/ph/daily/2018-09-16/download\n"
     ]
    },
    {
     "name": "stderr",
     "output_type": "stream",
     "text": [
      "\r\n",
      "Collecting chart data from ph: 259it [07:41,  1.83s/it]"
     ]
    },
    {
     "name": "stdout",
     "output_type": "stream",
     "text": [
      "\n",
      "Date: 2018-09-17\n",
      "https://spotifycharts.com/regional/ph/daily/2018-09-17/download\n"
     ]
    },
    {
     "name": "stderr",
     "output_type": "stream",
     "text": [
      "\r\n",
      "Collecting chart data from ph: 260it [07:43,  1.85s/it]"
     ]
    },
    {
     "name": "stdout",
     "output_type": "stream",
     "text": [
      "\n",
      "Date: 2018-09-18\n",
      "https://spotifycharts.com/regional/ph/daily/2018-09-18/download\n"
     ]
    },
    {
     "name": "stderr",
     "output_type": "stream",
     "text": [
      "\r\n",
      "Collecting chart data from ph: 261it [07:44,  1.81s/it]"
     ]
    },
    {
     "name": "stdout",
     "output_type": "stream",
     "text": [
      "\n",
      "Date: 2018-09-19\n",
      "https://spotifycharts.com/regional/ph/daily/2018-09-19/download\n"
     ]
    },
    {
     "name": "stderr",
     "output_type": "stream",
     "text": [
      "\r\n",
      "Collecting chart data from ph: 262it [07:46,  1.73s/it]"
     ]
    },
    {
     "name": "stdout",
     "output_type": "stream",
     "text": [
      "\n",
      "Date: 2018-09-20\n",
      "https://spotifycharts.com/regional/ph/daily/2018-09-20/download\n"
     ]
    },
    {
     "name": "stderr",
     "output_type": "stream",
     "text": [
      "\r\n",
      "Collecting chart data from ph: 263it [07:48,  1.74s/it]"
     ]
    },
    {
     "name": "stdout",
     "output_type": "stream",
     "text": [
      "\n",
      "Date: 2018-09-21\n",
      "https://spotifycharts.com/regional/ph/daily/2018-09-21/download\n"
     ]
    },
    {
     "name": "stderr",
     "output_type": "stream",
     "text": [
      "\r\n",
      "Collecting chart data from ph: 264it [07:50,  1.77s/it]"
     ]
    },
    {
     "name": "stdout",
     "output_type": "stream",
     "text": [
      "\n",
      "Date: 2018-09-22\n",
      "https://spotifycharts.com/regional/ph/daily/2018-09-22/download\n"
     ]
    },
    {
     "name": "stderr",
     "output_type": "stream",
     "text": [
      "\r\n",
      "Collecting chart data from ph: 265it [07:51,  1.78s/it]"
     ]
    },
    {
     "name": "stdout",
     "output_type": "stream",
     "text": [
      "\n",
      "Date: 2018-09-23\n",
      "https://spotifycharts.com/regional/ph/daily/2018-09-23/download\n"
     ]
    },
    {
     "name": "stderr",
     "output_type": "stream",
     "text": [
      "\r\n",
      "Collecting chart data from ph: 266it [07:53,  1.71s/it]"
     ]
    },
    {
     "name": "stdout",
     "output_type": "stream",
     "text": [
      "\n",
      "Date: 2018-09-24\n",
      "https://spotifycharts.com/regional/ph/daily/2018-09-24/download\n"
     ]
    },
    {
     "name": "stderr",
     "output_type": "stream",
     "text": [
      "\r\n",
      "Collecting chart data from ph: 267it [07:55,  1.84s/it]"
     ]
    },
    {
     "name": "stdout",
     "output_type": "stream",
     "text": [
      "\n",
      "Date: 2018-09-25\n",
      "https://spotifycharts.com/regional/ph/daily/2018-09-25/download\n"
     ]
    },
    {
     "name": "stderr",
     "output_type": "stream",
     "text": [
      "\r\n",
      "Collecting chart data from ph: 268it [07:57,  1.76s/it]"
     ]
    },
    {
     "name": "stdout",
     "output_type": "stream",
     "text": [
      "\n",
      "Date: 2018-09-26\n",
      "https://spotifycharts.com/regional/ph/daily/2018-09-26/download\n"
     ]
    },
    {
     "name": "stderr",
     "output_type": "stream",
     "text": [
      "\r\n",
      "Collecting chart data from ph: 269it [07:58,  1.71s/it]"
     ]
    },
    {
     "name": "stdout",
     "output_type": "stream",
     "text": [
      "\n",
      "Date: 2018-09-27\n",
      "https://spotifycharts.com/regional/ph/daily/2018-09-27/download\n"
     ]
    },
    {
     "name": "stderr",
     "output_type": "stream",
     "text": [
      "\r\n",
      "Collecting chart data from ph: 270it [08:00,  1.66s/it]"
     ]
    },
    {
     "name": "stdout",
     "output_type": "stream",
     "text": [
      "\n",
      "Date: 2018-09-28\n",
      "https://spotifycharts.com/regional/ph/daily/2018-09-28/download\n"
     ]
    },
    {
     "name": "stderr",
     "output_type": "stream",
     "text": [
      "\r\n",
      "Collecting chart data from ph: 271it [08:01,  1.68s/it]"
     ]
    },
    {
     "name": "stdout",
     "output_type": "stream",
     "text": [
      "\n",
      "Date: 2018-09-29\n",
      "https://spotifycharts.com/regional/ph/daily/2018-09-29/download\n"
     ]
    },
    {
     "name": "stderr",
     "output_type": "stream",
     "text": [
      "\r\n",
      "Collecting chart data from ph: 272it [08:04,  1.82s/it]"
     ]
    },
    {
     "name": "stdout",
     "output_type": "stream",
     "text": [
      "\n",
      "Date: 2018-09-30\n",
      "https://spotifycharts.com/regional/ph/daily/2018-09-30/download\n"
     ]
    },
    {
     "name": "stderr",
     "output_type": "stream",
     "text": [
      "\r\n",
      "Collecting chart data from ph: 273it [08:06,  1.85s/it]"
     ]
    },
    {
     "name": "stdout",
     "output_type": "stream",
     "text": [
      "\n",
      "Date: 2018-10-01\n",
      "https://spotifycharts.com/regional/ph/daily/2018-10-01/download\n"
     ]
    },
    {
     "name": "stderr",
     "output_type": "stream",
     "text": [
      "\r\n",
      "Collecting chart data from ph: 274it [08:07,  1.76s/it]"
     ]
    },
    {
     "name": "stdout",
     "output_type": "stream",
     "text": [
      "\n",
      "Date: 2018-10-02\n",
      "https://spotifycharts.com/regional/ph/daily/2018-10-02/download\n"
     ]
    },
    {
     "name": "stderr",
     "output_type": "stream",
     "text": [
      "\r\n",
      "Collecting chart data from ph: 275it [08:09,  1.77s/it]"
     ]
    },
    {
     "name": "stdout",
     "output_type": "stream",
     "text": [
      "\n",
      "Date: 2018-10-03\n",
      "https://spotifycharts.com/regional/ph/daily/2018-10-03/download\n"
     ]
    },
    {
     "name": "stderr",
     "output_type": "stream",
     "text": [
      "\r\n",
      "Collecting chart data from ph: 276it [08:11,  1.83s/it]"
     ]
    },
    {
     "name": "stdout",
     "output_type": "stream",
     "text": [
      "\n",
      "Date: 2018-10-04\n",
      "https://spotifycharts.com/regional/ph/daily/2018-10-04/download\n"
     ]
    },
    {
     "name": "stderr",
     "output_type": "stream",
     "text": [
      "\r\n",
      "Collecting chart data from ph: 277it [08:13,  1.91s/it]"
     ]
    },
    {
     "name": "stdout",
     "output_type": "stream",
     "text": [
      "\n",
      "Date: 2018-10-05\n",
      "https://spotifycharts.com/regional/ph/daily/2018-10-05/download\n"
     ]
    },
    {
     "name": "stderr",
     "output_type": "stream",
     "text": [
      "\r\n",
      "Collecting chart data from ph: 278it [08:15,  2.10s/it]"
     ]
    },
    {
     "name": "stdout",
     "output_type": "stream",
     "text": [
      "\n",
      "Date: 2018-10-06\n",
      "https://spotifycharts.com/regional/ph/daily/2018-10-06/download\n"
     ]
    },
    {
     "name": "stderr",
     "output_type": "stream",
     "text": [
      "\r\n",
      "Collecting chart data from ph: 279it [08:17,  1.94s/it]"
     ]
    },
    {
     "name": "stdout",
     "output_type": "stream",
     "text": [
      "\n",
      "Date: 2018-10-07\n",
      "https://spotifycharts.com/regional/ph/daily/2018-10-07/download\n"
     ]
    },
    {
     "name": "stderr",
     "output_type": "stream",
     "text": [
      "\r\n",
      "Collecting chart data from ph: 280it [08:19,  1.83s/it]"
     ]
    },
    {
     "name": "stdout",
     "output_type": "stream",
     "text": [
      "\n",
      "Date: 2018-10-08\n",
      "https://spotifycharts.com/regional/ph/daily/2018-10-08/download\n"
     ]
    },
    {
     "name": "stderr",
     "output_type": "stream",
     "text": [
      "\r\n",
      "Collecting chart data from ph: 281it [08:21,  1.89s/it]"
     ]
    },
    {
     "name": "stdout",
     "output_type": "stream",
     "text": [
      "\n",
      "Date: 2018-10-09\n",
      "https://spotifycharts.com/regional/ph/daily/2018-10-09/download\n"
     ]
    },
    {
     "name": "stderr",
     "output_type": "stream",
     "text": [
      "\r\n",
      "Collecting chart data from ph: 282it [08:22,  1.77s/it]"
     ]
    },
    {
     "name": "stdout",
     "output_type": "stream",
     "text": [
      "\n",
      "Date: 2018-10-10\n",
      "https://spotifycharts.com/regional/ph/daily/2018-10-10/download\n"
     ]
    },
    {
     "name": "stderr",
     "output_type": "stream",
     "text": [
      "\r\n",
      "Collecting chart data from ph: 283it [08:24,  1.81s/it]"
     ]
    },
    {
     "name": "stdout",
     "output_type": "stream",
     "text": [
      "\n",
      "Date: 2018-10-11\n",
      "https://spotifycharts.com/regional/ph/daily/2018-10-11/download\n"
     ]
    },
    {
     "name": "stderr",
     "output_type": "stream",
     "text": [
      "\r\n",
      "Collecting chart data from ph: 284it [08:26,  1.76s/it]"
     ]
    },
    {
     "name": "stdout",
     "output_type": "stream",
     "text": [
      "\n",
      "Date: 2018-10-12\n",
      "https://spotifycharts.com/regional/ph/daily/2018-10-12/download\n"
     ]
    },
    {
     "name": "stderr",
     "output_type": "stream",
     "text": [
      "\r\n",
      "Collecting chart data from ph: 285it [08:27,  1.71s/it]"
     ]
    },
    {
     "name": "stdout",
     "output_type": "stream",
     "text": [
      "\n",
      "Date: 2018-10-13\n",
      "https://spotifycharts.com/regional/ph/daily/2018-10-13/download\n"
     ]
    },
    {
     "name": "stderr",
     "output_type": "stream",
     "text": [
      "\r\n",
      "Collecting chart data from ph: 286it [08:29,  1.75s/it]"
     ]
    },
    {
     "name": "stdout",
     "output_type": "stream",
     "text": [
      "\n",
      "Date: 2018-10-14\n",
      "https://spotifycharts.com/regional/ph/daily/2018-10-14/download\n"
     ]
    },
    {
     "name": "stderr",
     "output_type": "stream",
     "text": [
      "\r\n",
      "Collecting chart data from ph: 287it [08:31,  1.69s/it]"
     ]
    },
    {
     "name": "stdout",
     "output_type": "stream",
     "text": [
      "\n",
      "Date: 2018-10-15\n",
      "https://spotifycharts.com/regional/ph/daily/2018-10-15/download\n"
     ]
    },
    {
     "name": "stderr",
     "output_type": "stream",
     "text": [
      "\r\n",
      "Collecting chart data from ph: 288it [08:32,  1.70s/it]"
     ]
    },
    {
     "name": "stdout",
     "output_type": "stream",
     "text": [
      "\n",
      "Date: 2018-10-16\n",
      "https://spotifycharts.com/regional/ph/daily/2018-10-16/download\n"
     ]
    },
    {
     "name": "stderr",
     "output_type": "stream",
     "text": [
      "\r\n",
      "Collecting chart data from ph: 289it [08:35,  1.88s/it]"
     ]
    },
    {
     "name": "stdout",
     "output_type": "stream",
     "text": [
      "\n",
      "Date: 2018-10-17\n",
      "https://spotifycharts.com/regional/ph/daily/2018-10-17/download\n"
     ]
    },
    {
     "name": "stderr",
     "output_type": "stream",
     "text": [
      "\r\n",
      "Collecting chart data from ph: 290it [08:36,  1.82s/it]"
     ]
    },
    {
     "name": "stdout",
     "output_type": "stream",
     "text": [
      "\n",
      "Date: 2018-10-18\n",
      "https://spotifycharts.com/regional/ph/daily/2018-10-18/download\n"
     ]
    },
    {
     "name": "stderr",
     "output_type": "stream",
     "text": [
      "\r\n",
      "Collecting chart data from ph: 291it [08:38,  1.74s/it]"
     ]
    },
    {
     "name": "stdout",
     "output_type": "stream",
     "text": [
      "\n",
      "Date: 2018-10-19\n",
      "https://spotifycharts.com/regional/ph/daily/2018-10-19/download\n"
     ]
    },
    {
     "name": "stderr",
     "output_type": "stream",
     "text": [
      "\r\n",
      "Collecting chart data from ph: 292it [08:40,  1.72s/it]"
     ]
    },
    {
     "name": "stdout",
     "output_type": "stream",
     "text": [
      "\n",
      "Date: 2018-10-20\n",
      "https://spotifycharts.com/regional/ph/daily/2018-10-20/download\n"
     ]
    },
    {
     "name": "stderr",
     "output_type": "stream",
     "text": [
      "\r\n",
      "Collecting chart data from ph: 293it [08:42,  1.81s/it]"
     ]
    },
    {
     "name": "stdout",
     "output_type": "stream",
     "text": [
      "\n",
      "Date: 2018-10-21\n",
      "https://spotifycharts.com/regional/ph/daily/2018-10-21/download\n"
     ]
    },
    {
     "name": "stderr",
     "output_type": "stream",
     "text": [
      "\r\n",
      "Collecting chart data from ph: 294it [08:44,  1.99s/it]"
     ]
    },
    {
     "name": "stdout",
     "output_type": "stream",
     "text": [
      "\n",
      "Date: 2018-10-22\n",
      "https://spotifycharts.com/regional/ph/daily/2018-10-22/download\n"
     ]
    },
    {
     "name": "stderr",
     "output_type": "stream",
     "text": [
      "\r\n",
      "Collecting chart data from ph: 295it [08:46,  1.85s/it]"
     ]
    },
    {
     "name": "stdout",
     "output_type": "stream",
     "text": [
      "\n",
      "Date: 2018-10-23\n",
      "https://spotifycharts.com/regional/ph/daily/2018-10-23/download\n"
     ]
    },
    {
     "name": "stderr",
     "output_type": "stream",
     "text": [
      "\r\n",
      "Collecting chart data from ph: 296it [08:47,  1.79s/it]"
     ]
    },
    {
     "name": "stdout",
     "output_type": "stream",
     "text": [
      "\n",
      "Date: 2018-10-24\n",
      "https://spotifycharts.com/regional/ph/daily/2018-10-24/download\n"
     ]
    },
    {
     "name": "stderr",
     "output_type": "stream",
     "text": [
      "\r\n",
      "Collecting chart data from ph: 297it [08:49,  1.87s/it]"
     ]
    },
    {
     "name": "stdout",
     "output_type": "stream",
     "text": [
      "\n",
      "Date: 2018-10-25\n",
      "https://spotifycharts.com/regional/ph/daily/2018-10-25/download\n"
     ]
    },
    {
     "name": "stderr",
     "output_type": "stream",
     "text": [
      "\r\n",
      "Collecting chart data from ph: 298it [08:51,  1.78s/it]"
     ]
    },
    {
     "name": "stdout",
     "output_type": "stream",
     "text": [
      "\n",
      "Date: 2018-10-26\n",
      "https://spotifycharts.com/regional/ph/daily/2018-10-26/download\n"
     ]
    },
    {
     "name": "stderr",
     "output_type": "stream",
     "text": [
      "\r\n",
      "Collecting chart data from ph: 299it [08:53,  1.80s/it]"
     ]
    },
    {
     "name": "stdout",
     "output_type": "stream",
     "text": [
      "\n",
      "Date: 2018-10-27\n",
      "https://spotifycharts.com/regional/ph/daily/2018-10-27/download\n"
     ]
    },
    {
     "name": "stderr",
     "output_type": "stream",
     "text": [
      "\r\n",
      "Collecting chart data from ph: 300it [08:55,  1.90s/it]"
     ]
    },
    {
     "name": "stdout",
     "output_type": "stream",
     "text": [
      "\n",
      "Date: 2018-10-28\n",
      "https://spotifycharts.com/regional/ph/daily/2018-10-28/download\n"
     ]
    },
    {
     "name": "stderr",
     "output_type": "stream",
     "text": [
      "\r\n",
      "Collecting chart data from ph: 301it [08:56,  1.83s/it]"
     ]
    },
    {
     "name": "stdout",
     "output_type": "stream",
     "text": [
      "\n",
      "Date: 2018-10-29\n",
      "https://spotifycharts.com/regional/ph/daily/2018-10-29/download\n"
     ]
    },
    {
     "name": "stderr",
     "output_type": "stream",
     "text": [
      "\r\n",
      "Collecting chart data from ph: 302it [08:58,  1.79s/it]"
     ]
    },
    {
     "name": "stdout",
     "output_type": "stream",
     "text": [
      "\n",
      "Date: 2018-10-30\n",
      "https://spotifycharts.com/regional/ph/daily/2018-10-30/download\n"
     ]
    },
    {
     "name": "stderr",
     "output_type": "stream",
     "text": [
      "\r\n",
      "Collecting chart data from ph: 303it [09:00,  1.83s/it]"
     ]
    },
    {
     "name": "stdout",
     "output_type": "stream",
     "text": [
      "\n",
      "Date: 2018-10-31\n",
      "https://spotifycharts.com/regional/ph/daily/2018-10-31/download\n"
     ]
    },
    {
     "name": "stderr",
     "output_type": "stream",
     "text": [
      "\r\n",
      "Collecting chart data from ph: 304it [09:02,  1.86s/it]"
     ]
    },
    {
     "name": "stdout",
     "output_type": "stream",
     "text": [
      "\n",
      "Date: 2018-11-01\n",
      "https://spotifycharts.com/regional/ph/daily/2018-11-01/download\n"
     ]
    },
    {
     "name": "stderr",
     "output_type": "stream",
     "text": [
      "\r\n",
      "Collecting chart data from ph: 305it [09:04,  1.82s/it]"
     ]
    },
    {
     "name": "stdout",
     "output_type": "stream",
     "text": [
      "\n",
      "Date: 2018-11-02\n",
      "https://spotifycharts.com/regional/ph/daily/2018-11-02/download\n"
     ]
    },
    {
     "name": "stderr",
     "output_type": "stream",
     "text": [
      "\r\n",
      "Collecting chart data from ph: 306it [09:05,  1.74s/it]"
     ]
    },
    {
     "name": "stdout",
     "output_type": "stream",
     "text": [
      "\n",
      "Date: 2018-11-03\n",
      "https://spotifycharts.com/regional/ph/daily/2018-11-03/download\n"
     ]
    },
    {
     "name": "stderr",
     "output_type": "stream",
     "text": [
      "\r\n",
      "Collecting chart data from ph: 307it [09:07,  1.77s/it]"
     ]
    },
    {
     "name": "stdout",
     "output_type": "stream",
     "text": [
      "\n",
      "Date: 2018-11-04\n",
      "https://spotifycharts.com/regional/ph/daily/2018-11-04/download\n"
     ]
    },
    {
     "name": "stderr",
     "output_type": "stream",
     "text": [
      "\r\n",
      "Collecting chart data from ph: 308it [09:09,  1.76s/it]"
     ]
    },
    {
     "name": "stdout",
     "output_type": "stream",
     "text": [
      "\n",
      "Date: 2018-11-05\n",
      "https://spotifycharts.com/regional/ph/daily/2018-11-05/download\n"
     ]
    },
    {
     "name": "stderr",
     "output_type": "stream",
     "text": [
      "\r\n",
      "Collecting chart data from ph: 309it [09:10,  1.69s/it]"
     ]
    },
    {
     "name": "stdout",
     "output_type": "stream",
     "text": [
      "\n",
      "Date: 2018-11-06\n",
      "https://spotifycharts.com/regional/ph/daily/2018-11-06/download\n"
     ]
    },
    {
     "name": "stderr",
     "output_type": "stream",
     "text": [
      "\r\n",
      "Collecting chart data from ph: 310it [09:12,  1.65s/it]"
     ]
    },
    {
     "name": "stdout",
     "output_type": "stream",
     "text": [
      "\n",
      "Date: 2018-11-07\n",
      "https://spotifycharts.com/regional/ph/daily/2018-11-07/download\n"
     ]
    },
    {
     "name": "stderr",
     "output_type": "stream",
     "text": [
      "\r\n",
      "Collecting chart data from ph: 311it [09:14,  1.66s/it]"
     ]
    },
    {
     "name": "stdout",
     "output_type": "stream",
     "text": [
      "\n",
      "Date: 2018-11-08\n",
      "https://spotifycharts.com/regional/ph/daily/2018-11-08/download\n"
     ]
    },
    {
     "name": "stderr",
     "output_type": "stream",
     "text": [
      "\r\n",
      "Collecting chart data from ph: 312it [09:15,  1.68s/it]"
     ]
    },
    {
     "name": "stdout",
     "output_type": "stream",
     "text": [
      "\n",
      "Date: 2018-11-09\n",
      "https://spotifycharts.com/regional/ph/daily/2018-11-09/download\n"
     ]
    },
    {
     "name": "stderr",
     "output_type": "stream",
     "text": [
      "\r\n",
      "Collecting chart data from ph: 313it [09:17,  1.71s/it]"
     ]
    },
    {
     "name": "stdout",
     "output_type": "stream",
     "text": [
      "\n",
      "Date: 2018-11-10\n",
      "https://spotifycharts.com/regional/ph/daily/2018-11-10/download\n"
     ]
    },
    {
     "name": "stderr",
     "output_type": "stream",
     "text": [
      "\r\n",
      "Collecting chart data from ph: 314it [09:19,  1.84s/it]"
     ]
    },
    {
     "name": "stdout",
     "output_type": "stream",
     "text": [
      "\n",
      "Date: 2018-11-11\n",
      "https://spotifycharts.com/regional/ph/daily/2018-11-11/download\n"
     ]
    },
    {
     "name": "stderr",
     "output_type": "stream",
     "text": [
      "\r\n",
      "Collecting chart data from ph: 315it [09:21,  1.76s/it]"
     ]
    },
    {
     "name": "stdout",
     "output_type": "stream",
     "text": [
      "\n",
      "Date: 2018-11-12\n",
      "https://spotifycharts.com/regional/ph/daily/2018-11-12/download\n"
     ]
    },
    {
     "name": "stderr",
     "output_type": "stream",
     "text": [
      "\r\n",
      "Collecting chart data from ph: 316it [09:22,  1.71s/it]"
     ]
    },
    {
     "name": "stdout",
     "output_type": "stream",
     "text": [
      "\n",
      "Date: 2018-11-13\n",
      "https://spotifycharts.com/regional/ph/daily/2018-11-13/download\n"
     ]
    },
    {
     "name": "stderr",
     "output_type": "stream",
     "text": [
      "\r\n",
      "Collecting chart data from ph: 317it [09:24,  1.69s/it]"
     ]
    },
    {
     "name": "stdout",
     "output_type": "stream",
     "text": [
      "\n",
      "Date: 2018-11-14\n",
      "https://spotifycharts.com/regional/ph/daily/2018-11-14/download\n"
     ]
    },
    {
     "name": "stderr",
     "output_type": "stream",
     "text": [
      "\r\n",
      "Collecting chart data from ph: 318it [09:26,  1.74s/it]"
     ]
    },
    {
     "name": "stdout",
     "output_type": "stream",
     "text": [
      "\n",
      "Date: 2018-11-15\n",
      "https://spotifycharts.com/regional/ph/daily/2018-11-15/download\n"
     ]
    },
    {
     "name": "stderr",
     "output_type": "stream",
     "text": [
      "\r\n",
      "Collecting chart data from ph: 319it [09:28,  1.72s/it]"
     ]
    },
    {
     "name": "stdout",
     "output_type": "stream",
     "text": [
      "\n",
      "Date: 2018-11-16\n",
      "https://spotifycharts.com/regional/ph/daily/2018-11-16/download\n"
     ]
    },
    {
     "name": "stderr",
     "output_type": "stream",
     "text": [
      "\r\n",
      "Collecting chart data from ph: 320it [09:30,  1.76s/it]"
     ]
    },
    {
     "name": "stdout",
     "output_type": "stream",
     "text": [
      "\n",
      "Date: 2018-11-17\n",
      "https://spotifycharts.com/regional/ph/daily/2018-11-17/download\n"
     ]
    },
    {
     "name": "stderr",
     "output_type": "stream",
     "text": [
      "\r\n",
      "Collecting chart data from ph: 321it [09:31,  1.69s/it]"
     ]
    },
    {
     "name": "stdout",
     "output_type": "stream",
     "text": [
      "\n",
      "Date: 2018-11-18\n",
      "https://spotifycharts.com/regional/ph/daily/2018-11-18/download\n"
     ]
    },
    {
     "name": "stderr",
     "output_type": "stream",
     "text": [
      "\r\n",
      "Collecting chart data from ph: 322it [09:33,  1.68s/it]"
     ]
    },
    {
     "name": "stdout",
     "output_type": "stream",
     "text": [
      "\n",
      "Date: 2018-11-19\n",
      "https://spotifycharts.com/regional/ph/daily/2018-11-19/download\n"
     ]
    },
    {
     "name": "stderr",
     "output_type": "stream",
     "text": [
      "\r\n",
      "Collecting chart data from ph: 323it [09:34,  1.70s/it]"
     ]
    },
    {
     "name": "stdout",
     "output_type": "stream",
     "text": [
      "\n",
      "Date: 2018-11-20\n",
      "https://spotifycharts.com/regional/ph/daily/2018-11-20/download\n"
     ]
    },
    {
     "name": "stderr",
     "output_type": "stream",
     "text": [
      "\r\n",
      "Collecting chart data from ph: 324it [09:36,  1.68s/it]"
     ]
    },
    {
     "name": "stdout",
     "output_type": "stream",
     "text": [
      "\n",
      "Date: 2018-11-21\n",
      "https://spotifycharts.com/regional/ph/daily/2018-11-21/download\n"
     ]
    },
    {
     "name": "stderr",
     "output_type": "stream",
     "text": [
      "\r\n",
      "Collecting chart data from ph: 325it [09:38,  1.66s/it]"
     ]
    },
    {
     "name": "stdout",
     "output_type": "stream",
     "text": [
      "\n",
      "Date: 2018-11-22\n",
      "https://spotifycharts.com/regional/ph/daily/2018-11-22/download\n"
     ]
    },
    {
     "name": "stderr",
     "output_type": "stream",
     "text": [
      "\r\n",
      "Collecting chart data from ph: 326it [09:39,  1.67s/it]"
     ]
    },
    {
     "name": "stdout",
     "output_type": "stream",
     "text": [
      "\n",
      "Date: 2018-11-23\n",
      "https://spotifycharts.com/regional/ph/daily/2018-11-23/download\n"
     ]
    },
    {
     "name": "stderr",
     "output_type": "stream",
     "text": [
      "\r\n",
      "Collecting chart data from ph: 327it [09:41,  1.64s/it]"
     ]
    },
    {
     "name": "stdout",
     "output_type": "stream",
     "text": [
      "\n",
      "Date: 2018-11-24\n",
      "https://spotifycharts.com/regional/ph/daily/2018-11-24/download\n"
     ]
    },
    {
     "name": "stderr",
     "output_type": "stream",
     "text": [
      "\r\n",
      "Collecting chart data from ph: 328it [09:43,  1.74s/it]"
     ]
    },
    {
     "name": "stdout",
     "output_type": "stream",
     "text": [
      "\n",
      "Date: 2018-11-25\n",
      "https://spotifycharts.com/regional/ph/daily/2018-11-25/download\n"
     ]
    },
    {
     "name": "stderr",
     "output_type": "stream",
     "text": [
      "\r\n",
      "Collecting chart data from ph: 329it [09:45,  1.82s/it]"
     ]
    },
    {
     "name": "stdout",
     "output_type": "stream",
     "text": [
      "\n",
      "Date: 2018-11-26\n",
      "https://spotifycharts.com/regional/ph/daily/2018-11-26/download\n"
     ]
    },
    {
     "name": "stderr",
     "output_type": "stream",
     "text": [
      "\r\n",
      "Collecting chart data from ph: 330it [09:46,  1.74s/it]"
     ]
    },
    {
     "name": "stdout",
     "output_type": "stream",
     "text": [
      "\n",
      "Date: 2018-11-27\n",
      "https://spotifycharts.com/regional/ph/daily/2018-11-27/download\n"
     ]
    },
    {
     "name": "stderr",
     "output_type": "stream",
     "text": [
      "\r\n",
      "Collecting chart data from ph: 331it [09:48,  1.74s/it]"
     ]
    },
    {
     "name": "stdout",
     "output_type": "stream",
     "text": [
      "\n",
      "Date: 2018-11-28\n",
      "https://spotifycharts.com/regional/ph/daily/2018-11-28/download\n"
     ]
    },
    {
     "name": "stderr",
     "output_type": "stream",
     "text": [
      "\r\n",
      "Collecting chart data from ph: 332it [09:50,  1.78s/it]"
     ]
    },
    {
     "name": "stdout",
     "output_type": "stream",
     "text": [
      "\n",
      "Date: 2018-11-29\n",
      "https://spotifycharts.com/regional/ph/daily/2018-11-29/download\n"
     ]
    },
    {
     "name": "stderr",
     "output_type": "stream",
     "text": [
      "\r\n",
      "Collecting chart data from ph: 333it [09:52,  1.78s/it]"
     ]
    },
    {
     "name": "stdout",
     "output_type": "stream",
     "text": [
      "\n",
      "Date: 2018-11-30\n",
      "https://spotifycharts.com/regional/ph/daily/2018-11-30/download\n"
     ]
    },
    {
     "name": "stderr",
     "output_type": "stream",
     "text": [
      "\r\n",
      "Collecting chart data from ph: 334it [09:54,  1.78s/it]"
     ]
    },
    {
     "name": "stdout",
     "output_type": "stream",
     "text": [
      "\n",
      "Date: 2018-12-01\n",
      "https://spotifycharts.com/regional/ph/daily/2018-12-01/download\n"
     ]
    },
    {
     "name": "stderr",
     "output_type": "stream",
     "text": [
      "\r\n",
      "Collecting chart data from ph: 335it [09:55,  1.72s/it]"
     ]
    },
    {
     "name": "stdout",
     "output_type": "stream",
     "text": [
      "\n",
      "Date: 2018-12-02\n",
      "https://spotifycharts.com/regional/ph/daily/2018-12-02/download\n"
     ]
    },
    {
     "name": "stderr",
     "output_type": "stream",
     "text": [
      "\r\n",
      "Collecting chart data from ph: 336it [09:57,  1.70s/it]"
     ]
    },
    {
     "name": "stdout",
     "output_type": "stream",
     "text": [
      "\n",
      "Date: 2018-12-03\n",
      "https://spotifycharts.com/regional/ph/daily/2018-12-03/download\n"
     ]
    },
    {
     "name": "stderr",
     "output_type": "stream",
     "text": [
      "\r\n",
      "Collecting chart data from ph: 337it [09:58,  1.66s/it]"
     ]
    },
    {
     "name": "stdout",
     "output_type": "stream",
     "text": [
      "\n",
      "Date: 2018-12-04\n",
      "https://spotifycharts.com/regional/ph/daily/2018-12-04/download\n"
     ]
    },
    {
     "name": "stderr",
     "output_type": "stream",
     "text": [
      "\r\n",
      "Collecting chart data from ph: 338it [10:00,  1.71s/it]"
     ]
    },
    {
     "name": "stdout",
     "output_type": "stream",
     "text": [
      "\n",
      "Date: 2018-12-05\n",
      "https://spotifycharts.com/regional/ph/daily/2018-12-05/download\n"
     ]
    },
    {
     "name": "stderr",
     "output_type": "stream",
     "text": [
      "\r\n",
      "Collecting chart data from ph: 339it [10:02,  1.80s/it]"
     ]
    },
    {
     "name": "stdout",
     "output_type": "stream",
     "text": [
      "\n",
      "Date: 2018-12-06\n",
      "https://spotifycharts.com/regional/ph/daily/2018-12-06/download\n"
     ]
    },
    {
     "name": "stderr",
     "output_type": "stream",
     "text": [
      "\r\n",
      "Collecting chart data from ph: 340it [10:04,  1.86s/it]"
     ]
    },
    {
     "name": "stdout",
     "output_type": "stream",
     "text": [
      "\n",
      "Date: 2018-12-07\n",
      "https://spotifycharts.com/regional/ph/daily/2018-12-07/download\n"
     ]
    },
    {
     "name": "stderr",
     "output_type": "stream",
     "text": [
      "\r\n",
      "Collecting chart data from ph: 341it [10:06,  1.86s/it]"
     ]
    },
    {
     "name": "stdout",
     "output_type": "stream",
     "text": [
      "\n",
      "Date: 2018-12-08\n",
      "https://spotifycharts.com/regional/ph/daily/2018-12-08/download\n"
     ]
    },
    {
     "name": "stderr",
     "output_type": "stream",
     "text": [
      "\r\n",
      "Collecting chart data from ph: 342it [10:08,  1.81s/it]"
     ]
    },
    {
     "name": "stdout",
     "output_type": "stream",
     "text": [
      "\n",
      "Date: 2018-12-09\n",
      "https://spotifycharts.com/regional/ph/daily/2018-12-09/download\n"
     ]
    },
    {
     "name": "stderr",
     "output_type": "stream",
     "text": [
      "\r\n",
      "Collecting chart data from ph: 343it [10:10,  1.83s/it]"
     ]
    },
    {
     "name": "stdout",
     "output_type": "stream",
     "text": [
      "\n",
      "Date: 2018-12-10\n",
      "https://spotifycharts.com/regional/ph/daily/2018-12-10/download\n"
     ]
    },
    {
     "name": "stderr",
     "output_type": "stream",
     "text": [
      "\r\n",
      "Collecting chart data from ph: 344it [10:12,  1.93s/it]"
     ]
    },
    {
     "name": "stdout",
     "output_type": "stream",
     "text": [
      "\n",
      "Date: 2018-12-11\n",
      "https://spotifycharts.com/regional/ph/daily/2018-12-11/download\n"
     ]
    },
    {
     "name": "stderr",
     "output_type": "stream",
     "text": [
      "\r\n",
      "Collecting chart data from ph: 345it [10:14,  1.94s/it]"
     ]
    },
    {
     "name": "stdout",
     "output_type": "stream",
     "text": [
      "\n",
      "Date: 2018-12-12\n",
      "https://spotifycharts.com/regional/ph/daily/2018-12-12/download\n"
     ]
    },
    {
     "name": "stderr",
     "output_type": "stream",
     "text": [
      "\r\n",
      "Collecting chart data from ph: 346it [10:16,  1.89s/it]"
     ]
    },
    {
     "name": "stdout",
     "output_type": "stream",
     "text": [
      "\n",
      "Date: 2018-12-13\n",
      "https://spotifycharts.com/regional/ph/daily/2018-12-13/download\n"
     ]
    },
    {
     "name": "stderr",
     "output_type": "stream",
     "text": [
      "\r\n",
      "Collecting chart data from ph: 347it [10:17,  1.78s/it]"
     ]
    },
    {
     "name": "stdout",
     "output_type": "stream",
     "text": [
      "\n",
      "Date: 2018-12-14\n",
      "https://spotifycharts.com/regional/ph/daily/2018-12-14/download\n"
     ]
    },
    {
     "name": "stderr",
     "output_type": "stream",
     "text": [
      "\r\n",
      "Collecting chart data from ph: 348it [10:19,  1.74s/it]"
     ]
    },
    {
     "name": "stdout",
     "output_type": "stream",
     "text": [
      "\n",
      "Date: 2018-12-15\n",
      "https://spotifycharts.com/regional/ph/daily/2018-12-15/download\n"
     ]
    },
    {
     "name": "stderr",
     "output_type": "stream",
     "text": [
      "\r\n",
      "Collecting chart data from ph: 349it [10:20,  1.68s/it]"
     ]
    },
    {
     "name": "stdout",
     "output_type": "stream",
     "text": [
      "\n",
      "Date: 2018-12-16\n",
      "https://spotifycharts.com/regional/ph/daily/2018-12-16/download\n"
     ]
    },
    {
     "name": "stderr",
     "output_type": "stream",
     "text": [
      "\r\n",
      "Collecting chart data from ph: 350it [10:22,  1.63s/it]"
     ]
    },
    {
     "name": "stdout",
     "output_type": "stream",
     "text": [
      "\n",
      "Date: 2018-12-17\n",
      "https://spotifycharts.com/regional/ph/daily/2018-12-17/download\n"
     ]
    },
    {
     "name": "stderr",
     "output_type": "stream",
     "text": [
      "\r\n",
      "Collecting chart data from ph: 351it [10:24,  1.65s/it]"
     ]
    },
    {
     "name": "stdout",
     "output_type": "stream",
     "text": [
      "\n",
      "Date: 2018-12-18\n",
      "https://spotifycharts.com/regional/ph/daily/2018-12-18/download\n"
     ]
    },
    {
     "name": "stderr",
     "output_type": "stream",
     "text": [
      "\r\n",
      "Collecting chart data from ph: 352it [10:25,  1.63s/it]"
     ]
    },
    {
     "name": "stdout",
     "output_type": "stream",
     "text": [
      "\n",
      "Date: 2018-12-19\n",
      "https://spotifycharts.com/regional/ph/daily/2018-12-19/download\n"
     ]
    },
    {
     "name": "stderr",
     "output_type": "stream",
     "text": [
      "\r\n",
      "Collecting chart data from ph: 353it [10:27,  1.67s/it]"
     ]
    },
    {
     "name": "stdout",
     "output_type": "stream",
     "text": [
      "\n",
      "Date: 2018-12-20\n",
      "https://spotifycharts.com/regional/ph/daily/2018-12-20/download\n"
     ]
    },
    {
     "name": "stderr",
     "output_type": "stream",
     "text": [
      "\r\n",
      "Collecting chart data from ph: 354it [10:28,  1.65s/it]"
     ]
    },
    {
     "name": "stdout",
     "output_type": "stream",
     "text": [
      "\n",
      "Date: 2018-12-21\n",
      "https://spotifycharts.com/regional/ph/daily/2018-12-21/download\n"
     ]
    },
    {
     "name": "stderr",
     "output_type": "stream",
     "text": [
      "\r\n",
      "Collecting chart data from ph: 355it [10:30,  1.68s/it]"
     ]
    },
    {
     "name": "stdout",
     "output_type": "stream",
     "text": [
      "\n",
      "Date: 2018-12-22\n",
      "https://spotifycharts.com/regional/ph/daily/2018-12-22/download\n"
     ]
    },
    {
     "name": "stderr",
     "output_type": "stream",
     "text": [
      "\r\n",
      "Collecting chart data from ph: 356it [10:32,  1.71s/it]"
     ]
    },
    {
     "name": "stdout",
     "output_type": "stream",
     "text": [
      "\n",
      "Date: 2018-12-23\n",
      "https://spotifycharts.com/regional/ph/daily/2018-12-23/download\n"
     ]
    },
    {
     "name": "stderr",
     "output_type": "stream",
     "text": [
      "\r\n",
      "Collecting chart data from ph: 357it [10:34,  1.66s/it]"
     ]
    },
    {
     "name": "stdout",
     "output_type": "stream",
     "text": [
      "\n",
      "Date: 2018-12-24\n",
      "https://spotifycharts.com/regional/ph/daily/2018-12-24/download\n"
     ]
    },
    {
     "name": "stderr",
     "output_type": "stream",
     "text": [
      "\r\n",
      "Collecting chart data from ph: 358it [10:35,  1.68s/it]"
     ]
    },
    {
     "name": "stdout",
     "output_type": "stream",
     "text": [
      "\n",
      "Date: 2018-12-25\n",
      "https://spotifycharts.com/regional/ph/daily/2018-12-25/download\n"
     ]
    },
    {
     "name": "stderr",
     "output_type": "stream",
     "text": [
      "\r\n",
      "Collecting chart data from ph: 359it [10:37,  1.67s/it]"
     ]
    },
    {
     "name": "stdout",
     "output_type": "stream",
     "text": [
      "\n",
      "Date: 2018-12-26\n",
      "https://spotifycharts.com/regional/ph/daily/2018-12-26/download\n"
     ]
    },
    {
     "name": "stderr",
     "output_type": "stream",
     "text": [
      "\r\n",
      "Collecting chart data from ph: 360it [10:39,  1.68s/it]"
     ]
    },
    {
     "name": "stdout",
     "output_type": "stream",
     "text": [
      "\n",
      "Date: 2018-12-27\n",
      "https://spotifycharts.com/regional/ph/daily/2018-12-27/download\n"
     ]
    },
    {
     "name": "stderr",
     "output_type": "stream",
     "text": [
      "\r\n",
      "Collecting chart data from ph: 361it [10:40,  1.68s/it]"
     ]
    },
    {
     "name": "stdout",
     "output_type": "stream",
     "text": [
      "\n",
      "Date: 2018-12-28\n",
      "https://spotifycharts.com/regional/ph/daily/2018-12-28/download\n"
     ]
    },
    {
     "name": "stderr",
     "output_type": "stream",
     "text": [
      "\r\n",
      "Collecting chart data from ph: 362it [10:42,  1.68s/it]"
     ]
    },
    {
     "name": "stdout",
     "output_type": "stream",
     "text": [
      "\n",
      "Date: 2018-12-29\n",
      "https://spotifycharts.com/regional/ph/daily/2018-12-29/download\n"
     ]
    },
    {
     "name": "stderr",
     "output_type": "stream",
     "text": [
      "\r\n",
      "Collecting chart data from ph: 363it [10:44,  1.66s/it]"
     ]
    },
    {
     "name": "stdout",
     "output_type": "stream",
     "text": [
      "\n",
      "Date: 2018-12-30\n",
      "https://spotifycharts.com/regional/ph/daily/2018-12-30/download\n"
     ]
    },
    {
     "name": "stderr",
     "output_type": "stream",
     "text": [
      "\r\n",
      "Collecting chart data from ph: 364it [10:45,  1.62s/it]"
     ]
    },
    {
     "name": "stdout",
     "output_type": "stream",
     "text": [
      "\n",
      "Date: 2018-12-31\n",
      "https://spotifycharts.com/regional/ph/daily/2018-12-31/download\n"
     ]
    },
    {
     "name": "stderr",
     "output_type": "stream",
     "text": [
      "\r\n",
      "Collecting chart data from ph: 365it [10:47,  1.63s/it]"
     ]
    },
    {
     "name": "stdout",
     "output_type": "stream",
     "text": [
      "\n",
      "Date: 2019-01-01\n",
      "https://spotifycharts.com/regional/ph/daily/2019-01-01/download\n"
     ]
    },
    {
     "name": "stderr",
     "output_type": "stream",
     "text": [
      "\r\n",
      "Collecting chart data from ph: 366it [10:49,  1.71s/it]"
     ]
    },
    {
     "name": "stdout",
     "output_type": "stream",
     "text": [
      "\n",
      "Date: 2019-01-02\n",
      "https://spotifycharts.com/regional/ph/daily/2019-01-02/download\n"
     ]
    },
    {
     "name": "stderr",
     "output_type": "stream",
     "text": [
      "\r\n",
      "Collecting chart data from ph: 367it [10:50,  1.68s/it]"
     ]
    },
    {
     "name": "stdout",
     "output_type": "stream",
     "text": [
      "\n",
      "Date: 2019-01-03\n",
      "https://spotifycharts.com/regional/ph/daily/2019-01-03/download\n"
     ]
    },
    {
     "name": "stderr",
     "output_type": "stream",
     "text": [
      "\r\n",
      "Collecting chart data from ph: 368it [10:52,  1.67s/it]"
     ]
    },
    {
     "name": "stdout",
     "output_type": "stream",
     "text": [
      "\n",
      "Date: 2019-01-04\n",
      "https://spotifycharts.com/regional/ph/daily/2019-01-04/download\n"
     ]
    },
    {
     "name": "stderr",
     "output_type": "stream",
     "text": [
      "\r\n",
      "Collecting chart data from ph: 369it [10:54,  1.66s/it]"
     ]
    },
    {
     "name": "stdout",
     "output_type": "stream",
     "text": [
      "\n",
      "Date: 2019-01-05\n",
      "https://spotifycharts.com/regional/ph/daily/2019-01-05/download\n"
     ]
    },
    {
     "name": "stderr",
     "output_type": "stream",
     "text": [
      "\r\n",
      "Collecting chart data from ph: 370it [10:55,  1.62s/it]"
     ]
    },
    {
     "name": "stdout",
     "output_type": "stream",
     "text": [
      "\n",
      "Date: 2019-01-06\n",
      "https://spotifycharts.com/regional/ph/daily/2019-01-06/download\n"
     ]
    },
    {
     "name": "stderr",
     "output_type": "stream",
     "text": [
      "\r\n",
      "Collecting chart data from ph: 371it [10:57,  1.64s/it]"
     ]
    },
    {
     "name": "stdout",
     "output_type": "stream",
     "text": [
      "\n",
      "Date: 2019-01-07\n",
      "https://spotifycharts.com/regional/ph/daily/2019-01-07/download\n"
     ]
    },
    {
     "name": "stderr",
     "output_type": "stream",
     "text": [
      "\r\n",
      "Collecting chart data from ph: 372it [10:59,  1.69s/it]"
     ]
    },
    {
     "name": "stdout",
     "output_type": "stream",
     "text": [
      "\n",
      "Date: 2019-01-08\n",
      "https://spotifycharts.com/regional/ph/daily/2019-01-08/download\n"
     ]
    },
    {
     "name": "stderr",
     "output_type": "stream",
     "text": [
      "\r\n",
      "Collecting chart data from ph: 373it [11:00,  1.71s/it]"
     ]
    },
    {
     "name": "stdout",
     "output_type": "stream",
     "text": [
      "\n",
      "Date: 2019-01-09\n",
      "https://spotifycharts.com/regional/ph/daily/2019-01-09/download\n"
     ]
    },
    {
     "name": "stderr",
     "output_type": "stream",
     "text": [
      "\r\n",
      "Collecting chart data from ph: 374it [11:02,  1.74s/it]"
     ]
    },
    {
     "name": "stdout",
     "output_type": "stream",
     "text": [
      "\n",
      "Date: 2019-01-10\n",
      "https://spotifycharts.com/regional/ph/daily/2019-01-10/download\n"
     ]
    },
    {
     "name": "stderr",
     "output_type": "stream",
     "text": [
      "\r\n",
      "Collecting chart data from ph: 375it [11:04,  1.75s/it]"
     ]
    },
    {
     "name": "stdout",
     "output_type": "stream",
     "text": [
      "\n",
      "Date: 2019-01-11\n",
      "https://spotifycharts.com/regional/ph/daily/2019-01-11/download\n"
     ]
    },
    {
     "name": "stderr",
     "output_type": "stream",
     "text": [
      "\r\n",
      "Collecting chart data from ph: 376it [11:06,  1.74s/it]"
     ]
    },
    {
     "name": "stdout",
     "output_type": "stream",
     "text": [
      "\n",
      "Date: 2019-01-12\n",
      "https://spotifycharts.com/regional/ph/daily/2019-01-12/download\n"
     ]
    },
    {
     "name": "stderr",
     "output_type": "stream",
     "text": [
      "\r\n",
      "Collecting chart data from ph: 377it [11:08,  1.94s/it]"
     ]
    },
    {
     "name": "stdout",
     "output_type": "stream",
     "text": [
      "\n",
      "Date: 2019-01-13\n",
      "https://spotifycharts.com/regional/ph/daily/2019-01-13/download\n"
     ]
    },
    {
     "name": "stderr",
     "output_type": "stream",
     "text": [
      "\r\n",
      "Collecting chart data from ph: 378it [11:10,  1.88s/it]"
     ]
    },
    {
     "name": "stdout",
     "output_type": "stream",
     "text": [
      "\n",
      "Date: 2019-01-14\n",
      "https://spotifycharts.com/regional/ph/daily/2019-01-14/download\n"
     ]
    },
    {
     "name": "stderr",
     "output_type": "stream",
     "text": [
      "\r\n",
      "Collecting chart data from ph: 379it [11:12,  1.85s/it]"
     ]
    },
    {
     "name": "stdout",
     "output_type": "stream",
     "text": [
      "\n",
      "Date: 2019-01-15\n",
      "https://spotifycharts.com/regional/ph/daily/2019-01-15/download\n"
     ]
    },
    {
     "name": "stderr",
     "output_type": "stream",
     "text": [
      "\r\n",
      "Collecting chart data from ph: 380it [11:13,  1.82s/it]"
     ]
    },
    {
     "name": "stdout",
     "output_type": "stream",
     "text": [
      "\n",
      "Date: 2019-01-16\n",
      "https://spotifycharts.com/regional/ph/daily/2019-01-16/download\n"
     ]
    },
    {
     "name": "stderr",
     "output_type": "stream",
     "text": [
      "\r\n",
      "Collecting chart data from ph: 381it [11:15,  1.85s/it]"
     ]
    },
    {
     "name": "stdout",
     "output_type": "stream",
     "text": [
      "\n",
      "Date: 2019-01-17\n",
      "https://spotifycharts.com/regional/ph/daily/2019-01-17/download\n"
     ]
    },
    {
     "name": "stderr",
     "output_type": "stream",
     "text": [
      "\r\n",
      "Collecting chart data from ph: 382it [11:17,  1.83s/it]"
     ]
    },
    {
     "name": "stdout",
     "output_type": "stream",
     "text": [
      "\n",
      "Date: 2019-01-18\n",
      "https://spotifycharts.com/regional/ph/daily/2019-01-18/download\n"
     ]
    },
    {
     "name": "stderr",
     "output_type": "stream",
     "text": [
      "\r\n",
      "Collecting chart data from ph: 383it [11:19,  1.81s/it]"
     ]
    },
    {
     "name": "stdout",
     "output_type": "stream",
     "text": [
      "\n",
      "Date: 2019-01-19\n",
      "https://spotifycharts.com/regional/ph/daily/2019-01-19/download\n"
     ]
    },
    {
     "name": "stderr",
     "output_type": "stream",
     "text": [
      "\r\n",
      "Collecting chart data from ph: 384it [11:20,  1.75s/it]"
     ]
    },
    {
     "name": "stdout",
     "output_type": "stream",
     "text": [
      "\n",
      "Date: 2019-01-20\n",
      "https://spotifycharts.com/regional/ph/daily/2019-01-20/download\n"
     ]
    },
    {
     "name": "stderr",
     "output_type": "stream",
     "text": [
      "\r\n",
      "Collecting chart data from ph: 385it [11:22,  1.72s/it]"
     ]
    },
    {
     "name": "stdout",
     "output_type": "stream",
     "text": [
      "\n",
      "Date: 2019-01-21\n",
      "https://spotifycharts.com/regional/ph/daily/2019-01-21/download\n"
     ]
    },
    {
     "name": "stderr",
     "output_type": "stream",
     "text": [
      "\r\n",
      "Collecting chart data from ph: 386it [11:24,  1.68s/it]"
     ]
    },
    {
     "name": "stdout",
     "output_type": "stream",
     "text": [
      "\n",
      "Date: 2019-01-22\n",
      "https://spotifycharts.com/regional/ph/daily/2019-01-22/download\n"
     ]
    },
    {
     "name": "stderr",
     "output_type": "stream",
     "text": [
      "\r\n",
      "Collecting chart data from ph: 387it [11:25,  1.72s/it]"
     ]
    },
    {
     "name": "stdout",
     "output_type": "stream",
     "text": [
      "\n",
      "Date: 2019-01-23\n",
      "https://spotifycharts.com/regional/ph/daily/2019-01-23/download\n"
     ]
    },
    {
     "name": "stderr",
     "output_type": "stream",
     "text": [
      "\r\n",
      "Collecting chart data from ph: 388it [11:27,  1.71s/it]"
     ]
    },
    {
     "name": "stdout",
     "output_type": "stream",
     "text": [
      "\n",
      "Date: 2019-01-24\n",
      "https://spotifycharts.com/regional/ph/daily/2019-01-24/download\n"
     ]
    },
    {
     "name": "stderr",
     "output_type": "stream",
     "text": [
      "\r\n",
      "Collecting chart data from ph: 389it [11:29,  1.67s/it]"
     ]
    },
    {
     "name": "stdout",
     "output_type": "stream",
     "text": [
      "\n",
      "Date: 2019-01-25\n",
      "https://spotifycharts.com/regional/ph/daily/2019-01-25/download\n"
     ]
    },
    {
     "name": "stderr",
     "output_type": "stream",
     "text": [
      "\r\n",
      "Collecting chart data from ph: 390it [11:30,  1.66s/it]"
     ]
    },
    {
     "name": "stdout",
     "output_type": "stream",
     "text": [
      "\n",
      "Date: 2019-01-26\n",
      "https://spotifycharts.com/regional/ph/daily/2019-01-26/download\n"
     ]
    },
    {
     "name": "stderr",
     "output_type": "stream",
     "text": [
      "\r\n",
      "Collecting chart data from ph: 391it [11:32,  1.61s/it]"
     ]
    },
    {
     "name": "stdout",
     "output_type": "stream",
     "text": [
      "\n",
      "Date: 2019-01-27\n",
      "https://spotifycharts.com/regional/ph/daily/2019-01-27/download\n"
     ]
    },
    {
     "name": "stderr",
     "output_type": "stream",
     "text": [
      "\r\n",
      "Collecting chart data from ph: 392it [11:33,  1.60s/it]"
     ]
    },
    {
     "name": "stdout",
     "output_type": "stream",
     "text": [
      "\n",
      "Date: 2019-01-28\n",
      "https://spotifycharts.com/regional/ph/daily/2019-01-28/download\n"
     ]
    },
    {
     "name": "stderr",
     "output_type": "stream",
     "text": [
      "\r\n",
      "Collecting chart data from ph: 393it [11:35,  1.60s/it]"
     ]
    },
    {
     "name": "stdout",
     "output_type": "stream",
     "text": [
      "\n",
      "Date: 2019-01-29\n",
      "https://spotifycharts.com/regional/ph/daily/2019-01-29/download\n"
     ]
    },
    {
     "name": "stderr",
     "output_type": "stream",
     "text": [
      "\r\n",
      "Collecting chart data from ph: 394it [11:37,  1.66s/it]"
     ]
    },
    {
     "name": "stdout",
     "output_type": "stream",
     "text": [
      "\n",
      "Date: 2019-01-30\n",
      "https://spotifycharts.com/regional/ph/daily/2019-01-30/download\n"
     ]
    },
    {
     "name": "stderr",
     "output_type": "stream",
     "text": [
      "\r\n",
      "Collecting chart data from ph: 395it [11:38,  1.61s/it]"
     ]
    },
    {
     "name": "stdout",
     "output_type": "stream",
     "text": [
      "\n",
      "Date: 2019-01-31\n",
      "https://spotifycharts.com/regional/ph/daily/2019-01-31/download\n"
     ]
    },
    {
     "name": "stderr",
     "output_type": "stream",
     "text": [
      "\r\n",
      "Collecting chart data from ph: 396it [11:40,  1.61s/it]"
     ]
    },
    {
     "name": "stdout",
     "output_type": "stream",
     "text": [
      "\n",
      "Date: 2019-02-01\n",
      "https://spotifycharts.com/regional/ph/daily/2019-02-01/download\n"
     ]
    },
    {
     "name": "stderr",
     "output_type": "stream",
     "text": [
      "\r\n",
      "Collecting chart data from ph: 397it [11:42,  1.63s/it]"
     ]
    },
    {
     "name": "stdout",
     "output_type": "stream",
     "text": [
      "\n",
      "Date: 2019-02-02\n",
      "https://spotifycharts.com/regional/ph/daily/2019-02-02/download\n"
     ]
    },
    {
     "name": "stderr",
     "output_type": "stream",
     "text": [
      "\r\n",
      "Collecting chart data from ph: 398it [11:43,  1.63s/it]"
     ]
    },
    {
     "name": "stdout",
     "output_type": "stream",
     "text": [
      "\n",
      "Date: 2019-02-03\n",
      "https://spotifycharts.com/regional/ph/daily/2019-02-03/download\n"
     ]
    },
    {
     "name": "stderr",
     "output_type": "stream",
     "text": [
      "\r\n",
      "Collecting chart data from ph: 399it [11:45,  1.61s/it]"
     ]
    },
    {
     "name": "stdout",
     "output_type": "stream",
     "text": [
      "\n",
      "Date: 2019-02-04\n",
      "https://spotifycharts.com/regional/ph/daily/2019-02-04/download\n"
     ]
    },
    {
     "name": "stderr",
     "output_type": "stream",
     "text": [
      "\r\n",
      "Collecting chart data from ph: 400it [11:46,  1.61s/it]"
     ]
    },
    {
     "name": "stdout",
     "output_type": "stream",
     "text": [
      "\n",
      "Date: 2019-02-05\n",
      "https://spotifycharts.com/regional/ph/daily/2019-02-05/download\n"
     ]
    },
    {
     "name": "stderr",
     "output_type": "stream",
     "text": [
      "\r\n",
      "Collecting chart data from ph: 401it [11:48,  1.59s/it]"
     ]
    },
    {
     "name": "stdout",
     "output_type": "stream",
     "text": [
      "\n",
      "Date: 2019-02-06\n",
      "https://spotifycharts.com/regional/ph/daily/2019-02-06/download\n"
     ]
    },
    {
     "name": "stderr",
     "output_type": "stream",
     "text": [
      "\r\n",
      "Collecting chart data from ph: 402it [11:50,  1.59s/it]"
     ]
    },
    {
     "name": "stdout",
     "output_type": "stream",
     "text": [
      "\n",
      "Date: 2019-02-07\n",
      "https://spotifycharts.com/regional/ph/daily/2019-02-07/download\n"
     ]
    },
    {
     "name": "stderr",
     "output_type": "stream",
     "text": [
      "\r\n",
      "Collecting chart data from ph: 403it [11:52,  1.70s/it]"
     ]
    },
    {
     "name": "stdout",
     "output_type": "stream",
     "text": [
      "\n",
      "Date: 2019-02-08\n",
      "https://spotifycharts.com/regional/ph/daily/2019-02-08/download\n"
     ]
    },
    {
     "name": "stderr",
     "output_type": "stream",
     "text": [
      "\r\n",
      "Collecting chart data from ph: 404it [11:53,  1.67s/it]"
     ]
    },
    {
     "name": "stdout",
     "output_type": "stream",
     "text": [
      "\n",
      "Date: 2019-02-09\n",
      "https://spotifycharts.com/regional/ph/daily/2019-02-09/download\n"
     ]
    },
    {
     "name": "stderr",
     "output_type": "stream",
     "text": [
      "\r\n",
      "Collecting chart data from ph: 405it [11:55,  1.76s/it]"
     ]
    },
    {
     "name": "stdout",
     "output_type": "stream",
     "text": [
      "\n",
      "Date: 2019-02-10\n",
      "https://spotifycharts.com/regional/ph/daily/2019-02-10/download\n"
     ]
    },
    {
     "name": "stderr",
     "output_type": "stream",
     "text": [
      "\r\n",
      "Collecting chart data from ph: 406it [11:57,  1.72s/it]"
     ]
    },
    {
     "name": "stdout",
     "output_type": "stream",
     "text": [
      "\n",
      "Date: 2019-02-11\n",
      "https://spotifycharts.com/regional/ph/daily/2019-02-11/download\n"
     ]
    },
    {
     "name": "stderr",
     "output_type": "stream",
     "text": [
      "\r\n",
      "Collecting chart data from ph: 407it [11:58,  1.69s/it]"
     ]
    },
    {
     "name": "stdout",
     "output_type": "stream",
     "text": [
      "\n",
      "Date: 2019-02-12\n",
      "https://spotifycharts.com/regional/ph/daily/2019-02-12/download\n"
     ]
    },
    {
     "name": "stderr",
     "output_type": "stream",
     "text": [
      "\r\n",
      "Collecting chart data from ph: 408it [12:00,  1.65s/it]"
     ]
    },
    {
     "name": "stdout",
     "output_type": "stream",
     "text": [
      "\n",
      "Date: 2019-02-13\n",
      "https://spotifycharts.com/regional/ph/daily/2019-02-13/download\n"
     ]
    },
    {
     "name": "stderr",
     "output_type": "stream",
     "text": [
      "\r\n",
      "Collecting chart data from ph: 409it [12:02,  1.64s/it]"
     ]
    },
    {
     "name": "stdout",
     "output_type": "stream",
     "text": [
      "\n",
      "Date: 2019-02-14\n",
      "https://spotifycharts.com/regional/ph/daily/2019-02-14/download\n"
     ]
    },
    {
     "name": "stderr",
     "output_type": "stream",
     "text": [
      "\r\n",
      "Collecting chart data from ph: 410it [12:03,  1.64s/it]"
     ]
    },
    {
     "name": "stdout",
     "output_type": "stream",
     "text": [
      "\n",
      "Date: 2019-02-15\n",
      "https://spotifycharts.com/regional/ph/daily/2019-02-15/download\n"
     ]
    },
    {
     "name": "stderr",
     "output_type": "stream",
     "text": [
      "\r\n",
      "Collecting chart data from ph: 411it [12:05,  1.63s/it]"
     ]
    },
    {
     "name": "stdout",
     "output_type": "stream",
     "text": [
      "\n",
      "Date: 2019-02-16\n",
      "https://spotifycharts.com/regional/ph/daily/2019-02-16/download\n"
     ]
    },
    {
     "name": "stderr",
     "output_type": "stream",
     "text": [
      "\r\n",
      "Collecting chart data from ph: 412it [12:06,  1.65s/it]"
     ]
    },
    {
     "name": "stdout",
     "output_type": "stream",
     "text": [
      "\n",
      "Date: 2019-02-17\n",
      "https://spotifycharts.com/regional/ph/daily/2019-02-17/download\n"
     ]
    },
    {
     "name": "stderr",
     "output_type": "stream",
     "text": [
      "\r\n",
      "Collecting chart data from ph: 413it [12:08,  1.64s/it]"
     ]
    },
    {
     "name": "stdout",
     "output_type": "stream",
     "text": [
      "\n",
      "Date: 2019-02-18\n",
      "https://spotifycharts.com/regional/ph/daily/2019-02-18/download\n"
     ]
    },
    {
     "name": "stderr",
     "output_type": "stream",
     "text": [
      "\r\n",
      "Collecting chart data from ph: 414it [12:10,  1.62s/it]"
     ]
    },
    {
     "name": "stdout",
     "output_type": "stream",
     "text": [
      "\n",
      "Date: 2019-02-19\n",
      "https://spotifycharts.com/regional/ph/daily/2019-02-19/download\n"
     ]
    },
    {
     "name": "stderr",
     "output_type": "stream",
     "text": [
      "\r\n",
      "Collecting chart data from ph: 415it [12:11,  1.68s/it]"
     ]
    },
    {
     "name": "stdout",
     "output_type": "stream",
     "text": [
      "\n",
      "Date: 2019-02-20\n",
      "https://spotifycharts.com/regional/ph/daily/2019-02-20/download\n"
     ]
    },
    {
     "name": "stderr",
     "output_type": "stream",
     "text": [
      "\r\n",
      "Collecting chart data from ph: 416it [12:13,  1.67s/it]"
     ]
    },
    {
     "name": "stdout",
     "output_type": "stream",
     "text": [
      "\n",
      "Date: 2019-02-21\n",
      "https://spotifycharts.com/regional/ph/daily/2019-02-21/download\n"
     ]
    },
    {
     "name": "stderr",
     "output_type": "stream",
     "text": [
      "\r\n",
      "Collecting chart data from ph: 417it [12:15,  1.64s/it]"
     ]
    },
    {
     "name": "stdout",
     "output_type": "stream",
     "text": [
      "\n",
      "Date: 2019-02-22\n",
      "https://spotifycharts.com/regional/ph/daily/2019-02-22/download\n"
     ]
    },
    {
     "name": "stderr",
     "output_type": "stream",
     "text": [
      "\r\n",
      "Collecting chart data from ph: 418it [12:16,  1.65s/it]"
     ]
    },
    {
     "name": "stdout",
     "output_type": "stream",
     "text": [
      "\n",
      "Date: 2019-02-23\n",
      "https://spotifycharts.com/regional/ph/daily/2019-02-23/download\n"
     ]
    },
    {
     "name": "stderr",
     "output_type": "stream",
     "text": [
      "\r\n",
      "Collecting chart data from ph: 419it [12:18,  1.68s/it]"
     ]
    },
    {
     "name": "stdout",
     "output_type": "stream",
     "text": [
      "\n",
      "Date: 2019-02-24\n",
      "https://spotifycharts.com/regional/ph/daily/2019-02-24/download\n"
     ]
    },
    {
     "name": "stderr",
     "output_type": "stream",
     "text": [
      "\r\n",
      "Collecting chart data from ph: 420it [12:20,  1.66s/it]"
     ]
    },
    {
     "name": "stdout",
     "output_type": "stream",
     "text": [
      "\n",
      "Date: 2019-02-25\n",
      "https://spotifycharts.com/regional/ph/daily/2019-02-25/download\n"
     ]
    },
    {
     "name": "stderr",
     "output_type": "stream",
     "text": [
      "\r\n",
      "Collecting chart data from ph: 421it [12:22,  1.72s/it]"
     ]
    },
    {
     "name": "stdout",
     "output_type": "stream",
     "text": [
      "\n",
      "Date: 2019-02-26\n",
      "https://spotifycharts.com/regional/ph/daily/2019-02-26/download\n"
     ]
    },
    {
     "name": "stderr",
     "output_type": "stream",
     "text": [
      "\r\n",
      "Collecting chart data from ph: 422it [12:23,  1.63s/it]"
     ]
    },
    {
     "name": "stdout",
     "output_type": "stream",
     "text": [
      "\n",
      "Date: 2019-02-27\n",
      "https://spotifycharts.com/regional/ph/daily/2019-02-27/download\n"
     ]
    },
    {
     "name": "stderr",
     "output_type": "stream",
     "text": [
      "\r\n",
      "Collecting chart data from ph: 423it [12:25,  1.64s/it]"
     ]
    },
    {
     "name": "stdout",
     "output_type": "stream",
     "text": [
      "\n",
      "Date: 2019-02-28\n",
      "https://spotifycharts.com/regional/ph/daily/2019-02-28/download\n"
     ]
    },
    {
     "name": "stderr",
     "output_type": "stream",
     "text": [
      "\r\n",
      "Collecting chart data from ph: 424it [12:26,  1.65s/it]"
     ]
    },
    {
     "name": "stdout",
     "output_type": "stream",
     "text": [
      "\n",
      "Date: 2019-03-01\n",
      "https://spotifycharts.com/regional/ph/daily/2019-03-01/download\n"
     ]
    },
    {
     "name": "stderr",
     "output_type": "stream",
     "text": [
      "\r\n",
      "Collecting chart data from ph: 425it [12:28,  1.68s/it]"
     ]
    },
    {
     "name": "stdout",
     "output_type": "stream",
     "text": [
      "\n",
      "Date: 2019-03-02\n",
      "https://spotifycharts.com/regional/ph/daily/2019-03-02/download\n"
     ]
    },
    {
     "name": "stderr",
     "output_type": "stream",
     "text": [
      "\r\n",
      "Collecting chart data from ph: 426it [12:30,  1.62s/it]"
     ]
    },
    {
     "name": "stdout",
     "output_type": "stream",
     "text": [
      "\n",
      "Date: 2019-03-03\n",
      "https://spotifycharts.com/regional/ph/daily/2019-03-03/download\n"
     ]
    },
    {
     "name": "stderr",
     "output_type": "stream",
     "text": [
      "\r\n",
      "Collecting chart data from ph: 427it [12:31,  1.69s/it]"
     ]
    },
    {
     "name": "stdout",
     "output_type": "stream",
     "text": [
      "\n",
      "Date: 2019-03-04\n",
      "https://spotifycharts.com/regional/ph/daily/2019-03-04/download\n"
     ]
    },
    {
     "name": "stderr",
     "output_type": "stream",
     "text": [
      "\r\n",
      "Collecting chart data from ph: 428it [12:33,  1.75s/it]"
     ]
    },
    {
     "name": "stdout",
     "output_type": "stream",
     "text": [
      "\n",
      "Date: 2019-03-05\n",
      "https://spotifycharts.com/regional/ph/daily/2019-03-05/download\n"
     ]
    },
    {
     "name": "stderr",
     "output_type": "stream",
     "text": [
      "\r\n",
      "Collecting chart data from ph: 429it [12:35,  1.73s/it]"
     ]
    },
    {
     "name": "stdout",
     "output_type": "stream",
     "text": [
      "\n",
      "Date: 2019-03-06\n",
      "https://spotifycharts.com/regional/ph/daily/2019-03-06/download\n"
     ]
    },
    {
     "name": "stderr",
     "output_type": "stream",
     "text": [
      "\r\n",
      "Collecting chart data from ph: 430it [12:37,  1.75s/it]"
     ]
    },
    {
     "name": "stdout",
     "output_type": "stream",
     "text": [
      "\n",
      "Date: 2019-03-07\n",
      "https://spotifycharts.com/regional/ph/daily/2019-03-07/download\n"
     ]
    },
    {
     "name": "stderr",
     "output_type": "stream",
     "text": [
      "\r\n",
      "Collecting chart data from ph: 431it [12:39,  1.81s/it]"
     ]
    },
    {
     "name": "stdout",
     "output_type": "stream",
     "text": [
      "\n",
      "Date: 2019-03-08\n",
      "https://spotifycharts.com/regional/ph/daily/2019-03-08/download\n"
     ]
    },
    {
     "name": "stderr",
     "output_type": "stream",
     "text": [
      "\r\n",
      "Collecting chart data from ph: 432it [12:41,  1.94s/it]"
     ]
    },
    {
     "name": "stdout",
     "output_type": "stream",
     "text": [
      "\n",
      "Date: 2019-03-09\n",
      "https://spotifycharts.com/regional/ph/daily/2019-03-09/download\n"
     ]
    },
    {
     "name": "stderr",
     "output_type": "stream",
     "text": [
      "\r\n",
      "Collecting chart data from ph: 433it [12:45,  2.52s/it]"
     ]
    },
    {
     "name": "stdout",
     "output_type": "stream",
     "text": [
      "\n",
      "Date: 2019-03-10\n",
      "https://spotifycharts.com/regional/ph/daily/2019-03-10/download\n"
     ]
    },
    {
     "name": "stderr",
     "output_type": "stream",
     "text": [
      "\r\n",
      "Collecting chart data from ph: 434it [12:47,  2.32s/it]"
     ]
    },
    {
     "name": "stdout",
     "output_type": "stream",
     "text": [
      "\n",
      "Date: 2019-03-11\n",
      "https://spotifycharts.com/regional/ph/daily/2019-03-11/download\n"
     ]
    },
    {
     "name": "stderr",
     "output_type": "stream",
     "text": [
      "\r\n",
      "Collecting chart data from ph: 435it [12:48,  2.12s/it]"
     ]
    },
    {
     "name": "stdout",
     "output_type": "stream",
     "text": [
      "\n",
      "Date: 2019-03-12\n",
      "https://spotifycharts.com/regional/ph/daily/2019-03-12/download\n"
     ]
    },
    {
     "name": "stderr",
     "output_type": "stream",
     "text": [
      "\r\n",
      "Collecting chart data from ph: 436it [12:50,  1.98s/it]"
     ]
    },
    {
     "name": "stdout",
     "output_type": "stream",
     "text": [
      "\n",
      "Date: 2019-03-13\n",
      "https://spotifycharts.com/regional/ph/daily/2019-03-13/download\n"
     ]
    },
    {
     "name": "stderr",
     "output_type": "stream",
     "text": [
      "\r\n",
      "Collecting chart data from ph: 437it [12:52,  1.89s/it]"
     ]
    },
    {
     "name": "stdout",
     "output_type": "stream",
     "text": [
      "\n",
      "Date: 2019-03-14\n",
      "https://spotifycharts.com/regional/ph/daily/2019-03-14/download\n"
     ]
    },
    {
     "name": "stderr",
     "output_type": "stream",
     "text": [
      "\r\n",
      "Collecting chart data from ph: 438it [12:53,  1.80s/it]"
     ]
    },
    {
     "name": "stdout",
     "output_type": "stream",
     "text": [
      "\n",
      "Date: 2019-03-15\n",
      "https://spotifycharts.com/regional/ph/daily/2019-03-15/download\n"
     ]
    },
    {
     "name": "stderr",
     "output_type": "stream",
     "text": [
      "\r\n",
      "Collecting chart data from ph: 439it [12:55,  1.77s/it]"
     ]
    },
    {
     "name": "stdout",
     "output_type": "stream",
     "text": [
      "\n",
      "Date: 2019-03-16\n",
      "https://spotifycharts.com/regional/ph/daily/2019-03-16/download\n"
     ]
    },
    {
     "name": "stderr",
     "output_type": "stream",
     "text": [
      "\r\n",
      "Collecting chart data from ph: 440it [12:57,  1.75s/it]"
     ]
    },
    {
     "name": "stdout",
     "output_type": "stream",
     "text": [
      "\n",
      "Date: 2019-03-17\n",
      "https://spotifycharts.com/regional/ph/daily/2019-03-17/download\n"
     ]
    },
    {
     "name": "stderr",
     "output_type": "stream",
     "text": [
      "\r\n",
      "Collecting chart data from ph: 441it [12:58,  1.71s/it]"
     ]
    },
    {
     "name": "stdout",
     "output_type": "stream",
     "text": [
      "\n",
      "Date: 2019-03-18\n",
      "https://spotifycharts.com/regional/ph/daily/2019-03-18/download\n"
     ]
    },
    {
     "name": "stderr",
     "output_type": "stream",
     "text": [
      "\r\n",
      "Collecting chart data from ph: 442it [13:00,  1.69s/it]"
     ]
    },
    {
     "name": "stdout",
     "output_type": "stream",
     "text": [
      "\n",
      "Date: 2019-03-19\n",
      "https://spotifycharts.com/regional/ph/daily/2019-03-19/download\n"
     ]
    },
    {
     "name": "stderr",
     "output_type": "stream",
     "text": [
      "\r\n",
      "Collecting chart data from ph: 443it [13:02,  1.65s/it]"
     ]
    },
    {
     "name": "stdout",
     "output_type": "stream",
     "text": [
      "\n",
      "Date: 2019-03-20\n",
      "https://spotifycharts.com/regional/ph/daily/2019-03-20/download\n"
     ]
    },
    {
     "name": "stderr",
     "output_type": "stream",
     "text": [
      "\r\n",
      "Collecting chart data from ph: 444it [13:03,  1.62s/it]"
     ]
    },
    {
     "name": "stdout",
     "output_type": "stream",
     "text": [
      "\n",
      "Date: 2019-03-21\n",
      "https://spotifycharts.com/regional/ph/daily/2019-03-21/download\n"
     ]
    },
    {
     "name": "stderr",
     "output_type": "stream",
     "text": [
      "\r\n",
      "Collecting chart data from ph: 445it [13:05,  1.61s/it]"
     ]
    },
    {
     "name": "stdout",
     "output_type": "stream",
     "text": [
      "\n",
      "Date: 2019-03-22\n",
      "https://spotifycharts.com/regional/ph/daily/2019-03-22/download\n"
     ]
    },
    {
     "name": "stderr",
     "output_type": "stream",
     "text": [
      "\r\n",
      "Collecting chart data from ph: 446it [13:06,  1.64s/it]"
     ]
    },
    {
     "name": "stdout",
     "output_type": "stream",
     "text": [
      "\n",
      "Date: 2019-03-23\n",
      "https://spotifycharts.com/regional/ph/daily/2019-03-23/download\n"
     ]
    },
    {
     "name": "stderr",
     "output_type": "stream",
     "text": [
      "\r\n",
      "Collecting chart data from ph: 447it [13:08,  1.69s/it]"
     ]
    },
    {
     "name": "stdout",
     "output_type": "stream",
     "text": [
      "\n",
      "Date: 2019-03-24\n",
      "https://spotifycharts.com/regional/ph/daily/2019-03-24/download\n"
     ]
    },
    {
     "name": "stderr",
     "output_type": "stream",
     "text": [
      "\r\n",
      "Collecting chart data from ph: 448it [13:10,  1.67s/it]"
     ]
    },
    {
     "name": "stdout",
     "output_type": "stream",
     "text": [
      "\n",
      "Date: 2019-03-25\n",
      "https://spotifycharts.com/regional/ph/daily/2019-03-25/download\n"
     ]
    },
    {
     "name": "stderr",
     "output_type": "stream",
     "text": [
      "\r\n",
      "Collecting chart data from ph: 449it [13:11,  1.66s/it]"
     ]
    },
    {
     "name": "stdout",
     "output_type": "stream",
     "text": [
      "\n",
      "Date: 2019-03-26\n",
      "https://spotifycharts.com/regional/ph/daily/2019-03-26/download\n"
     ]
    },
    {
     "name": "stderr",
     "output_type": "stream",
     "text": [
      "\r\n",
      "Collecting chart data from ph: 450it [13:14,  1.86s/it]"
     ]
    },
    {
     "name": "stdout",
     "output_type": "stream",
     "text": [
      "\n",
      "Date: 2019-03-27\n",
      "https://spotifycharts.com/regional/ph/daily/2019-03-27/download\n"
     ]
    },
    {
     "name": "stderr",
     "output_type": "stream",
     "text": [
      "\r\n",
      "Collecting chart data from ph: 451it [13:15,  1.83s/it]"
     ]
    },
    {
     "name": "stdout",
     "output_type": "stream",
     "text": [
      "\n",
      "Date: 2019-03-28\n",
      "https://spotifycharts.com/regional/ph/daily/2019-03-28/download\n"
     ]
    },
    {
     "name": "stderr",
     "output_type": "stream",
     "text": [
      "\r\n",
      "Collecting chart data from ph: 452it [13:17,  1.83s/it]"
     ]
    },
    {
     "name": "stdout",
     "output_type": "stream",
     "text": [
      "\n",
      "Date: 2019-03-29\n",
      "https://spotifycharts.com/regional/ph/daily/2019-03-29/download\n"
     ]
    },
    {
     "name": "stderr",
     "output_type": "stream",
     "text": [
      "\r\n",
      "Collecting chart data from ph: 453it [13:19,  1.76s/it]"
     ]
    },
    {
     "name": "stdout",
     "output_type": "stream",
     "text": [
      "\n",
      "Date: 2019-03-30\n",
      "https://spotifycharts.com/regional/ph/daily/2019-03-30/download\n"
     ]
    },
    {
     "name": "stderr",
     "output_type": "stream",
     "text": [
      "\r\n",
      "Collecting chart data from ph: 454it [13:21,  1.72s/it]"
     ]
    },
    {
     "name": "stdout",
     "output_type": "stream",
     "text": [
      "\n",
      "Date: 2019-03-31\n",
      "https://spotifycharts.com/regional/ph/daily/2019-03-31/download\n"
     ]
    },
    {
     "name": "stderr",
     "output_type": "stream",
     "text": [
      "\r\n",
      "Collecting chart data from ph: 455it [13:23,  1.80s/it]"
     ]
    },
    {
     "name": "stdout",
     "output_type": "stream",
     "text": [
      "\n",
      "Date: 2019-04-01\n",
      "https://spotifycharts.com/regional/ph/daily/2019-04-01/download\n"
     ]
    },
    {
     "name": "stderr",
     "output_type": "stream",
     "text": [
      "\r\n",
      "Collecting chart data from ph: 456it [13:24,  1.79s/it]"
     ]
    },
    {
     "name": "stdout",
     "output_type": "stream",
     "text": [
      "\n",
      "Date: 2019-04-02\n",
      "https://spotifycharts.com/regional/ph/daily/2019-04-02/download\n"
     ]
    },
    {
     "name": "stderr",
     "output_type": "stream",
     "text": [
      "\r\n",
      "Collecting chart data from ph: 457it [13:26,  1.72s/it]"
     ]
    },
    {
     "name": "stdout",
     "output_type": "stream",
     "text": [
      "\n",
      "Date: 2019-04-03\n",
      "https://spotifycharts.com/regional/ph/daily/2019-04-03/download\n"
     ]
    },
    {
     "name": "stderr",
     "output_type": "stream",
     "text": [
      "\r\n",
      "Collecting chart data from ph: 458it [13:27,  1.67s/it]"
     ]
    },
    {
     "name": "stdout",
     "output_type": "stream",
     "text": [
      "\n",
      "Date: 2019-04-04\n",
      "https://spotifycharts.com/regional/ph/daily/2019-04-04/download\n"
     ]
    },
    {
     "name": "stderr",
     "output_type": "stream",
     "text": [
      "\r\n",
      "Collecting chart data from ph: 459it [13:29,  1.63s/it]"
     ]
    },
    {
     "name": "stdout",
     "output_type": "stream",
     "text": [
      "\n",
      "Date: 2019-04-05\n",
      "https://spotifycharts.com/regional/ph/daily/2019-04-05/download\n"
     ]
    },
    {
     "name": "stderr",
     "output_type": "stream",
     "text": [
      "\r\n",
      "Collecting chart data from ph: 460it [13:31,  1.63s/it]"
     ]
    },
    {
     "name": "stdout",
     "output_type": "stream",
     "text": [
      "\n",
      "Date: 2019-04-06\n",
      "https://spotifycharts.com/regional/ph/daily/2019-04-06/download\n"
     ]
    },
    {
     "name": "stderr",
     "output_type": "stream",
     "text": [
      "\r\n",
      "Collecting chart data from ph: 461it [13:32,  1.66s/it]"
     ]
    },
    {
     "name": "stdout",
     "output_type": "stream",
     "text": [
      "\n",
      "Date: 2019-04-07\n",
      "https://spotifycharts.com/regional/ph/daily/2019-04-07/download\n"
     ]
    },
    {
     "name": "stderr",
     "output_type": "stream",
     "text": [
      "\r\n",
      "Collecting chart data from ph: 462it [13:34,  1.74s/it]"
     ]
    },
    {
     "name": "stdout",
     "output_type": "stream",
     "text": [
      "\n",
      "Date: 2019-04-08\n",
      "https://spotifycharts.com/regional/ph/daily/2019-04-08/download\n"
     ]
    },
    {
     "name": "stderr",
     "output_type": "stream",
     "text": [
      "\r\n",
      "Collecting chart data from ph: 463it [13:36,  1.67s/it]"
     ]
    },
    {
     "name": "stdout",
     "output_type": "stream",
     "text": [
      "\n",
      "Date: 2019-04-09\n",
      "https://spotifycharts.com/regional/ph/daily/2019-04-09/download\n"
     ]
    },
    {
     "name": "stderr",
     "output_type": "stream",
     "text": [
      "\r\n",
      "Collecting chart data from ph: 464it [13:37,  1.64s/it]"
     ]
    },
    {
     "name": "stdout",
     "output_type": "stream",
     "text": [
      "\n",
      "Date: 2019-04-10\n",
      "https://spotifycharts.com/regional/ph/daily/2019-04-10/download\n"
     ]
    },
    {
     "name": "stderr",
     "output_type": "stream",
     "text": [
      "\r\n",
      "Collecting chart data from ph: 465it [13:39,  1.63s/it]"
     ]
    },
    {
     "name": "stdout",
     "output_type": "stream",
     "text": [
      "\n",
      "Date: 2019-04-11\n",
      "https://spotifycharts.com/regional/ph/daily/2019-04-11/download\n"
     ]
    },
    {
     "name": "stderr",
     "output_type": "stream",
     "text": [
      "\r\n",
      "Collecting chart data from ph: 466it [13:40,  1.59s/it]"
     ]
    },
    {
     "name": "stdout",
     "output_type": "stream",
     "text": [
      "\n",
      "Date: 2019-04-12\n",
      "https://spotifycharts.com/regional/ph/daily/2019-04-12/download\n"
     ]
    },
    {
     "name": "stderr",
     "output_type": "stream",
     "text": [
      "\r\n",
      "Collecting chart data from ph: 467it [13:42,  1.59s/it]"
     ]
    },
    {
     "name": "stdout",
     "output_type": "stream",
     "text": [
      "\n",
      "Date: 2019-04-13\n",
      "https://spotifycharts.com/regional/ph/daily/2019-04-13/download\n"
     ]
    },
    {
     "name": "stderr",
     "output_type": "stream",
     "text": [
      "\r\n",
      "Collecting chart data from ph: 468it [13:44,  1.63s/it]"
     ]
    },
    {
     "name": "stdout",
     "output_type": "stream",
     "text": [
      "\n",
      "Date: 2019-04-14\n",
      "https://spotifycharts.com/regional/ph/daily/2019-04-14/download\n"
     ]
    },
    {
     "name": "stderr",
     "output_type": "stream",
     "text": [
      "\r\n",
      "Collecting chart data from ph: 469it [13:46,  1.80s/it]"
     ]
    },
    {
     "name": "stdout",
     "output_type": "stream",
     "text": [
      "\n",
      "Date: 2019-04-15\n",
      "https://spotifycharts.com/regional/ph/daily/2019-04-15/download\n"
     ]
    },
    {
     "name": "stderr",
     "output_type": "stream",
     "text": [
      "\r\n",
      "Collecting chart data from ph: 470it [13:48,  1.73s/it]"
     ]
    },
    {
     "name": "stdout",
     "output_type": "stream",
     "text": [
      "\n",
      "Date: 2019-04-16\n",
      "https://spotifycharts.com/regional/ph/daily/2019-04-16/download\n"
     ]
    },
    {
     "name": "stderr",
     "output_type": "stream",
     "text": [
      "\r\n",
      "Collecting chart data from ph: 471it [13:49,  1.73s/it]"
     ]
    },
    {
     "name": "stdout",
     "output_type": "stream",
     "text": [
      "\n",
      "Date: 2019-04-17\n",
      "https://spotifycharts.com/regional/ph/daily/2019-04-17/download\n"
     ]
    },
    {
     "name": "stderr",
     "output_type": "stream",
     "text": [
      "\r\n",
      "Collecting chart data from ph: 472it [13:51,  1.71s/it]"
     ]
    },
    {
     "name": "stdout",
     "output_type": "stream",
     "text": [
      "\n",
      "Date: 2019-04-18\n",
      "https://spotifycharts.com/regional/ph/daily/2019-04-18/download\n"
     ]
    },
    {
     "name": "stderr",
     "output_type": "stream",
     "text": [
      "\r\n",
      "Collecting chart data from ph: 473it [13:53,  1.70s/it]"
     ]
    },
    {
     "name": "stdout",
     "output_type": "stream",
     "text": [
      "\n",
      "Date: 2019-04-19\n",
      "https://spotifycharts.com/regional/ph/daily/2019-04-19/download\n"
     ]
    },
    {
     "name": "stderr",
     "output_type": "stream",
     "text": [
      "\r\n",
      "Collecting chart data from ph: 474it [13:54,  1.71s/it]"
     ]
    },
    {
     "name": "stdout",
     "output_type": "stream",
     "text": [
      "\n",
      "Date: 2019-04-20\n",
      "https://spotifycharts.com/regional/ph/daily/2019-04-20/download\n"
     ]
    },
    {
     "name": "stderr",
     "output_type": "stream",
     "text": [
      "\r\n",
      "Collecting chart data from ph: 475it [13:56,  1.71s/it]"
     ]
    },
    {
     "name": "stdout",
     "output_type": "stream",
     "text": [
      "\n",
      "Date: 2019-04-21\n",
      "https://spotifycharts.com/regional/ph/daily/2019-04-21/download\n"
     ]
    },
    {
     "name": "stderr",
     "output_type": "stream",
     "text": [
      "\r\n",
      "Collecting chart data from ph: 476it [13:58,  1.70s/it]"
     ]
    },
    {
     "name": "stdout",
     "output_type": "stream",
     "text": [
      "\n",
      "Date: 2019-04-22\n",
      "https://spotifycharts.com/regional/ph/daily/2019-04-22/download\n"
     ]
    },
    {
     "name": "stderr",
     "output_type": "stream",
     "text": [
      "\r\n",
      "Collecting chart data from ph: 477it [14:00,  1.79s/it]"
     ]
    },
    {
     "name": "stdout",
     "output_type": "stream",
     "text": [
      "\n",
      "Date: 2019-04-23\n",
      "https://spotifycharts.com/regional/ph/daily/2019-04-23/download\n"
     ]
    },
    {
     "name": "stderr",
     "output_type": "stream",
     "text": [
      "\r\n",
      "Collecting chart data from ph: 478it [14:01,  1.70s/it]"
     ]
    },
    {
     "name": "stdout",
     "output_type": "stream",
     "text": [
      "\n",
      "Date: 2019-04-24\n",
      "https://spotifycharts.com/regional/ph/daily/2019-04-24/download\n"
     ]
    },
    {
     "name": "stderr",
     "output_type": "stream",
     "text": [
      "\r\n",
      "Collecting chart data from ph: 479it [14:03,  1.72s/it]"
     ]
    },
    {
     "name": "stdout",
     "output_type": "stream",
     "text": [
      "\n",
      "Date: 2019-04-25\n",
      "https://spotifycharts.com/regional/ph/daily/2019-04-25/download\n"
     ]
    },
    {
     "name": "stderr",
     "output_type": "stream",
     "text": [
      "\r\n",
      "Collecting chart data from ph: 480it [14:05,  1.67s/it]"
     ]
    },
    {
     "name": "stdout",
     "output_type": "stream",
     "text": [
      "\n",
      "Date: 2019-04-26\n",
      "https://spotifycharts.com/regional/ph/daily/2019-04-26/download\n"
     ]
    },
    {
     "name": "stderr",
     "output_type": "stream",
     "text": [
      "\r\n",
      "Collecting chart data from ph: 481it [14:06,  1.72s/it]"
     ]
    },
    {
     "name": "stdout",
     "output_type": "stream",
     "text": [
      "\n",
      "Date: 2019-04-27\n",
      "https://spotifycharts.com/regional/ph/daily/2019-04-27/download\n"
     ]
    },
    {
     "name": "stderr",
     "output_type": "stream",
     "text": [
      "\r\n",
      "Collecting chart data from ph: 482it [14:08,  1.70s/it]"
     ]
    },
    {
     "name": "stdout",
     "output_type": "stream",
     "text": [
      "\n",
      "Date: 2019-04-28\n",
      "https://spotifycharts.com/regional/ph/daily/2019-04-28/download\n"
     ]
    },
    {
     "name": "stderr",
     "output_type": "stream",
     "text": [
      "\r\n",
      "Collecting chart data from ph: 483it [14:10,  1.64s/it]"
     ]
    },
    {
     "name": "stdout",
     "output_type": "stream",
     "text": [
      "\n",
      "Date: 2019-04-29\n",
      "https://spotifycharts.com/regional/ph/daily/2019-04-29/download\n"
     ]
    },
    {
     "name": "stderr",
     "output_type": "stream",
     "text": [
      "\r\n",
      "Collecting chart data from ph: 484it [14:11,  1.64s/it]"
     ]
    },
    {
     "name": "stdout",
     "output_type": "stream",
     "text": [
      "\n",
      "Date: 2019-04-30\n",
      "https://spotifycharts.com/regional/ph/daily/2019-04-30/download\n"
     ]
    },
    {
     "name": "stderr",
     "output_type": "stream",
     "text": [
      "\r\n",
      "Collecting chart data from ph: 485it [14:13,  1.61s/it]"
     ]
    },
    {
     "name": "stdout",
     "output_type": "stream",
     "text": [
      "\n",
      "Date: 2019-05-01\n",
      "https://spotifycharts.com/regional/ph/daily/2019-05-01/download\n"
     ]
    },
    {
     "name": "stderr",
     "output_type": "stream",
     "text": [
      "\r\n",
      "Collecting chart data from ph: 486it [14:15,  1.69s/it]"
     ]
    },
    {
     "name": "stdout",
     "output_type": "stream",
     "text": [
      "\n",
      "Date: 2019-05-02\n",
      "https://spotifycharts.com/regional/ph/daily/2019-05-02/download\n"
     ]
    },
    {
     "name": "stderr",
     "output_type": "stream",
     "text": [
      "\r\n",
      "Collecting chart data from ph: 487it [14:16,  1.68s/it]"
     ]
    },
    {
     "name": "stdout",
     "output_type": "stream",
     "text": [
      "\n",
      "Date: 2019-05-03\n",
      "https://spotifycharts.com/regional/ph/daily/2019-05-03/download\n"
     ]
    },
    {
     "name": "stderr",
     "output_type": "stream",
     "text": [
      "\r\n",
      "Collecting chart data from ph: 488it [14:18,  1.69s/it]"
     ]
    },
    {
     "name": "stdout",
     "output_type": "stream",
     "text": [
      "\n",
      "Date: 2019-05-04\n",
      "https://spotifycharts.com/regional/ph/daily/2019-05-04/download\n"
     ]
    },
    {
     "name": "stderr",
     "output_type": "stream",
     "text": [
      "\r\n",
      "Collecting chart data from ph: 489it [14:20,  1.71s/it]"
     ]
    },
    {
     "name": "stdout",
     "output_type": "stream",
     "text": [
      "\n",
      "Date: 2019-05-05\n",
      "https://spotifycharts.com/regional/ph/daily/2019-05-05/download\n"
     ]
    },
    {
     "name": "stderr",
     "output_type": "stream",
     "text": [
      "\r\n",
      "Collecting chart data from ph: 490it [14:21,  1.70s/it]"
     ]
    },
    {
     "name": "stdout",
     "output_type": "stream",
     "text": [
      "\n",
      "Date: 2019-05-06\n",
      "https://spotifycharts.com/regional/ph/daily/2019-05-06/download\n"
     ]
    },
    {
     "name": "stderr",
     "output_type": "stream",
     "text": [
      "\r\n",
      "Collecting chart data from ph: 491it [14:23,  1.68s/it]"
     ]
    },
    {
     "name": "stdout",
     "output_type": "stream",
     "text": [
      "\n",
      "Date: 2019-05-07\n",
      "https://spotifycharts.com/regional/ph/daily/2019-05-07/download\n"
     ]
    },
    {
     "name": "stderr",
     "output_type": "stream",
     "text": [
      "\r\n",
      "Collecting chart data from ph: 492it [14:25,  1.70s/it]"
     ]
    },
    {
     "name": "stdout",
     "output_type": "stream",
     "text": [
      "\n",
      "Date: 2019-05-08\n",
      "https://spotifycharts.com/regional/ph/daily/2019-05-08/download\n"
     ]
    },
    {
     "name": "stderr",
     "output_type": "stream",
     "text": [
      "\r\n",
      "Collecting chart data from ph: 493it [14:26,  1.66s/it]"
     ]
    },
    {
     "name": "stdout",
     "output_type": "stream",
     "text": [
      "\n",
      "Date: 2019-05-09\n",
      "https://spotifycharts.com/regional/ph/daily/2019-05-09/download\n"
     ]
    },
    {
     "name": "stderr",
     "output_type": "stream",
     "text": [
      "\r\n",
      "Collecting chart data from ph: 494it [14:28,  1.70s/it]"
     ]
    },
    {
     "name": "stdout",
     "output_type": "stream",
     "text": [
      "\n",
      "Date: 2019-05-10\n",
      "https://spotifycharts.com/regional/ph/daily/2019-05-10/download\n"
     ]
    },
    {
     "name": "stderr",
     "output_type": "stream",
     "text": [
      "\r\n",
      "Collecting chart data from ph: 495it [14:30,  1.68s/it]"
     ]
    },
    {
     "name": "stdout",
     "output_type": "stream",
     "text": [
      "\n",
      "Date: 2019-05-11\n",
      "https://spotifycharts.com/regional/ph/daily/2019-05-11/download\n"
     ]
    },
    {
     "name": "stderr",
     "output_type": "stream",
     "text": [
      "\r\n",
      "Collecting chart data from ph: 496it [14:31,  1.66s/it]"
     ]
    },
    {
     "name": "stdout",
     "output_type": "stream",
     "text": [
      "\n",
      "Date: 2019-05-12\n",
      "https://spotifycharts.com/regional/ph/daily/2019-05-12/download\n"
     ]
    },
    {
     "name": "stderr",
     "output_type": "stream",
     "text": [
      "\r\n",
      "Collecting chart data from ph: 497it [14:33,  1.70s/it]"
     ]
    },
    {
     "name": "stdout",
     "output_type": "stream",
     "text": [
      "\n",
      "Date: 2019-05-13\n",
      "https://spotifycharts.com/regional/ph/daily/2019-05-13/download\n"
     ]
    },
    {
     "name": "stderr",
     "output_type": "stream",
     "text": [
      "\r\n",
      "Collecting chart data from ph: 498it [14:35,  1.69s/it]"
     ]
    },
    {
     "name": "stdout",
     "output_type": "stream",
     "text": [
      "\n",
      "Date: 2019-05-14\n",
      "https://spotifycharts.com/regional/ph/daily/2019-05-14/download\n"
     ]
    },
    {
     "name": "stderr",
     "output_type": "stream",
     "text": [
      "\r\n",
      "Collecting chart data from ph: 499it [14:37,  1.75s/it]"
     ]
    },
    {
     "name": "stdout",
     "output_type": "stream",
     "text": [
      "\n",
      "Date: 2019-05-15\n",
      "https://spotifycharts.com/regional/ph/daily/2019-05-15/download\n"
     ]
    },
    {
     "name": "stderr",
     "output_type": "stream",
     "text": [
      "\r\n",
      "Collecting chart data from ph: 500it [14:38,  1.69s/it]"
     ]
    },
    {
     "name": "stdout",
     "output_type": "stream",
     "text": [
      "\n",
      "Date: 2019-05-16\n",
      "https://spotifycharts.com/regional/ph/daily/2019-05-16/download\n"
     ]
    },
    {
     "name": "stderr",
     "output_type": "stream",
     "text": [
      "\r\n",
      "Collecting chart data from ph: 501it [14:40,  1.66s/it]"
     ]
    },
    {
     "name": "stdout",
     "output_type": "stream",
     "text": [
      "\n",
      "Date: 2019-05-17\n",
      "https://spotifycharts.com/regional/ph/daily/2019-05-17/download\n"
     ]
    },
    {
     "name": "stderr",
     "output_type": "stream",
     "text": [
      "\r\n",
      "Collecting chart data from ph: 502it [14:41,  1.63s/it]"
     ]
    },
    {
     "name": "stdout",
     "output_type": "stream",
     "text": [
      "\n",
      "Date: 2019-05-18\n",
      "https://spotifycharts.com/regional/ph/daily/2019-05-18/download\n"
     ]
    },
    {
     "name": "stderr",
     "output_type": "stream",
     "text": [
      "\r\n",
      "Collecting chart data from ph: 503it [14:43,  1.62s/it]"
     ]
    },
    {
     "name": "stdout",
     "output_type": "stream",
     "text": [
      "\n",
      "Date: 2019-05-19\n",
      "https://spotifycharts.com/regional/ph/daily/2019-05-19/download\n"
     ]
    },
    {
     "name": "stderr",
     "output_type": "stream",
     "text": [
      "\r\n",
      "Collecting chart data from ph: 504it [14:45,  1.59s/it]"
     ]
    },
    {
     "name": "stdout",
     "output_type": "stream",
     "text": [
      "\n",
      "Date: 2019-05-20\n",
      "https://spotifycharts.com/regional/ph/daily/2019-05-20/download\n"
     ]
    },
    {
     "name": "stderr",
     "output_type": "stream",
     "text": [
      "\r\n",
      "Collecting chart data from ph: 505it [14:46,  1.58s/it]"
     ]
    },
    {
     "name": "stdout",
     "output_type": "stream",
     "text": [
      "\n",
      "Date: 2019-05-21\n",
      "https://spotifycharts.com/regional/ph/daily/2019-05-21/download\n"
     ]
    },
    {
     "name": "stderr",
     "output_type": "stream",
     "text": [
      "\r\n",
      "Collecting chart data from ph: 506it [14:48,  1.57s/it]"
     ]
    },
    {
     "name": "stdout",
     "output_type": "stream",
     "text": [
      "\n",
      "Date: 2019-05-22\n",
      "https://spotifycharts.com/regional/ph/daily/2019-05-22/download\n"
     ]
    },
    {
     "name": "stderr",
     "output_type": "stream",
     "text": [
      "\r\n",
      "Collecting chart data from ph: 507it [14:49,  1.57s/it]"
     ]
    },
    {
     "name": "stdout",
     "output_type": "stream",
     "text": [
      "\n",
      "Date: 2019-05-23\n",
      "https://spotifycharts.com/regional/ph/daily/2019-05-23/download\n"
     ]
    },
    {
     "name": "stderr",
     "output_type": "stream",
     "text": [
      "\r\n",
      "Collecting chart data from ph: 508it [14:51,  1.61s/it]"
     ]
    },
    {
     "name": "stdout",
     "output_type": "stream",
     "text": [
      "\n",
      "Date: 2019-05-24\n",
      "https://spotifycharts.com/regional/ph/daily/2019-05-24/download\n"
     ]
    },
    {
     "name": "stderr",
     "output_type": "stream",
     "text": [
      "\r\n",
      "Collecting chart data from ph: 509it [14:52,  1.60s/it]"
     ]
    },
    {
     "name": "stdout",
     "output_type": "stream",
     "text": [
      "\n",
      "Date: 2019-05-25\n",
      "https://spotifycharts.com/regional/ph/daily/2019-05-25/download\n"
     ]
    },
    {
     "name": "stderr",
     "output_type": "stream",
     "text": [
      "\r\n",
      "Collecting chart data from ph: 510it [14:56,  2.11s/it]"
     ]
    },
    {
     "name": "stdout",
     "output_type": "stream",
     "text": [
      "\n",
      "Date: 2019-05-26\n",
      "https://spotifycharts.com/regional/ph/daily/2019-05-26/download\n"
     ]
    },
    {
     "name": "stderr",
     "output_type": "stream",
     "text": [
      "\r\n",
      "Collecting chart data from ph: 511it [14:57,  1.94s/it]"
     ]
    },
    {
     "name": "stdout",
     "output_type": "stream",
     "text": [
      "\n",
      "Date: 2019-05-27\n",
      "https://spotifycharts.com/regional/ph/daily/2019-05-27/download\n"
     ]
    },
    {
     "name": "stderr",
     "output_type": "stream",
     "text": [
      "\r\n",
      "Collecting chart data from ph: 512it [14:59,  1.94s/it]"
     ]
    },
    {
     "name": "stdout",
     "output_type": "stream",
     "text": [
      "\n",
      "Date: 2019-05-28\n",
      "https://spotifycharts.com/regional/ph/daily/2019-05-28/download\n"
     ]
    },
    {
     "name": "stderr",
     "output_type": "stream",
     "text": [
      "\r\n",
      "Collecting chart data from ph: 513it [15:01,  1.84s/it]"
     ]
    },
    {
     "name": "stdout",
     "output_type": "stream",
     "text": [
      "\n",
      "Date: 2019-05-29\n",
      "https://spotifycharts.com/regional/ph/daily/2019-05-29/download\n"
     ]
    },
    {
     "name": "stderr",
     "output_type": "stream",
     "text": [
      "\r\n",
      "Collecting chart data from ph: 514it [15:03,  1.78s/it]"
     ]
    },
    {
     "name": "stdout",
     "output_type": "stream",
     "text": [
      "\n",
      "Date: 2019-05-30\n",
      "https://spotifycharts.com/regional/ph/daily/2019-05-30/download\n"
     ]
    },
    {
     "name": "stderr",
     "output_type": "stream",
     "text": [
      "\r\n",
      "Collecting chart data from ph: 515it [15:04,  1.81s/it]"
     ]
    },
    {
     "name": "stdout",
     "output_type": "stream",
     "text": [
      "\n",
      "Date: 2019-05-31\n",
      "https://spotifycharts.com/regional/ph/daily/2019-05-31/download\n"
     ]
    },
    {
     "name": "stderr",
     "output_type": "stream",
     "text": [
      "\r\n",
      "Collecting chart data from ph: 516it [15:06,  1.85s/it]"
     ]
    },
    {
     "name": "stdout",
     "output_type": "stream",
     "text": [
      "\n",
      "Date: 2019-06-01\n",
      "https://spotifycharts.com/regional/ph/daily/2019-06-01/download\n"
     ]
    },
    {
     "name": "stderr",
     "output_type": "stream",
     "text": [
      "\r\n",
      "Collecting chart data from ph: 517it [15:08,  1.78s/it]"
     ]
    },
    {
     "name": "stdout",
     "output_type": "stream",
     "text": [
      "\n",
      "Date: 2019-06-02\n",
      "https://spotifycharts.com/regional/ph/daily/2019-06-02/download\n"
     ]
    },
    {
     "name": "stderr",
     "output_type": "stream",
     "text": [
      "\r\n",
      "Collecting chart data from ph: 518it [15:10,  1.77s/it]"
     ]
    },
    {
     "name": "stdout",
     "output_type": "stream",
     "text": [
      "\n",
      "Date: 2019-06-03\n",
      "https://spotifycharts.com/regional/ph/daily/2019-06-03/download\n"
     ]
    },
    {
     "name": "stderr",
     "output_type": "stream",
     "text": [
      "\r\n",
      "Collecting chart data from ph: 519it [15:11,  1.72s/it]"
     ]
    },
    {
     "name": "stdout",
     "output_type": "stream",
     "text": [
      "\n",
      "Date: 2019-06-04\n",
      "https://spotifycharts.com/regional/ph/daily/2019-06-04/download\n"
     ]
    },
    {
     "name": "stderr",
     "output_type": "stream",
     "text": [
      "\r\n",
      "Collecting chart data from ph: 520it [15:13,  1.74s/it]"
     ]
    },
    {
     "name": "stdout",
     "output_type": "stream",
     "text": [
      "\n",
      "Date: 2019-06-05\n",
      "https://spotifycharts.com/regional/ph/daily/2019-06-05/download\n"
     ]
    },
    {
     "name": "stderr",
     "output_type": "stream",
     "text": [
      "\r\n",
      "Collecting chart data from ph: 521it [15:15,  1.75s/it]"
     ]
    },
    {
     "name": "stdout",
     "output_type": "stream",
     "text": [
      "\n",
      "Date: 2019-06-06\n",
      "https://spotifycharts.com/regional/ph/daily/2019-06-06/download\n"
     ]
    },
    {
     "name": "stderr",
     "output_type": "stream",
     "text": [
      "\r\n",
      "Collecting chart data from ph: 522it [15:17,  1.75s/it]"
     ]
    },
    {
     "name": "stdout",
     "output_type": "stream",
     "text": [
      "\n",
      "Date: 2019-06-07\n",
      "https://spotifycharts.com/regional/ph/daily/2019-06-07/download\n"
     ]
    },
    {
     "name": "stderr",
     "output_type": "stream",
     "text": [
      "\r\n",
      "Collecting chart data from ph: 523it [15:18,  1.78s/it]"
     ]
    },
    {
     "name": "stdout",
     "output_type": "stream",
     "text": [
      "\n",
      "Date: 2019-06-08\n",
      "https://spotifycharts.com/regional/ph/daily/2019-06-08/download\n"
     ]
    },
    {
     "name": "stderr",
     "output_type": "stream",
     "text": [
      "\r\n",
      "Collecting chart data from ph: 524it [15:20,  1.75s/it]"
     ]
    },
    {
     "name": "stdout",
     "output_type": "stream",
     "text": [
      "\n",
      "Date: 2019-06-09\n",
      "https://spotifycharts.com/regional/ph/daily/2019-06-09/download\n"
     ]
    },
    {
     "name": "stderr",
     "output_type": "stream",
     "text": [
      "\r\n",
      "Collecting chart data from ph: 525it [15:22,  1.79s/it]"
     ]
    },
    {
     "name": "stdout",
     "output_type": "stream",
     "text": [
      "\n",
      "Date: 2019-06-10\n",
      "https://spotifycharts.com/regional/ph/daily/2019-06-10/download\n"
     ]
    },
    {
     "name": "stderr",
     "output_type": "stream",
     "text": [
      "\r\n",
      "Collecting chart data from ph: 526it [15:24,  1.82s/it]"
     ]
    },
    {
     "name": "stdout",
     "output_type": "stream",
     "text": [
      "\n",
      "Date: 2019-06-11\n",
      "https://spotifycharts.com/regional/ph/daily/2019-06-11/download\n"
     ]
    },
    {
     "name": "stderr",
     "output_type": "stream",
     "text": [
      "\r\n",
      "Collecting chart data from ph: 527it [15:26,  1.77s/it]"
     ]
    },
    {
     "name": "stdout",
     "output_type": "stream",
     "text": [
      "\n",
      "Date: 2019-06-12\n",
      "https://spotifycharts.com/regional/ph/daily/2019-06-12/download\n"
     ]
    },
    {
     "name": "stderr",
     "output_type": "stream",
     "text": [
      "\r\n",
      "Collecting chart data from ph: 528it [15:27,  1.77s/it]"
     ]
    },
    {
     "name": "stdout",
     "output_type": "stream",
     "text": [
      "\n",
      "Date: 2019-06-13\n",
      "https://spotifycharts.com/regional/ph/daily/2019-06-13/download\n"
     ]
    },
    {
     "name": "stderr",
     "output_type": "stream",
     "text": [
      "\r\n",
      "Collecting chart data from ph: 529it [15:29,  1.78s/it]"
     ]
    },
    {
     "name": "stdout",
     "output_type": "stream",
     "text": [
      "\n",
      "Date: 2019-06-14\n",
      "https://spotifycharts.com/regional/ph/daily/2019-06-14/download\n"
     ]
    },
    {
     "name": "stderr",
     "output_type": "stream",
     "text": [
      "\r\n",
      "Collecting chart data from ph: 530it [15:31,  1.72s/it]"
     ]
    },
    {
     "name": "stdout",
     "output_type": "stream",
     "text": [
      "\n",
      "Date: 2019-06-15\n",
      "https://spotifycharts.com/regional/ph/daily/2019-06-15/download\n"
     ]
    },
    {
     "name": "stderr",
     "output_type": "stream",
     "text": [
      "\r\n",
      "Collecting chart data from ph: 531it [15:32,  1.74s/it]"
     ]
    },
    {
     "name": "stdout",
     "output_type": "stream",
     "text": [
      "\n",
      "Date: 2019-06-16\n",
      "https://spotifycharts.com/regional/ph/daily/2019-06-16/download\n"
     ]
    },
    {
     "name": "stderr",
     "output_type": "stream",
     "text": [
      "\r\n",
      "Collecting chart data from ph: 532it [15:34,  1.68s/it]"
     ]
    },
    {
     "name": "stdout",
     "output_type": "stream",
     "text": [
      "\n",
      "Date: 2019-06-17\n",
      "https://spotifycharts.com/regional/ph/daily/2019-06-17/download\n"
     ]
    },
    {
     "name": "stderr",
     "output_type": "stream",
     "text": [
      "\r\n",
      "Collecting chart data from ph: 533it [15:36,  1.66s/it]"
     ]
    },
    {
     "name": "stdout",
     "output_type": "stream",
     "text": [
      "\n",
      "Date: 2019-06-18\n",
      "https://spotifycharts.com/regional/ph/daily/2019-06-18/download\n"
     ]
    },
    {
     "name": "stderr",
     "output_type": "stream",
     "text": [
      "\r\n",
      "Collecting chart data from ph: 534it [15:37,  1.71s/it]"
     ]
    },
    {
     "name": "stdout",
     "output_type": "stream",
     "text": [
      "\n",
      "Date: 2019-06-19\n",
      "https://spotifycharts.com/regional/ph/daily/2019-06-19/download\n"
     ]
    },
    {
     "name": "stderr",
     "output_type": "stream",
     "text": [
      "\r\n",
      "Collecting chart data from ph: 535it [15:39,  1.76s/it]"
     ]
    },
    {
     "name": "stdout",
     "output_type": "stream",
     "text": [
      "\n",
      "Date: 2019-06-20\n",
      "https://spotifycharts.com/regional/ph/daily/2019-06-20/download\n"
     ]
    },
    {
     "name": "stderr",
     "output_type": "stream",
     "text": [
      "\r\n",
      "Collecting chart data from ph: 536it [15:41,  1.73s/it]"
     ]
    },
    {
     "name": "stdout",
     "output_type": "stream",
     "text": [
      "\n",
      "Date: 2019-06-21\n",
      "https://spotifycharts.com/regional/ph/daily/2019-06-21/download\n"
     ]
    },
    {
     "name": "stderr",
     "output_type": "stream",
     "text": [
      "\r\n",
      "Collecting chart data from ph: 537it [15:43,  1.72s/it]"
     ]
    },
    {
     "name": "stdout",
     "output_type": "stream",
     "text": [
      "\n",
      "Date: 2019-06-22\n",
      "https://spotifycharts.com/regional/ph/daily/2019-06-22/download\n"
     ]
    },
    {
     "name": "stderr",
     "output_type": "stream",
     "text": [
      "\r\n",
      "Collecting chart data from ph: 538it [15:44,  1.69s/it]"
     ]
    },
    {
     "name": "stdout",
     "output_type": "stream",
     "text": [
      "\n",
      "Date: 2019-06-23\n",
      "https://spotifycharts.com/regional/ph/daily/2019-06-23/download\n"
     ]
    },
    {
     "name": "stderr",
     "output_type": "stream",
     "text": [
      "\r\n",
      "Collecting chart data from ph: 539it [15:46,  1.68s/it]"
     ]
    },
    {
     "name": "stdout",
     "output_type": "stream",
     "text": [
      "\n",
      "Date: 2019-06-24\n",
      "https://spotifycharts.com/regional/ph/daily/2019-06-24/download\n"
     ]
    },
    {
     "name": "stderr",
     "output_type": "stream",
     "text": [
      "\r\n",
      "Collecting chart data from ph: 540it [15:48,  1.71s/it]"
     ]
    },
    {
     "name": "stdout",
     "output_type": "stream",
     "text": [
      "\n",
      "Date: 2019-06-25\n",
      "https://spotifycharts.com/regional/ph/daily/2019-06-25/download\n"
     ]
    },
    {
     "name": "stderr",
     "output_type": "stream",
     "text": [
      "\r\n",
      "Collecting chart data from ph: 541it [15:50,  1.73s/it]"
     ]
    },
    {
     "name": "stdout",
     "output_type": "stream",
     "text": [
      "\n",
      "Date: 2019-06-26\n",
      "https://spotifycharts.com/regional/ph/daily/2019-06-26/download\n"
     ]
    },
    {
     "name": "stderr",
     "output_type": "stream",
     "text": [
      "\r\n",
      "Collecting chart data from ph: 542it [15:51,  1.73s/it]"
     ]
    },
    {
     "name": "stdout",
     "output_type": "stream",
     "text": [
      "\n",
      "Date: 2019-06-27\n",
      "https://spotifycharts.com/regional/ph/daily/2019-06-27/download\n"
     ]
    },
    {
     "name": "stderr",
     "output_type": "stream",
     "text": [
      "\r\n",
      "Collecting chart data from ph: 543it [15:53,  1.68s/it]"
     ]
    },
    {
     "name": "stdout",
     "output_type": "stream",
     "text": [
      "\n",
      "Date: 2019-06-28\n",
      "https://spotifycharts.com/regional/ph/daily/2019-06-28/download\n"
     ]
    },
    {
     "name": "stderr",
     "output_type": "stream",
     "text": [
      "\r\n",
      "Collecting chart data from ph: 544it [15:54,  1.65s/it]"
     ]
    },
    {
     "name": "stdout",
     "output_type": "stream",
     "text": [
      "\n",
      "Date: 2019-06-29\n",
      "https://spotifycharts.com/regional/ph/daily/2019-06-29/download\n"
     ]
    },
    {
     "name": "stderr",
     "output_type": "stream",
     "text": [
      "\r\n",
      "Collecting chart data from ph: 545it [15:56,  1.69s/it]"
     ]
    },
    {
     "name": "stdout",
     "output_type": "stream",
     "text": [
      "\n",
      "Date: 2019-06-30\n",
      "https://spotifycharts.com/regional/ph/daily/2019-06-30/download\n"
     ]
    },
    {
     "name": "stderr",
     "output_type": "stream",
     "text": [
      "\r\n",
      "Collecting chart data from ph: 546it [15:58,  1.64s/it]"
     ]
    },
    {
     "name": "stdout",
     "output_type": "stream",
     "text": [
      "\n",
      "Date: 2019-07-01\n",
      "https://spotifycharts.com/regional/ph/daily/2019-07-01/download\n"
     ]
    },
    {
     "name": "stderr",
     "output_type": "stream",
     "text": [
      "\r\n",
      "Collecting chart data from ph: 547it [16:04,  2.93s/it]"
     ]
    },
    {
     "name": "stdout",
     "output_type": "stream",
     "text": [
      "\n",
      "Date: 2019-07-02\n",
      "https://spotifycharts.com/regional/ph/daily/2019-07-02/download\n"
     ]
    },
    {
     "name": "stderr",
     "output_type": "stream",
     "text": [
      "\r\n",
      "Collecting chart data from ph: 548it [16:06,  2.65s/it]"
     ]
    },
    {
     "name": "stdout",
     "output_type": "stream",
     "text": [
      "\n",
      "Date: 2019-07-03\n",
      "https://spotifycharts.com/regional/ph/daily/2019-07-03/download\n"
     ]
    },
    {
     "name": "stderr",
     "output_type": "stream",
     "text": [
      "\r\n",
      "Collecting chart data from ph: 549it [16:08,  2.47s/it]"
     ]
    },
    {
     "name": "stdout",
     "output_type": "stream",
     "text": [
      "\n",
      "Date: 2019-07-04\n",
      "https://spotifycharts.com/regional/ph/daily/2019-07-04/download\n"
     ]
    },
    {
     "name": "stderr",
     "output_type": "stream",
     "text": [
      "\r\n",
      "Collecting chart data from ph: 550it [16:09,  2.22s/it]"
     ]
    },
    {
     "name": "stdout",
     "output_type": "stream",
     "text": [
      "\n",
      "Date: 2019-07-05\n",
      "https://spotifycharts.com/regional/ph/daily/2019-07-05/download\n"
     ]
    },
    {
     "name": "stderr",
     "output_type": "stream",
     "text": [
      "\r\n",
      "Collecting chart data from ph: 551it [16:11,  2.09s/it]"
     ]
    },
    {
     "name": "stdout",
     "output_type": "stream",
     "text": [
      "\n",
      "Date: 2019-07-06\n",
      "https://spotifycharts.com/regional/ph/daily/2019-07-06/download\n"
     ]
    },
    {
     "name": "stderr",
     "output_type": "stream",
     "text": [
      "\r\n",
      "Collecting chart data from ph: 552it [16:13,  2.10s/it]"
     ]
    },
    {
     "name": "stdout",
     "output_type": "stream",
     "text": [
      "\n",
      "Date: 2019-07-07\n",
      "https://spotifycharts.com/regional/ph/daily/2019-07-07/download\n"
     ]
    },
    {
     "name": "stderr",
     "output_type": "stream",
     "text": [
      "\r\n",
      "Collecting chart data from ph: 553it [16:15,  2.03s/it]"
     ]
    },
    {
     "name": "stdout",
     "output_type": "stream",
     "text": [
      "\n",
      "Date: 2019-07-08\n",
      "https://spotifycharts.com/regional/ph/daily/2019-07-08/download\n"
     ]
    },
    {
     "name": "stderr",
     "output_type": "stream",
     "text": [
      "\r\n",
      "Collecting chart data from ph: 554it [16:17,  1.99s/it]"
     ]
    },
    {
     "name": "stdout",
     "output_type": "stream",
     "text": [
      "\n",
      "Date: 2019-07-09\n",
      "https://spotifycharts.com/regional/ph/daily/2019-07-09/download\n"
     ]
    },
    {
     "name": "stderr",
     "output_type": "stream",
     "text": [
      "\r\n",
      "Collecting chart data from ph: 555it [16:19,  1.87s/it]"
     ]
    },
    {
     "name": "stdout",
     "output_type": "stream",
     "text": [
      "\n",
      "Date: 2019-07-10\n",
      "https://spotifycharts.com/regional/ph/daily/2019-07-10/download\n"
     ]
    },
    {
     "name": "stderr",
     "output_type": "stream",
     "text": [
      "\r\n",
      "Collecting chart data from ph: 556it [16:21,  1.91s/it]"
     ]
    },
    {
     "name": "stdout",
     "output_type": "stream",
     "text": [
      "\n",
      "Date: 2019-07-11\n",
      "https://spotifycharts.com/regional/ph/daily/2019-07-11/download\n"
     ]
    },
    {
     "name": "stderr",
     "output_type": "stream",
     "text": [
      "\r\n",
      "Collecting chart data from ph: 557it [16:22,  1.84s/it]"
     ]
    },
    {
     "name": "stdout",
     "output_type": "stream",
     "text": [
      "\n",
      "Date: 2019-07-12\n",
      "https://spotifycharts.com/regional/ph/daily/2019-07-12/download\n"
     ]
    },
    {
     "name": "stderr",
     "output_type": "stream",
     "text": [
      "\r\n",
      "Collecting chart data from ph: 558it [16:24,  1.85s/it]"
     ]
    },
    {
     "name": "stdout",
     "output_type": "stream",
     "text": [
      "\n",
      "Date: 2019-07-13\n",
      "https://spotifycharts.com/regional/ph/daily/2019-07-13/download\n"
     ]
    },
    {
     "name": "stderr",
     "output_type": "stream",
     "text": [
      "\r\n",
      "Collecting chart data from ph: 559it [16:26,  1.77s/it]"
     ]
    },
    {
     "name": "stdout",
     "output_type": "stream",
     "text": [
      "\n",
      "Date: 2019-07-14\n",
      "https://spotifycharts.com/regional/ph/daily/2019-07-14/download\n"
     ]
    },
    {
     "name": "stderr",
     "output_type": "stream",
     "text": [
      "\r\n",
      "Collecting chart data from ph: 560it [16:27,  1.75s/it]"
     ]
    },
    {
     "name": "stdout",
     "output_type": "stream",
     "text": [
      "\n",
      "Date: 2019-07-15\n",
      "https://spotifycharts.com/regional/ph/daily/2019-07-15/download\n"
     ]
    },
    {
     "name": "stderr",
     "output_type": "stream",
     "text": [
      "\r\n",
      "Collecting chart data from ph: 561it [16:29,  1.83s/it]"
     ]
    },
    {
     "name": "stdout",
     "output_type": "stream",
     "text": [
      "\n",
      "Date: 2019-07-16\n",
      "https://spotifycharts.com/regional/ph/daily/2019-07-16/download\n"
     ]
    },
    {
     "name": "stderr",
     "output_type": "stream",
     "text": [
      "\r\n",
      "Collecting chart data from ph: 562it [16:31,  1.78s/it]"
     ]
    },
    {
     "name": "stdout",
     "output_type": "stream",
     "text": [
      "\n",
      "Date: 2019-07-17\n",
      "https://spotifycharts.com/regional/ph/daily/2019-07-17/download\n"
     ]
    },
    {
     "name": "stderr",
     "output_type": "stream",
     "text": [
      "\r\n",
      "Collecting chart data from ph: 563it [16:33,  1.72s/it]"
     ]
    },
    {
     "name": "stdout",
     "output_type": "stream",
     "text": [
      "\n",
      "Date: 2019-07-18\n",
      "https://spotifycharts.com/regional/ph/daily/2019-07-18/download\n"
     ]
    },
    {
     "name": "stderr",
     "output_type": "stream",
     "text": [
      "\r\n",
      "Collecting chart data from ph: 564it [16:34,  1.67s/it]"
     ]
    },
    {
     "name": "stdout",
     "output_type": "stream",
     "text": [
      "\n",
      "Date: 2019-07-19\n",
      "https://spotifycharts.com/regional/ph/daily/2019-07-19/download\n"
     ]
    },
    {
     "name": "stderr",
     "output_type": "stream",
     "text": [
      "\r\n",
      "Collecting chart data from ph: 565it [16:36,  1.65s/it]"
     ]
    },
    {
     "name": "stdout",
     "output_type": "stream",
     "text": [
      "\n",
      "Date: 2019-07-20\n",
      "https://spotifycharts.com/regional/ph/daily/2019-07-20/download\n"
     ]
    },
    {
     "name": "stderr",
     "output_type": "stream",
     "text": [
      "\r\n",
      "Collecting chart data from ph: 566it [16:38,  1.68s/it]"
     ]
    },
    {
     "name": "stdout",
     "output_type": "stream",
     "text": [
      "\n",
      "Date: 2019-07-21\n",
      "https://spotifycharts.com/regional/ph/daily/2019-07-21/download\n"
     ]
    },
    {
     "name": "stderr",
     "output_type": "stream",
     "text": [
      "\r\n",
      "Collecting chart data from ph: 567it [16:39,  1.65s/it]"
     ]
    },
    {
     "name": "stdout",
     "output_type": "stream",
     "text": [
      "\n",
      "Date: 2019-07-22\n",
      "https://spotifycharts.com/regional/ph/daily/2019-07-22/download\n"
     ]
    },
    {
     "name": "stderr",
     "output_type": "stream",
     "text": [
      "\r\n",
      "Collecting chart data from ph: 568it [16:41,  1.63s/it]"
     ]
    },
    {
     "name": "stdout",
     "output_type": "stream",
     "text": [
      "\n",
      "Date: 2019-07-23\n",
      "https://spotifycharts.com/regional/ph/daily/2019-07-23/download\n"
     ]
    },
    {
     "name": "stderr",
     "output_type": "stream",
     "text": [
      "\r\n",
      "Collecting chart data from ph: 569it [16:43,  1.70s/it]"
     ]
    },
    {
     "name": "stdout",
     "output_type": "stream",
     "text": [
      "\n",
      "Date: 2019-07-24\n",
      "https://spotifycharts.com/regional/ph/daily/2019-07-24/download\n"
     ]
    },
    {
     "name": "stderr",
     "output_type": "stream",
     "text": [
      "\r\n",
      "Collecting chart data from ph: 570it [16:45,  1.79s/it]"
     ]
    },
    {
     "name": "stdout",
     "output_type": "stream",
     "text": [
      "\n",
      "Date: 2019-07-25\n",
      "https://spotifycharts.com/regional/ph/daily/2019-07-25/download\n"
     ]
    },
    {
     "name": "stderr",
     "output_type": "stream",
     "text": [
      "\r\n",
      "Collecting chart data from ph: 571it [16:47,  1.97s/it]"
     ]
    },
    {
     "name": "stdout",
     "output_type": "stream",
     "text": [
      "\n",
      "Date: 2019-07-26\n",
      "https://spotifycharts.com/regional/ph/daily/2019-07-26/download\n"
     ]
    },
    {
     "name": "stderr",
     "output_type": "stream",
     "text": [
      "\r\n",
      "Collecting chart data from ph: 572it [16:49,  1.90s/it]"
     ]
    },
    {
     "name": "stdout",
     "output_type": "stream",
     "text": [
      "\n",
      "Date: 2019-07-27\n",
      "https://spotifycharts.com/regional/ph/daily/2019-07-27/download\n"
     ]
    },
    {
     "name": "stderr",
     "output_type": "stream",
     "text": [
      "\r\n",
      "Collecting chart data from ph: 573it [16:51,  2.07s/it]"
     ]
    },
    {
     "name": "stdout",
     "output_type": "stream",
     "text": [
      "\n",
      "Date: 2019-07-28\n",
      "https://spotifycharts.com/regional/ph/daily/2019-07-28/download\n"
     ]
    },
    {
     "name": "stderr",
     "output_type": "stream",
     "text": [
      "\r\n",
      "Collecting chart data from ph: 574it [16:53,  2.01s/it]"
     ]
    },
    {
     "name": "stdout",
     "output_type": "stream",
     "text": [
      "\n",
      "Date: 2019-07-29\n",
      "https://spotifycharts.com/regional/ph/daily/2019-07-29/download\n"
     ]
    },
    {
     "name": "stderr",
     "output_type": "stream",
     "text": [
      "\r\n",
      "Collecting chart data from ph: 575it [16:55,  1.87s/it]"
     ]
    },
    {
     "name": "stdout",
     "output_type": "stream",
     "text": [
      "\n",
      "Date: 2019-07-30\n",
      "https://spotifycharts.com/regional/ph/daily/2019-07-30/download\n"
     ]
    },
    {
     "name": "stderr",
     "output_type": "stream",
     "text": [
      "\r\n",
      "Collecting chart data from ph: 576it [16:56,  1.87s/it]"
     ]
    },
    {
     "name": "stdout",
     "output_type": "stream",
     "text": [
      "\n",
      "Date: 2019-07-31\n",
      "https://spotifycharts.com/regional/ph/daily/2019-07-31/download\n"
     ]
    },
    {
     "name": "stderr",
     "output_type": "stream",
     "text": [
      "\r\n",
      "Collecting chart data from ph: 577it [16:59,  1.98s/it]"
     ]
    },
    {
     "name": "stdout",
     "output_type": "stream",
     "text": [
      "\n",
      "Date: 2019-08-01\n",
      "https://spotifycharts.com/regional/ph/daily/2019-08-01/download\n"
     ]
    },
    {
     "name": "stderr",
     "output_type": "stream",
     "text": [
      "\r\n",
      "Collecting chart data from ph: 578it [17:00,  1.89s/it]"
     ]
    },
    {
     "name": "stdout",
     "output_type": "stream",
     "text": [
      "\n",
      "Date: 2019-08-02\n",
      "https://spotifycharts.com/regional/ph/daily/2019-08-02/download\n"
     ]
    },
    {
     "name": "stderr",
     "output_type": "stream",
     "text": [
      "\r\n",
      "Collecting chart data from ph: 579it [17:03,  2.06s/it]"
     ]
    },
    {
     "name": "stdout",
     "output_type": "stream",
     "text": [
      "\n",
      "Date: 2019-08-03\n",
      "https://spotifycharts.com/regional/ph/daily/2019-08-03/download\n"
     ]
    },
    {
     "name": "stderr",
     "output_type": "stream",
     "text": [
      "\r\n",
      "Collecting chart data from ph: 580it [17:05,  2.09s/it]"
     ]
    },
    {
     "name": "stdout",
     "output_type": "stream",
     "text": [
      "\n",
      "Date: 2019-08-04\n",
      "https://spotifycharts.com/regional/ph/daily/2019-08-04/download\n"
     ]
    },
    {
     "name": "stderr",
     "output_type": "stream",
     "text": [
      "\r\n",
      "Collecting chart data from ph: 581it [17:07,  2.01s/it]"
     ]
    },
    {
     "name": "stdout",
     "output_type": "stream",
     "text": [
      "\n",
      "Date: 2019-08-05\n",
      "https://spotifycharts.com/regional/ph/daily/2019-08-05/download\n"
     ]
    },
    {
     "name": "stderr",
     "output_type": "stream",
     "text": [
      "\r\n",
      "Collecting chart data from ph: 582it [17:09,  1.96s/it]"
     ]
    },
    {
     "name": "stdout",
     "output_type": "stream",
     "text": [
      "\n",
      "Date: 2019-08-06\n",
      "https://spotifycharts.com/regional/ph/daily/2019-08-06/download\n"
     ]
    },
    {
     "name": "stderr",
     "output_type": "stream",
     "text": [
      "\r\n",
      "Collecting chart data from ph: 583it [17:11,  1.96s/it]"
     ]
    },
    {
     "name": "stdout",
     "output_type": "stream",
     "text": [
      "\n",
      "Date: 2019-08-07\n",
      "https://spotifycharts.com/regional/ph/daily/2019-08-07/download\n"
     ]
    },
    {
     "name": "stderr",
     "output_type": "stream",
     "text": [
      "\r\n",
      "Collecting chart data from ph: 584it [17:13,  1.92s/it]"
     ]
    },
    {
     "name": "stdout",
     "output_type": "stream",
     "text": [
      "\n",
      "Date: 2019-08-08\n",
      "https://spotifycharts.com/regional/ph/daily/2019-08-08/download\n"
     ]
    },
    {
     "name": "stderr",
     "output_type": "stream",
     "text": [
      "\r\n",
      "Collecting chart data from ph: 585it [17:15,  1.95s/it]"
     ]
    },
    {
     "name": "stdout",
     "output_type": "stream",
     "text": [
      "\n",
      "Date: 2019-08-09\n",
      "https://spotifycharts.com/regional/ph/daily/2019-08-09/download\n"
     ]
    },
    {
     "name": "stderr",
     "output_type": "stream",
     "text": [
      "\r\n",
      "Collecting chart data from ph: 586it [17:16,  1.88s/it]"
     ]
    },
    {
     "name": "stdout",
     "output_type": "stream",
     "text": [
      "\n",
      "Date: 2019-08-10\n",
      "https://spotifycharts.com/regional/ph/daily/2019-08-10/download\n"
     ]
    },
    {
     "name": "stderr",
     "output_type": "stream",
     "text": [
      "\r\n",
      "Collecting chart data from ph: 587it [17:18,  1.82s/it]"
     ]
    },
    {
     "name": "stdout",
     "output_type": "stream",
     "text": [
      "\n",
      "Date: 2019-08-11\n",
      "https://spotifycharts.com/regional/ph/daily/2019-08-11/download\n"
     ]
    },
    {
     "name": "stderr",
     "output_type": "stream",
     "text": [
      "\r\n",
      "Collecting chart data from ph: 588it [17:20,  1.77s/it]"
     ]
    },
    {
     "name": "stdout",
     "output_type": "stream",
     "text": [
      "\n",
      "Date: 2019-08-12\n",
      "https://spotifycharts.com/regional/ph/daily/2019-08-12/download\n"
     ]
    },
    {
     "name": "stderr",
     "output_type": "stream",
     "text": [
      "\r\n",
      "Collecting chart data from ph: 589it [17:22,  1.85s/it]"
     ]
    },
    {
     "name": "stdout",
     "output_type": "stream",
     "text": [
      "\n",
      "Date: 2019-08-13\n",
      "https://spotifycharts.com/regional/ph/daily/2019-08-13/download\n"
     ]
    },
    {
     "name": "stderr",
     "output_type": "stream",
     "text": [
      "\r\n",
      "Collecting chart data from ph: 590it [17:23,  1.78s/it]"
     ]
    },
    {
     "name": "stdout",
     "output_type": "stream",
     "text": [
      "\n",
      "Date: 2019-08-14\n",
      "https://spotifycharts.com/regional/ph/daily/2019-08-14/download\n"
     ]
    },
    {
     "name": "stderr",
     "output_type": "stream",
     "text": [
      "\r\n",
      "Collecting chart data from ph: 591it [17:25,  1.71s/it]"
     ]
    },
    {
     "name": "stdout",
     "output_type": "stream",
     "text": [
      "\n",
      "Date: 2019-08-15\n",
      "https://spotifycharts.com/regional/ph/daily/2019-08-15/download\n"
     ]
    },
    {
     "name": "stderr",
     "output_type": "stream",
     "text": [
      "\r\n",
      "Collecting chart data from ph: 592it [17:27,  1.73s/it]"
     ]
    },
    {
     "name": "stdout",
     "output_type": "stream",
     "text": [
      "\n",
      "Date: 2019-08-16\n",
      "https://spotifycharts.com/regional/ph/daily/2019-08-16/download\n"
     ]
    },
    {
     "name": "stderr",
     "output_type": "stream",
     "text": [
      "\r\n",
      "Collecting chart data from ph: 593it [17:28,  1.76s/it]"
     ]
    },
    {
     "name": "stdout",
     "output_type": "stream",
     "text": [
      "\n",
      "Date: 2019-08-17\n",
      "https://spotifycharts.com/regional/ph/daily/2019-08-17/download\n"
     ]
    },
    {
     "name": "stderr",
     "output_type": "stream",
     "text": [
      "\r\n",
      "Collecting chart data from ph: 594it [17:30,  1.76s/it]"
     ]
    },
    {
     "name": "stdout",
     "output_type": "stream",
     "text": [
      "\n",
      "Date: 2019-08-18\n",
      "https://spotifycharts.com/regional/ph/daily/2019-08-18/download\n"
     ]
    },
    {
     "name": "stderr",
     "output_type": "stream",
     "text": [
      "\r\n",
      "Collecting chart data from ph: 595it [17:32,  1.76s/it]"
     ]
    },
    {
     "name": "stdout",
     "output_type": "stream",
     "text": [
      "\n",
      "Date: 2019-08-19\n",
      "https://spotifycharts.com/regional/ph/daily/2019-08-19/download\n"
     ]
    },
    {
     "name": "stderr",
     "output_type": "stream",
     "text": [
      "\r\n",
      "Collecting chart data from ph: 596it [17:35,  2.19s/it]"
     ]
    },
    {
     "name": "stdout",
     "output_type": "stream",
     "text": [
      "\n",
      "Date: 2019-08-20\n",
      "https://spotifycharts.com/regional/ph/daily/2019-08-20/download\n"
     ]
    },
    {
     "name": "stderr",
     "output_type": "stream",
     "text": [
      "\r\n",
      "Collecting chart data from ph: 597it [17:37,  2.02s/it]"
     ]
    },
    {
     "name": "stdout",
     "output_type": "stream",
     "text": [
      "\n",
      "Date: 2019-08-21\n",
      "https://spotifycharts.com/regional/ph/daily/2019-08-21/download\n"
     ]
    },
    {
     "name": "stderr",
     "output_type": "stream",
     "text": [
      "\r\n",
      "Collecting chart data from ph: 598it [17:38,  1.88s/it]"
     ]
    },
    {
     "name": "stdout",
     "output_type": "stream",
     "text": [
      "\n",
      "Date: 2019-08-22\n",
      "https://spotifycharts.com/regional/ph/daily/2019-08-22/download\n"
     ]
    },
    {
     "name": "stderr",
     "output_type": "stream",
     "text": [
      "\r\n",
      "Collecting chart data from ph: 599it [17:40,  1.80s/it]"
     ]
    },
    {
     "name": "stdout",
     "output_type": "stream",
     "text": [
      "\n",
      "Date: 2019-08-23\n",
      "https://spotifycharts.com/regional/ph/daily/2019-08-23/download\n"
     ]
    },
    {
     "name": "stderr",
     "output_type": "stream",
     "text": [
      "\r\n",
      "Collecting chart data from ph: 600it [17:41,  1.72s/it]"
     ]
    },
    {
     "name": "stdout",
     "output_type": "stream",
     "text": [
      "\n",
      "Date: 2019-08-24\n",
      "https://spotifycharts.com/regional/ph/daily/2019-08-24/download\n"
     ]
    },
    {
     "name": "stderr",
     "output_type": "stream",
     "text": [
      "\r\n",
      "Collecting chart data from ph: 601it [17:43,  1.73s/it]"
     ]
    },
    {
     "name": "stdout",
     "output_type": "stream",
     "text": [
      "\n",
      "Date: 2019-08-25\n",
      "https://spotifycharts.com/regional/ph/daily/2019-08-25/download\n"
     ]
    },
    {
     "name": "stderr",
     "output_type": "stream",
     "text": [
      "\r\n",
      "Collecting chart data from ph: 602it [17:45,  1.74s/it]"
     ]
    },
    {
     "name": "stdout",
     "output_type": "stream",
     "text": [
      "\n",
      "Date: 2019-08-26\n",
      "https://spotifycharts.com/regional/ph/daily/2019-08-26/download\n"
     ]
    },
    {
     "name": "stderr",
     "output_type": "stream",
     "text": [
      "\r\n",
      "Collecting chart data from ph: 603it [17:48,  2.09s/it]"
     ]
    },
    {
     "name": "stdout",
     "output_type": "stream",
     "text": [
      "\n",
      "Date: 2019-08-27\n",
      "https://spotifycharts.com/regional/ph/daily/2019-08-27/download\n"
     ]
    },
    {
     "name": "stderr",
     "output_type": "stream",
     "text": [
      "\r\n",
      "Collecting chart data from ph: 604it [17:50,  1.98s/it]"
     ]
    },
    {
     "name": "stdout",
     "output_type": "stream",
     "text": [
      "\n",
      "Date: 2019-08-28\n",
      "https://spotifycharts.com/regional/ph/daily/2019-08-28/download\n"
     ]
    },
    {
     "name": "stderr",
     "output_type": "stream",
     "text": [
      "\r\n",
      "Collecting chart data from ph: 605it [17:51,  1.94s/it]"
     ]
    },
    {
     "name": "stdout",
     "output_type": "stream",
     "text": [
      "\n",
      "Date: 2019-08-29\n",
      "https://spotifycharts.com/regional/ph/daily/2019-08-29/download\n"
     ]
    },
    {
     "name": "stderr",
     "output_type": "stream",
     "text": [
      "\r\n",
      "Collecting chart data from ph: 606it [17:54,  2.03s/it]"
     ]
    },
    {
     "name": "stdout",
     "output_type": "stream",
     "text": [
      "\n",
      "Date: 2019-08-30\n",
      "https://spotifycharts.com/regional/ph/daily/2019-08-30/download\n"
     ]
    },
    {
     "name": "stderr",
     "output_type": "stream",
     "text": [
      "\r\n",
      "Collecting chart data from ph: 607it [17:56,  2.02s/it]"
     ]
    },
    {
     "name": "stdout",
     "output_type": "stream",
     "text": [
      "\n",
      "Date: 2019-08-31\n",
      "https://spotifycharts.com/regional/ph/daily/2019-08-31/download\n"
     ]
    },
    {
     "name": "stderr",
     "output_type": "stream",
     "text": [
      "\r\n",
      "Collecting chart data from ph: 608it [17:58,  2.03s/it]"
     ]
    },
    {
     "name": "stdout",
     "output_type": "stream",
     "text": [
      "\n",
      "Date: 2019-09-01\n",
      "https://spotifycharts.com/regional/ph/daily/2019-09-01/download\n"
     ]
    },
    {
     "name": "stderr",
     "output_type": "stream",
     "text": [
      "\r\n",
      "Collecting chart data from ph: 609it [17:59,  1.91s/it]"
     ]
    },
    {
     "name": "stdout",
     "output_type": "stream",
     "text": [
      "\n",
      "Date: 2019-09-02\n",
      "https://spotifycharts.com/regional/ph/daily/2019-09-02/download\n"
     ]
    },
    {
     "name": "stderr",
     "output_type": "stream",
     "text": [
      "\r\n",
      "Collecting chart data from ph: 610it [18:01,  1.80s/it]"
     ]
    },
    {
     "name": "stdout",
     "output_type": "stream",
     "text": [
      "\n",
      "Date: 2019-09-03\n",
      "https://spotifycharts.com/regional/ph/daily/2019-09-03/download\n"
     ]
    },
    {
     "name": "stderr",
     "output_type": "stream",
     "text": [
      "\r\n",
      "Collecting chart data from ph: 611it [18:03,  1.77s/it]"
     ]
    },
    {
     "name": "stdout",
     "output_type": "stream",
     "text": [
      "\n",
      "Date: 2019-09-04\n",
      "https://spotifycharts.com/regional/ph/daily/2019-09-04/download\n"
     ]
    },
    {
     "name": "stderr",
     "output_type": "stream",
     "text": [
      "\r\n",
      "Collecting chart data from ph: 612it [18:04,  1.75s/it]"
     ]
    },
    {
     "name": "stdout",
     "output_type": "stream",
     "text": [
      "\n",
      "Date: 2019-09-05\n",
      "https://spotifycharts.com/regional/ph/daily/2019-09-05/download\n"
     ]
    },
    {
     "name": "stderr",
     "output_type": "stream",
     "text": [
      "\r\n",
      "Collecting chart data from ph: 613it [18:06,  1.83s/it]"
     ]
    },
    {
     "name": "stdout",
     "output_type": "stream",
     "text": [
      "\n",
      "Date: 2019-09-06\n",
      "https://spotifycharts.com/regional/ph/daily/2019-09-06/download\n"
     ]
    },
    {
     "name": "stderr",
     "output_type": "stream",
     "text": [
      "\r\n",
      "Collecting chart data from ph: 614it [18:08,  1.84s/it]"
     ]
    },
    {
     "name": "stdout",
     "output_type": "stream",
     "text": [
      "\n",
      "Date: 2019-09-07\n",
      "https://spotifycharts.com/regional/ph/daily/2019-09-07/download\n"
     ]
    },
    {
     "name": "stderr",
     "output_type": "stream",
     "text": [
      "\r\n",
      "Collecting chart data from ph: 615it [18:10,  1.82s/it]"
     ]
    },
    {
     "name": "stdout",
     "output_type": "stream",
     "text": [
      "\n",
      "Date: 2019-09-08\n",
      "https://spotifycharts.com/regional/ph/daily/2019-09-08/download\n"
     ]
    },
    {
     "name": "stderr",
     "output_type": "stream",
     "text": [
      "\r\n",
      "Collecting chart data from ph: 616it [18:12,  1.87s/it]"
     ]
    },
    {
     "name": "stdout",
     "output_type": "stream",
     "text": [
      "\n",
      "Date: 2019-09-09\n",
      "https://spotifycharts.com/regional/ph/daily/2019-09-09/download\n"
     ]
    },
    {
     "name": "stderr",
     "output_type": "stream",
     "text": [
      "\r\n",
      "Collecting chart data from ph: 617it [18:14,  1.90s/it]"
     ]
    },
    {
     "name": "stdout",
     "output_type": "stream",
     "text": [
      "\n",
      "Date: 2019-09-10\n",
      "https://spotifycharts.com/regional/ph/daily/2019-09-10/download\n"
     ]
    },
    {
     "name": "stderr",
     "output_type": "stream",
     "text": [
      "\r\n",
      "Collecting chart data from ph: 618it [18:16,  1.86s/it]"
     ]
    },
    {
     "name": "stdout",
     "output_type": "stream",
     "text": [
      "\n",
      "Date: 2019-09-11\n",
      "https://spotifycharts.com/regional/ph/daily/2019-09-11/download\n"
     ]
    },
    {
     "name": "stderr",
     "output_type": "stream",
     "text": [
      "\r\n",
      "Collecting chart data from ph: 619it [18:17,  1.80s/it]"
     ]
    },
    {
     "name": "stdout",
     "output_type": "stream",
     "text": [
      "\n",
      "Date: 2019-09-12\n",
      "https://spotifycharts.com/regional/ph/daily/2019-09-12/download\n"
     ]
    },
    {
     "name": "stderr",
     "output_type": "stream",
     "text": [
      "\r\n",
      "Collecting chart data from ph: 620it [18:19,  1.74s/it]"
     ]
    },
    {
     "name": "stdout",
     "output_type": "stream",
     "text": [
      "\n",
      "Date: 2019-09-13\n",
      "https://spotifycharts.com/regional/ph/daily/2019-09-13/download\n"
     ]
    },
    {
     "name": "stderr",
     "output_type": "stream",
     "text": [
      "\r\n",
      "Collecting chart data from ph: 621it [18:21,  1.79s/it]"
     ]
    },
    {
     "name": "stdout",
     "output_type": "stream",
     "text": [
      "\n",
      "Date: 2019-09-14\n",
      "https://spotifycharts.com/regional/ph/daily/2019-09-14/download\n"
     ]
    },
    {
     "name": "stderr",
     "output_type": "stream",
     "text": [
      "\r\n",
      "Collecting chart data from ph: 622it [18:23,  1.76s/it]"
     ]
    },
    {
     "name": "stdout",
     "output_type": "stream",
     "text": [
      "\n",
      "Date: 2019-09-15\n",
      "https://spotifycharts.com/regional/ph/daily/2019-09-15/download\n"
     ]
    },
    {
     "name": "stderr",
     "output_type": "stream",
     "text": [
      "\r\n",
      "Collecting chart data from ph: 623it [18:24,  1.69s/it]"
     ]
    },
    {
     "name": "stdout",
     "output_type": "stream",
     "text": [
      "\n",
      "Date: 2019-09-16\n",
      "https://spotifycharts.com/regional/ph/daily/2019-09-16/download\n"
     ]
    },
    {
     "name": "stderr",
     "output_type": "stream",
     "text": [
      "\r\n",
      "Collecting chart data from ph: 624it [18:26,  1.89s/it]"
     ]
    },
    {
     "name": "stdout",
     "output_type": "stream",
     "text": [
      "\n",
      "Date: 2019-09-17\n",
      "https://spotifycharts.com/regional/ph/daily/2019-09-17/download\n"
     ]
    },
    {
     "name": "stderr",
     "output_type": "stream",
     "text": [
      "\r\n",
      "Collecting chart data from ph: 625it [18:29,  1.96s/it]"
     ]
    },
    {
     "name": "stdout",
     "output_type": "stream",
     "text": [
      "\n",
      "Date: 2019-09-18\n",
      "https://spotifycharts.com/regional/ph/daily/2019-09-18/download\n"
     ]
    },
    {
     "name": "stderr",
     "output_type": "stream",
     "text": [
      "\r\n",
      "Collecting chart data from ph: 626it [18:30,  1.85s/it]"
     ]
    },
    {
     "name": "stdout",
     "output_type": "stream",
     "text": [
      "\n",
      "Date: 2019-09-19\n",
      "https://spotifycharts.com/regional/ph/daily/2019-09-19/download\n"
     ]
    },
    {
     "name": "stderr",
     "output_type": "stream",
     "text": [
      "\r\n",
      "Collecting chart data from ph: 627it [18:32,  1.83s/it]"
     ]
    },
    {
     "name": "stdout",
     "output_type": "stream",
     "text": [
      "\n",
      "Date: 2019-09-20\n",
      "https://spotifycharts.com/regional/ph/daily/2019-09-20/download\n"
     ]
    },
    {
     "name": "stderr",
     "output_type": "stream",
     "text": [
      "\r\n",
      "Collecting chart data from ph: 628it [18:34,  1.90s/it]"
     ]
    },
    {
     "name": "stdout",
     "output_type": "stream",
     "text": [
      "\n",
      "Date: 2019-09-21\n",
      "https://spotifycharts.com/regional/ph/daily/2019-09-21/download\n"
     ]
    },
    {
     "name": "stderr",
     "output_type": "stream",
     "text": [
      "\r\n",
      "Collecting chart data from ph: 629it [18:36,  1.84s/it]"
     ]
    },
    {
     "name": "stdout",
     "output_type": "stream",
     "text": [
      "\n",
      "Date: 2019-09-22\n",
      "https://spotifycharts.com/regional/ph/daily/2019-09-22/download\n"
     ]
    },
    {
     "name": "stderr",
     "output_type": "stream",
     "text": [
      "\r\n",
      "Collecting chart data from ph: 630it [18:37,  1.79s/it]"
     ]
    },
    {
     "name": "stdout",
     "output_type": "stream",
     "text": [
      "\n",
      "Date: 2019-09-23\n",
      "https://spotifycharts.com/regional/ph/daily/2019-09-23/download\n"
     ]
    },
    {
     "name": "stderr",
     "output_type": "stream",
     "text": [
      "\r\n",
      "Collecting chart data from ph: 631it [18:39,  1.74s/it]"
     ]
    },
    {
     "name": "stdout",
     "output_type": "stream",
     "text": [
      "\n",
      "Date: 2019-09-24\n",
      "https://spotifycharts.com/regional/ph/daily/2019-09-24/download\n"
     ]
    },
    {
     "name": "stderr",
     "output_type": "stream",
     "text": [
      "\r\n",
      "Collecting chart data from ph: 632it [18:41,  1.70s/it]"
     ]
    },
    {
     "name": "stdout",
     "output_type": "stream",
     "text": [
      "\n",
      "Date: 2019-09-25\n",
      "https://spotifycharts.com/regional/ph/daily/2019-09-25/download\n"
     ]
    },
    {
     "name": "stderr",
     "output_type": "stream",
     "text": [
      "\r\n",
      "Collecting chart data from ph: 633it [18:42,  1.70s/it]"
     ]
    },
    {
     "name": "stdout",
     "output_type": "stream",
     "text": [
      "\n",
      "Date: 2019-09-26\n",
      "https://spotifycharts.com/regional/ph/daily/2019-09-26/download\n"
     ]
    },
    {
     "name": "stderr",
     "output_type": "stream",
     "text": [
      "\r\n",
      "Collecting chart data from ph: 634it [18:44,  1.69s/it]"
     ]
    },
    {
     "name": "stdout",
     "output_type": "stream",
     "text": [
      "\n",
      "Date: 2019-09-27\n",
      "https://spotifycharts.com/regional/ph/daily/2019-09-27/download\n"
     ]
    },
    {
     "name": "stderr",
     "output_type": "stream",
     "text": [
      "\r\n",
      "Collecting chart data from ph: 635it [18:47,  2.02s/it]"
     ]
    },
    {
     "name": "stdout",
     "output_type": "stream",
     "text": [
      "\n",
      "Date: 2019-09-28\n",
      "https://spotifycharts.com/regional/ph/daily/2019-09-28/download\n"
     ]
    },
    {
     "name": "stderr",
     "output_type": "stream",
     "text": [
      "\r\n",
      "Collecting chart data from ph: 636it [18:48,  1.88s/it]"
     ]
    },
    {
     "name": "stdout",
     "output_type": "stream",
     "text": [
      "\n",
      "Date: 2019-09-29\n",
      "https://spotifycharts.com/regional/ph/daily/2019-09-29/download\n"
     ]
    },
    {
     "name": "stderr",
     "output_type": "stream",
     "text": [
      "\r\n",
      "Collecting chart data from ph: 637it [18:50,  1.80s/it]"
     ]
    },
    {
     "name": "stdout",
     "output_type": "stream",
     "text": [
      "\n",
      "Date: 2019-09-30\n",
      "https://spotifycharts.com/regional/ph/daily/2019-09-30/download\n"
     ]
    },
    {
     "name": "stderr",
     "output_type": "stream",
     "text": [
      "\r\n",
      "Collecting chart data from ph: 638it [18:52,  1.80s/it]"
     ]
    },
    {
     "name": "stdout",
     "output_type": "stream",
     "text": [
      "\n",
      "Date: 2019-10-01\n",
      "https://spotifycharts.com/regional/ph/daily/2019-10-01/download\n"
     ]
    },
    {
     "name": "stderr",
     "output_type": "stream",
     "text": [
      "\r\n",
      "Collecting chart data from ph: 639it [18:53,  1.75s/it]"
     ]
    },
    {
     "name": "stdout",
     "output_type": "stream",
     "text": [
      "\n",
      "Date: 2019-10-02\n",
      "https://spotifycharts.com/regional/ph/daily/2019-10-02/download\n"
     ]
    },
    {
     "name": "stderr",
     "output_type": "stream",
     "text": [
      "\r\n",
      "Collecting chart data from ph: 640it [18:55,  1.81s/it]"
     ]
    },
    {
     "name": "stdout",
     "output_type": "stream",
     "text": [
      "\n",
      "Date: 2019-10-03\n",
      "https://spotifycharts.com/regional/ph/daily/2019-10-03/download\n"
     ]
    },
    {
     "name": "stderr",
     "output_type": "stream",
     "text": [
      "\r\n",
      "Collecting chart data from ph: 641it [18:57,  1.76s/it]"
     ]
    },
    {
     "name": "stdout",
     "output_type": "stream",
     "text": [
      "\n",
      "Date: 2019-10-04\n",
      "https://spotifycharts.com/regional/ph/daily/2019-10-04/download\n"
     ]
    },
    {
     "name": "stderr",
     "output_type": "stream",
     "text": [
      "\r\n",
      "Collecting chart data from ph: 642it [18:59,  1.76s/it]"
     ]
    },
    {
     "name": "stdout",
     "output_type": "stream",
     "text": [
      "\n",
      "Date: 2019-10-05\n",
      "https://spotifycharts.com/regional/ph/daily/2019-10-05/download\n"
     ]
    },
    {
     "name": "stderr",
     "output_type": "stream",
     "text": [
      "\r\n",
      "Collecting chart data from ph: 643it [19:01,  1.80s/it]"
     ]
    },
    {
     "name": "stdout",
     "output_type": "stream",
     "text": [
      "\n",
      "Date: 2019-10-06\n",
      "https://spotifycharts.com/regional/ph/daily/2019-10-06/download\n"
     ]
    },
    {
     "name": "stderr",
     "output_type": "stream",
     "text": [
      "\r\n",
      "Collecting chart data from ph: 644it [19:02,  1.72s/it]"
     ]
    },
    {
     "name": "stdout",
     "output_type": "stream",
     "text": [
      "\n",
      "Date: 2019-10-07\n",
      "https://spotifycharts.com/regional/ph/daily/2019-10-07/download\n"
     ]
    },
    {
     "name": "stderr",
     "output_type": "stream",
     "text": [
      "\r\n",
      "Collecting chart data from ph: 645it [19:04,  1.69s/it]"
     ]
    },
    {
     "name": "stdout",
     "output_type": "stream",
     "text": [
      "\n",
      "Date: 2019-10-08\n",
      "https://spotifycharts.com/regional/ph/daily/2019-10-08/download\n"
     ]
    },
    {
     "name": "stderr",
     "output_type": "stream",
     "text": [
      "\r\n",
      "Collecting chart data from ph: 646it [19:05,  1.71s/it]"
     ]
    },
    {
     "name": "stdout",
     "output_type": "stream",
     "text": [
      "\n",
      "Date: 2019-10-09\n",
      "https://spotifycharts.com/regional/ph/daily/2019-10-09/download\n"
     ]
    },
    {
     "name": "stderr",
     "output_type": "stream",
     "text": [
      "\r\n",
      "Collecting chart data from ph: 647it [19:08,  1.92s/it]"
     ]
    },
    {
     "name": "stdout",
     "output_type": "stream",
     "text": [
      "\n",
      "Date: 2019-10-10\n",
      "https://spotifycharts.com/regional/ph/daily/2019-10-10/download\n"
     ]
    },
    {
     "name": "stderr",
     "output_type": "stream",
     "text": [
      "\r\n",
      "Collecting chart data from ph: 648it [19:10,  1.95s/it]"
     ]
    },
    {
     "name": "stdout",
     "output_type": "stream",
     "text": [
      "\n",
      "Date: 2019-10-11\n",
      "https://spotifycharts.com/regional/ph/daily/2019-10-11/download\n"
     ]
    },
    {
     "name": "stderr",
     "output_type": "stream",
     "text": [
      "\r\n",
      "Collecting chart data from ph: 649it [19:12,  1.96s/it]"
     ]
    },
    {
     "name": "stdout",
     "output_type": "stream",
     "text": [
      "\n",
      "Date: 2019-10-12\n",
      "https://spotifycharts.com/regional/ph/daily/2019-10-12/download\n"
     ]
    },
    {
     "name": "stderr",
     "output_type": "stream",
     "text": [
      "\r\n",
      "Collecting chart data from ph: 650it [19:14,  1.98s/it]"
     ]
    },
    {
     "name": "stdout",
     "output_type": "stream",
     "text": [
      "\n",
      "Date: 2019-10-13\n",
      "https://spotifycharts.com/regional/ph/daily/2019-10-13/download\n"
     ]
    },
    {
     "name": "stderr",
     "output_type": "stream",
     "text": [
      "\r\n",
      "Collecting chart data from ph: 651it [19:16,  1.87s/it]"
     ]
    },
    {
     "name": "stdout",
     "output_type": "stream",
     "text": [
      "\n",
      "Date: 2019-10-14\n",
      "https://spotifycharts.com/regional/ph/daily/2019-10-14/download\n"
     ]
    },
    {
     "name": "stderr",
     "output_type": "stream",
     "text": [
      "\r\n",
      "Collecting chart data from ph: 652it [19:17,  1.78s/it]"
     ]
    },
    {
     "name": "stdout",
     "output_type": "stream",
     "text": [
      "\n",
      "Date: 2019-10-15\n",
      "https://spotifycharts.com/regional/ph/daily/2019-10-15/download\n"
     ]
    },
    {
     "name": "stderr",
     "output_type": "stream",
     "text": [
      "\r\n",
      "Collecting chart data from ph: 653it [19:19,  1.79s/it]"
     ]
    },
    {
     "name": "stdout",
     "output_type": "stream",
     "text": [
      "\n",
      "Date: 2019-10-16\n",
      "https://spotifycharts.com/regional/ph/daily/2019-10-16/download\n"
     ]
    },
    {
     "name": "stderr",
     "output_type": "stream",
     "text": [
      "\r\n",
      "Collecting chart data from ph: 654it [19:21,  1.92s/it]"
     ]
    },
    {
     "name": "stdout",
     "output_type": "stream",
     "text": [
      "\n",
      "Date: 2019-10-17\n",
      "https://spotifycharts.com/regional/ph/daily/2019-10-17/download\n"
     ]
    },
    {
     "name": "stderr",
     "output_type": "stream",
     "text": [
      "\r\n",
      "Collecting chart data from ph: 655it [19:23,  1.84s/it]"
     ]
    },
    {
     "name": "stdout",
     "output_type": "stream",
     "text": [
      "\n",
      "Date: 2019-10-18\n",
      "https://spotifycharts.com/regional/ph/daily/2019-10-18/download\n"
     ]
    },
    {
     "name": "stderr",
     "output_type": "stream",
     "text": [
      "\r\n",
      "Collecting chart data from ph: 656it [19:24,  1.76s/it]"
     ]
    },
    {
     "name": "stdout",
     "output_type": "stream",
     "text": [
      "\n",
      "Date: 2019-10-19\n",
      "https://spotifycharts.com/regional/ph/daily/2019-10-19/download\n"
     ]
    },
    {
     "name": "stderr",
     "output_type": "stream",
     "text": [
      "\r\n",
      "Collecting chart data from ph: 657it [19:26,  1.73s/it]"
     ]
    },
    {
     "name": "stdout",
     "output_type": "stream",
     "text": [
      "\n",
      "Date: 2019-10-20\n",
      "https://spotifycharts.com/regional/ph/daily/2019-10-20/download\n"
     ]
    },
    {
     "name": "stderr",
     "output_type": "stream",
     "text": [
      "\r\n",
      "Collecting chart data from ph: 658it [19:28,  1.76s/it]"
     ]
    },
    {
     "name": "stdout",
     "output_type": "stream",
     "text": [
      "\n",
      "Date: 2019-10-21\n",
      "https://spotifycharts.com/regional/ph/daily/2019-10-21/download\n"
     ]
    },
    {
     "name": "stderr",
     "output_type": "stream",
     "text": [
      "\r\n",
      "Collecting chart data from ph: 659it [19:30,  1.92s/it]"
     ]
    },
    {
     "name": "stdout",
     "output_type": "stream",
     "text": [
      "\n",
      "Date: 2019-10-22\n",
      "https://spotifycharts.com/regional/ph/daily/2019-10-22/download\n"
     ]
    },
    {
     "name": "stderr",
     "output_type": "stream",
     "text": [
      "\r\n",
      "Collecting chart data from ph: 660it [19:32,  1.89s/it]"
     ]
    },
    {
     "name": "stdout",
     "output_type": "stream",
     "text": [
      "\n",
      "Date: 2019-10-23\n",
      "https://spotifycharts.com/regional/ph/daily/2019-10-23/download\n"
     ]
    },
    {
     "name": "stderr",
     "output_type": "stream",
     "text": [
      "\r\n",
      "Collecting chart data from ph: 661it [19:34,  1.83s/it]"
     ]
    },
    {
     "name": "stdout",
     "output_type": "stream",
     "text": [
      "\n",
      "Date: 2019-10-24\n",
      "https://spotifycharts.com/regional/ph/daily/2019-10-24/download\n"
     ]
    },
    {
     "name": "stderr",
     "output_type": "stream",
     "text": [
      "\r\n",
      "Collecting chart data from ph: 662it [19:36,  1.85s/it]"
     ]
    },
    {
     "name": "stdout",
     "output_type": "stream",
     "text": [
      "\n",
      "Date: 2019-10-25\n",
      "https://spotifycharts.com/regional/ph/daily/2019-10-25/download\n"
     ]
    },
    {
     "name": "stderr",
     "output_type": "stream",
     "text": [
      "\r\n",
      "Collecting chart data from ph: 663it [19:37,  1.86s/it]"
     ]
    },
    {
     "name": "stdout",
     "output_type": "stream",
     "text": [
      "\n",
      "Date: 2019-10-26\n",
      "https://spotifycharts.com/regional/ph/daily/2019-10-26/download\n"
     ]
    },
    {
     "name": "stderr",
     "output_type": "stream",
     "text": [
      "\r\n",
      "Collecting chart data from ph: 664it [19:40,  2.07s/it]"
     ]
    },
    {
     "name": "stdout",
     "output_type": "stream",
     "text": [
      "\n",
      "Date: 2019-10-27\n",
      "https://spotifycharts.com/regional/ph/daily/2019-10-27/download\n"
     ]
    },
    {
     "name": "stderr",
     "output_type": "stream",
     "text": [
      "\r\n",
      "Collecting chart data from ph: 665it [19:42,  1.98s/it]"
     ]
    },
    {
     "name": "stdout",
     "output_type": "stream",
     "text": [
      "\n",
      "Date: 2019-10-28\n",
      "https://spotifycharts.com/regional/ph/daily/2019-10-28/download\n"
     ]
    },
    {
     "name": "stderr",
     "output_type": "stream",
     "text": [
      "\r\n",
      "Collecting chart data from ph: 666it [19:44,  1.94s/it]"
     ]
    },
    {
     "name": "stdout",
     "output_type": "stream",
     "text": [
      "\n",
      "Date: 2019-10-29\n",
      "https://spotifycharts.com/regional/ph/daily/2019-10-29/download\n"
     ]
    },
    {
     "name": "stderr",
     "output_type": "stream",
     "text": [
      "\r\n",
      "Collecting chart data from ph: 667it [19:46,  1.94s/it]"
     ]
    },
    {
     "name": "stdout",
     "output_type": "stream",
     "text": [
      "\n",
      "Date: 2019-10-30\n",
      "https://spotifycharts.com/regional/ph/daily/2019-10-30/download\n"
     ]
    },
    {
     "name": "stderr",
     "output_type": "stream",
     "text": [
      "\r\n",
      "Collecting chart data from ph: 668it [19:47,  1.87s/it]"
     ]
    },
    {
     "name": "stdout",
     "output_type": "stream",
     "text": [
      "\n",
      "Date: 2019-10-31\n",
      "https://spotifycharts.com/regional/ph/daily/2019-10-31/download\n"
     ]
    },
    {
     "name": "stderr",
     "output_type": "stream",
     "text": [
      "\r\n",
      "Collecting chart data from ph: 669it [19:49,  1.81s/it]"
     ]
    },
    {
     "name": "stdout",
     "output_type": "stream",
     "text": [
      "\n",
      "Date: 2019-11-01\n",
      "https://spotifycharts.com/regional/ph/daily/2019-11-01/download\n"
     ]
    },
    {
     "name": "stderr",
     "output_type": "stream",
     "text": [
      "\r\n",
      "Collecting chart data from ph: 670it [19:51,  1.80s/it]"
     ]
    },
    {
     "name": "stdout",
     "output_type": "stream",
     "text": [
      "\n",
      "Date: 2019-11-02\n",
      "https://spotifycharts.com/regional/ph/daily/2019-11-02/download\n"
     ]
    },
    {
     "name": "stderr",
     "output_type": "stream",
     "text": [
      "\r\n",
      "Collecting chart data from ph: 671it [19:52,  1.73s/it]"
     ]
    },
    {
     "name": "stdout",
     "output_type": "stream",
     "text": [
      "\n",
      "Date: 2019-11-03\n",
      "https://spotifycharts.com/regional/ph/daily/2019-11-03/download\n"
     ]
    },
    {
     "name": "stderr",
     "output_type": "stream",
     "text": [
      "\r\n",
      "Collecting chart data from ph: 672it [19:54,  1.72s/it]"
     ]
    },
    {
     "name": "stdout",
     "output_type": "stream",
     "text": [
      "\n",
      "Date: 2019-11-04\n",
      "https://spotifycharts.com/regional/ph/daily/2019-11-04/download\n"
     ]
    },
    {
     "name": "stderr",
     "output_type": "stream",
     "text": [
      "\r\n",
      "Collecting chart data from ph: 673it [19:56,  1.68s/it]"
     ]
    },
    {
     "name": "stdout",
     "output_type": "stream",
     "text": [
      "\n",
      "Date: 2019-11-05\n",
      "https://spotifycharts.com/regional/ph/daily/2019-11-05/download\n"
     ]
    },
    {
     "name": "stderr",
     "output_type": "stream",
     "text": [
      "\r\n",
      "Collecting chart data from ph: 674it [19:58,  1.88s/it]"
     ]
    },
    {
     "name": "stdout",
     "output_type": "stream",
     "text": [
      "\n",
      "Date: 2019-11-06\n",
      "https://spotifycharts.com/regional/ph/daily/2019-11-06/download\n"
     ]
    },
    {
     "name": "stderr",
     "output_type": "stream",
     "text": [
      "\r\n",
      "Collecting chart data from ph: 675it [20:00,  1.86s/it]"
     ]
    },
    {
     "name": "stdout",
     "output_type": "stream",
     "text": [
      "\n",
      "Date: 2019-11-07\n",
      "https://spotifycharts.com/regional/ph/daily/2019-11-07/download\n"
     ]
    },
    {
     "name": "stderr",
     "output_type": "stream",
     "text": [
      "\r\n",
      "Collecting chart data from ph: 676it [20:01,  1.82s/it]"
     ]
    },
    {
     "name": "stdout",
     "output_type": "stream",
     "text": [
      "\n",
      "Date: 2019-11-08\n",
      "https://spotifycharts.com/regional/ph/daily/2019-11-08/download\n"
     ]
    },
    {
     "name": "stderr",
     "output_type": "stream",
     "text": [
      "\r\n",
      "Collecting chart data from ph: 677it [20:03,  1.76s/it]"
     ]
    },
    {
     "name": "stdout",
     "output_type": "stream",
     "text": [
      "\n",
      "Date: 2019-11-09\n",
      "https://spotifycharts.com/regional/ph/daily/2019-11-09/download\n"
     ]
    },
    {
     "name": "stderr",
     "output_type": "stream",
     "text": [
      "\r\n",
      "Collecting chart data from ph: 678it [20:05,  1.74s/it]"
     ]
    },
    {
     "name": "stdout",
     "output_type": "stream",
     "text": [
      "\n",
      "Date: 2019-11-10\n",
      "https://spotifycharts.com/regional/ph/daily/2019-11-10/download\n"
     ]
    },
    {
     "name": "stderr",
     "output_type": "stream",
     "text": [
      "\r\n",
      "Collecting chart data from ph: 679it [20:07,  1.76s/it]"
     ]
    },
    {
     "name": "stdout",
     "output_type": "stream",
     "text": [
      "\n",
      "Date: 2019-11-11\n",
      "https://spotifycharts.com/regional/ph/daily/2019-11-11/download\n"
     ]
    },
    {
     "name": "stderr",
     "output_type": "stream",
     "text": [
      "\r\n",
      "Collecting chart data from ph: 680it [20:08,  1.72s/it]"
     ]
    },
    {
     "name": "stdout",
     "output_type": "stream",
     "text": [
      "\n",
      "Date: 2019-11-12\n",
      "https://spotifycharts.com/regional/ph/daily/2019-11-12/download\n"
     ]
    },
    {
     "name": "stderr",
     "output_type": "stream",
     "text": [
      "\r\n",
      "Collecting chart data from ph: 681it [20:10,  1.72s/it]"
     ]
    },
    {
     "name": "stdout",
     "output_type": "stream",
     "text": [
      "\n",
      "Date: 2019-11-13\n",
      "https://spotifycharts.com/regional/ph/daily/2019-11-13/download\n"
     ]
    },
    {
     "name": "stderr",
     "output_type": "stream",
     "text": [
      "\r\n",
      "Collecting chart data from ph: 682it [20:12,  1.71s/it]"
     ]
    },
    {
     "name": "stdout",
     "output_type": "stream",
     "text": [
      "\n",
      "Date: 2019-11-14\n",
      "https://spotifycharts.com/regional/ph/daily/2019-11-14/download\n"
     ]
    },
    {
     "name": "stderr",
     "output_type": "stream",
     "text": [
      "\r\n",
      "Collecting chart data from ph: 683it [20:13,  1.68s/it]"
     ]
    },
    {
     "name": "stdout",
     "output_type": "stream",
     "text": [
      "\n",
      "Date: 2019-11-15\n",
      "https://spotifycharts.com/regional/ph/daily/2019-11-15/download\n"
     ]
    },
    {
     "name": "stderr",
     "output_type": "stream",
     "text": [
      "\r\n",
      "Collecting chart data from ph: 684it [20:15,  1.67s/it]"
     ]
    },
    {
     "name": "stdout",
     "output_type": "stream",
     "text": [
      "\n",
      "Date: 2019-11-16\n",
      "https://spotifycharts.com/regional/ph/daily/2019-11-16/download\n"
     ]
    },
    {
     "name": "stderr",
     "output_type": "stream",
     "text": [
      "\r\n",
      "Collecting chart data from ph: 685it [20:16,  1.63s/it]"
     ]
    },
    {
     "name": "stdout",
     "output_type": "stream",
     "text": [
      "\n",
      "Date: 2019-11-17\n",
      "https://spotifycharts.com/regional/ph/daily/2019-11-17/download\n"
     ]
    },
    {
     "name": "stderr",
     "output_type": "stream",
     "text": [
      "\r\n",
      "Collecting chart data from ph: 686it [20:18,  1.64s/it]"
     ]
    },
    {
     "name": "stdout",
     "output_type": "stream",
     "text": [
      "\n",
      "Date: 2019-11-18\n",
      "https://spotifycharts.com/regional/ph/daily/2019-11-18/download\n"
     ]
    },
    {
     "name": "stderr",
     "output_type": "stream",
     "text": [
      "\r\n",
      "Collecting chart data from ph: 687it [20:20,  1.61s/it]"
     ]
    },
    {
     "name": "stdout",
     "output_type": "stream",
     "text": [
      "\n",
      "Date: 2019-11-19\n",
      "https://spotifycharts.com/regional/ph/daily/2019-11-19/download\n"
     ]
    },
    {
     "name": "stderr",
     "output_type": "stream",
     "text": [
      "\r\n",
      "Collecting chart data from ph: 688it [20:22,  1.74s/it]"
     ]
    },
    {
     "name": "stdout",
     "output_type": "stream",
     "text": [
      "\n",
      "Date: 2019-11-20\n",
      "https://spotifycharts.com/regional/ph/daily/2019-11-20/download\n"
     ]
    },
    {
     "name": "stderr",
     "output_type": "stream",
     "text": [
      "\r\n",
      "Collecting chart data from ph: 689it [20:23,  1.75s/it]"
     ]
    },
    {
     "name": "stdout",
     "output_type": "stream",
     "text": [
      "\n",
      "Date: 2019-11-21\n",
      "https://spotifycharts.com/regional/ph/daily/2019-11-21/download\n"
     ]
    },
    {
     "name": "stderr",
     "output_type": "stream",
     "text": [
      "\r\n",
      "Collecting chart data from ph: 690it [20:25,  1.69s/it]"
     ]
    },
    {
     "name": "stdout",
     "output_type": "stream",
     "text": [
      "\n",
      "Date: 2019-11-22\n",
      "https://spotifycharts.com/regional/ph/daily/2019-11-22/download\n"
     ]
    },
    {
     "name": "stderr",
     "output_type": "stream",
     "text": [
      "\r\n",
      "Collecting chart data from ph: 691it [20:27,  1.70s/it]"
     ]
    },
    {
     "name": "stdout",
     "output_type": "stream",
     "text": [
      "\n",
      "Date: 2019-11-23\n",
      "https://spotifycharts.com/regional/ph/daily/2019-11-23/download\n"
     ]
    },
    {
     "name": "stderr",
     "output_type": "stream",
     "text": [
      "\r\n",
      "Collecting chart data from ph: 692it [20:28,  1.68s/it]"
     ]
    },
    {
     "name": "stdout",
     "output_type": "stream",
     "text": [
      "\n",
      "Date: 2019-11-24\n",
      "https://spotifycharts.com/regional/ph/daily/2019-11-24/download\n"
     ]
    },
    {
     "name": "stderr",
     "output_type": "stream",
     "text": [
      "\r\n",
      "Collecting chart data from ph: 693it [20:30,  1.70s/it]"
     ]
    },
    {
     "name": "stdout",
     "output_type": "stream",
     "text": [
      "\n",
      "Date: 2019-11-25\n",
      "https://spotifycharts.com/regional/ph/daily/2019-11-25/download\n"
     ]
    },
    {
     "name": "stderr",
     "output_type": "stream",
     "text": [
      "\r\n",
      "Collecting chart data from ph: 694it [20:32,  1.67s/it]"
     ]
    },
    {
     "name": "stdout",
     "output_type": "stream",
     "text": [
      "\n",
      "Date: 2019-11-26\n",
      "https://spotifycharts.com/regional/ph/daily/2019-11-26/download\n"
     ]
    },
    {
     "name": "stderr",
     "output_type": "stream",
     "text": [
      "\r\n",
      "Collecting chart data from ph: 695it [20:34,  1.73s/it]"
     ]
    },
    {
     "name": "stdout",
     "output_type": "stream",
     "text": [
      "\n",
      "Date: 2019-11-27\n",
      "https://spotifycharts.com/regional/ph/daily/2019-11-27/download\n"
     ]
    },
    {
     "name": "stderr",
     "output_type": "stream",
     "text": [
      "\r\n",
      "Collecting chart data from ph: 696it [20:35,  1.69s/it]"
     ]
    },
    {
     "name": "stdout",
     "output_type": "stream",
     "text": [
      "\n",
      "Date: 2019-11-28\n",
      "https://spotifycharts.com/regional/ph/daily/2019-11-28/download\n"
     ]
    },
    {
     "name": "stderr",
     "output_type": "stream",
     "text": [
      "\r\n",
      "Collecting chart data from ph: 697it [20:37,  1.72s/it]"
     ]
    },
    {
     "name": "stdout",
     "output_type": "stream",
     "text": [
      "\n",
      "Date: 2019-11-29\n",
      "https://spotifycharts.com/regional/ph/daily/2019-11-29/download\n"
     ]
    },
    {
     "name": "stderr",
     "output_type": "stream",
     "text": [
      "\r\n",
      "Collecting chart data from ph: 698it [20:39,  1.75s/it]"
     ]
    },
    {
     "name": "stdout",
     "output_type": "stream",
     "text": [
      "\n",
      "Date: 2019-11-30\n",
      "https://spotifycharts.com/regional/ph/daily/2019-11-30/download\n"
     ]
    },
    {
     "name": "stderr",
     "output_type": "stream",
     "text": [
      "\r\n",
      "Collecting chart data from ph: 699it [20:40,  1.71s/it]"
     ]
    },
    {
     "name": "stdout",
     "output_type": "stream",
     "text": [
      "\n",
      "Date: 2019-12-01\n",
      "https://spotifycharts.com/regional/ph/daily/2019-12-01/download\n"
     ]
    },
    {
     "name": "stderr",
     "output_type": "stream",
     "text": [
      "\r\n",
      "Collecting chart data from ph: 700it [20:42,  1.73s/it]"
     ]
    },
    {
     "name": "stdout",
     "output_type": "stream",
     "text": [
      "\n",
      "Date: 2019-12-02\n",
      "https://spotifycharts.com/regional/ph/daily/2019-12-02/download\n"
     ]
    },
    {
     "name": "stderr",
     "output_type": "stream",
     "text": [
      "\r\n",
      "Collecting chart data from ph: 701it [20:44,  1.74s/it]"
     ]
    },
    {
     "name": "stdout",
     "output_type": "stream",
     "text": [
      "\n",
      "Date: 2019-12-03\n",
      "https://spotifycharts.com/regional/ph/daily/2019-12-03/download\n"
     ]
    },
    {
     "name": "stderr",
     "output_type": "stream",
     "text": [
      "\r\n",
      "Collecting chart data from ph: 702it [20:46,  1.73s/it]"
     ]
    },
    {
     "name": "stdout",
     "output_type": "stream",
     "text": [
      "\n",
      "Date: 2019-12-04\n",
      "https://spotifycharts.com/regional/ph/daily/2019-12-04/download\n"
     ]
    },
    {
     "name": "stderr",
     "output_type": "stream",
     "text": [
      "\r\n",
      "Collecting chart data from ph: 703it [20:47,  1.73s/it]"
     ]
    },
    {
     "name": "stdout",
     "output_type": "stream",
     "text": [
      "\n",
      "Date: 2019-12-05\n",
      "https://spotifycharts.com/regional/ph/daily/2019-12-05/download\n"
     ]
    },
    {
     "name": "stderr",
     "output_type": "stream",
     "text": [
      "\r\n",
      "Collecting chart data from ph: 704it [20:49,  1.73s/it]"
     ]
    },
    {
     "name": "stdout",
     "output_type": "stream",
     "text": [
      "\n",
      "Date: 2019-12-06\n",
      "https://spotifycharts.com/regional/ph/daily/2019-12-06/download\n"
     ]
    },
    {
     "name": "stderr",
     "output_type": "stream",
     "text": [
      "\r\n",
      "Collecting chart data from ph: 705it [20:51,  1.71s/it]"
     ]
    },
    {
     "name": "stdout",
     "output_type": "stream",
     "text": [
      "\n",
      "Date: 2019-12-07\n",
      "https://spotifycharts.com/regional/ph/daily/2019-12-07/download\n"
     ]
    },
    {
     "name": "stderr",
     "output_type": "stream",
     "text": [
      "\r\n",
      "Collecting chart data from ph: 706it [20:53,  1.75s/it]"
     ]
    },
    {
     "name": "stdout",
     "output_type": "stream",
     "text": [
      "\n",
      "Date: 2019-12-08\n",
      "https://spotifycharts.com/regional/ph/daily/2019-12-08/download\n"
     ]
    },
    {
     "name": "stderr",
     "output_type": "stream",
     "text": [
      "\r\n",
      "Collecting chart data from ph: 707it [20:55,  1.83s/it]"
     ]
    },
    {
     "name": "stdout",
     "output_type": "stream",
     "text": [
      "\n",
      "Date: 2019-12-09\n",
      "https://spotifycharts.com/regional/ph/daily/2019-12-09/download\n"
     ]
    },
    {
     "name": "stderr",
     "output_type": "stream",
     "text": [
      "\r\n",
      "Collecting chart data from ph: 708it [20:56,  1.80s/it]"
     ]
    },
    {
     "name": "stdout",
     "output_type": "stream",
     "text": [
      "\n",
      "Date: 2019-12-10\n",
      "https://spotifycharts.com/regional/ph/daily/2019-12-10/download\n"
     ]
    },
    {
     "name": "stderr",
     "output_type": "stream",
     "text": [
      "\r\n",
      "Collecting chart data from ph: 709it [20:58,  1.85s/it]"
     ]
    },
    {
     "name": "stdout",
     "output_type": "stream",
     "text": [
      "\n",
      "Date: 2019-12-11\n",
      "https://spotifycharts.com/regional/ph/daily/2019-12-11/download\n"
     ]
    },
    {
     "name": "stderr",
     "output_type": "stream",
     "text": [
      "\r\n",
      "Collecting chart data from ph: 710it [21:00,  1.79s/it]"
     ]
    },
    {
     "name": "stdout",
     "output_type": "stream",
     "text": [
      "\n",
      "Date: 2019-12-12\n",
      "https://spotifycharts.com/regional/ph/daily/2019-12-12/download\n"
     ]
    },
    {
     "name": "stderr",
     "output_type": "stream",
     "text": [
      "\r\n",
      "Collecting chart data from ph: 711it [21:02,  1.98s/it]"
     ]
    },
    {
     "name": "stdout",
     "output_type": "stream",
     "text": [
      "\n",
      "Date: 2019-12-13\n",
      "https://spotifycharts.com/regional/ph/daily/2019-12-13/download\n"
     ]
    },
    {
     "name": "stderr",
     "output_type": "stream",
     "text": [
      "\r\n",
      "Collecting chart data from ph: 712it [21:04,  1.86s/it]"
     ]
    },
    {
     "name": "stdout",
     "output_type": "stream",
     "text": [
      "\n",
      "Date: 2019-12-14\n",
      "https://spotifycharts.com/regional/ph/daily/2019-12-14/download\n"
     ]
    },
    {
     "name": "stderr",
     "output_type": "stream",
     "text": [
      "\r\n",
      "Collecting chart data from ph: 713it [21:06,  1.94s/it]"
     ]
    },
    {
     "name": "stdout",
     "output_type": "stream",
     "text": [
      "\n",
      "Date: 2019-12-15\n",
      "https://spotifycharts.com/regional/ph/daily/2019-12-15/download\n"
     ]
    },
    {
     "name": "stderr",
     "output_type": "stream",
     "text": [
      "\r\n",
      "Collecting chart data from ph: 714it [21:08,  1.99s/it]"
     ]
    },
    {
     "name": "stdout",
     "output_type": "stream",
     "text": [
      "\n",
      "Date: 2019-12-16\n",
      "https://spotifycharts.com/regional/ph/daily/2019-12-16/download\n"
     ]
    },
    {
     "name": "stderr",
     "output_type": "stream",
     "text": [
      "\r\n",
      "Collecting chart data from ph: 715it [21:10,  1.90s/it]"
     ]
    },
    {
     "name": "stdout",
     "output_type": "stream",
     "text": [
      "\n",
      "Date: 2019-12-17\n",
      "https://spotifycharts.com/regional/ph/daily/2019-12-17/download\n"
     ]
    },
    {
     "name": "stderr",
     "output_type": "stream",
     "text": [
      "\r\n",
      "Collecting chart data from ph: 716it [21:12,  1.89s/it]"
     ]
    },
    {
     "name": "stdout",
     "output_type": "stream",
     "text": [
      "\n",
      "Date: 2019-12-18\n",
      "https://spotifycharts.com/regional/ph/daily/2019-12-18/download\n"
     ]
    },
    {
     "name": "stderr",
     "output_type": "stream",
     "text": [
      "\r\n",
      "Collecting chart data from ph: 717it [21:13,  1.81s/it]"
     ]
    },
    {
     "name": "stdout",
     "output_type": "stream",
     "text": [
      "\n",
      "Date: 2019-12-19\n",
      "https://spotifycharts.com/regional/ph/daily/2019-12-19/download\n"
     ]
    },
    {
     "name": "stderr",
     "output_type": "stream",
     "text": [
      "\r\n",
      "Collecting chart data from ph: 718it [21:15,  1.85s/it]"
     ]
    },
    {
     "name": "stdout",
     "output_type": "stream",
     "text": [
      "\n",
      "Date: 2019-12-20\n",
      "https://spotifycharts.com/regional/ph/daily/2019-12-20/download\n"
     ]
    },
    {
     "name": "stderr",
     "output_type": "stream",
     "text": [
      "\r\n",
      "Collecting chart data from ph: 719it [21:17,  1.82s/it]"
     ]
    },
    {
     "name": "stdout",
     "output_type": "stream",
     "text": [
      "\n",
      "Date: 2019-12-21\n",
      "https://spotifycharts.com/regional/ph/daily/2019-12-21/download\n"
     ]
    },
    {
     "name": "stderr",
     "output_type": "stream",
     "text": [
      "\r\n",
      "Collecting chart data from ph: 720it [21:19,  1.83s/it]"
     ]
    },
    {
     "name": "stdout",
     "output_type": "stream",
     "text": [
      "\n",
      "Date: 2019-12-22\n",
      "https://spotifycharts.com/regional/ph/daily/2019-12-22/download\n"
     ]
    },
    {
     "name": "stderr",
     "output_type": "stream",
     "text": [
      "\r\n",
      "Collecting chart data from ph: 721it [21:21,  1.77s/it]"
     ]
    },
    {
     "name": "stdout",
     "output_type": "stream",
     "text": [
      "\n",
      "Date: 2019-12-23\n",
      "https://spotifycharts.com/regional/ph/daily/2019-12-23/download\n"
     ]
    },
    {
     "name": "stderr",
     "output_type": "stream",
     "text": [
      "\r\n",
      "Collecting chart data from ph: 722it [21:22,  1.81s/it]"
     ]
    },
    {
     "name": "stdout",
     "output_type": "stream",
     "text": [
      "\n",
      "Date: 2019-12-24\n",
      "https://spotifycharts.com/regional/ph/daily/2019-12-24/download\n"
     ]
    },
    {
     "name": "stderr",
     "output_type": "stream",
     "text": [
      "\r\n",
      "Collecting chart data from ph: 723it [21:24,  1.77s/it]"
     ]
    },
    {
     "name": "stdout",
     "output_type": "stream",
     "text": [
      "\n",
      "Date: 2019-12-25\n",
      "https://spotifycharts.com/regional/ph/daily/2019-12-25/download\n"
     ]
    },
    {
     "name": "stderr",
     "output_type": "stream",
     "text": [
      "\r\n",
      "Collecting chart data from ph: 724it [21:26,  1.68s/it]"
     ]
    },
    {
     "name": "stdout",
     "output_type": "stream",
     "text": [
      "\n",
      "Date: 2019-12-26\n",
      "https://spotifycharts.com/regional/ph/daily/2019-12-26/download\n"
     ]
    },
    {
     "name": "stderr",
     "output_type": "stream",
     "text": [
      "\r\n",
      "Collecting chart data from ph: 725it [21:27,  1.68s/it]"
     ]
    },
    {
     "name": "stdout",
     "output_type": "stream",
     "text": [
      "\n",
      "Date: 2019-12-27\n",
      "https://spotifycharts.com/regional/ph/daily/2019-12-27/download\n"
     ]
    },
    {
     "name": "stderr",
     "output_type": "stream",
     "text": [
      "\r\n",
      "Collecting chart data from ph: 726it [21:29,  1.68s/it]"
     ]
    },
    {
     "name": "stdout",
     "output_type": "stream",
     "text": [
      "\n",
      "Date: 2019-12-28\n",
      "https://spotifycharts.com/regional/ph/daily/2019-12-28/download\n"
     ]
    },
    {
     "name": "stderr",
     "output_type": "stream",
     "text": [
      "\r\n",
      "Collecting chart data from ph: 727it [21:31,  1.72s/it]"
     ]
    },
    {
     "name": "stdout",
     "output_type": "stream",
     "text": [
      "\n",
      "Date: 2019-12-29\n",
      "https://spotifycharts.com/regional/ph/daily/2019-12-29/download\n"
     ]
    },
    {
     "name": "stderr",
     "output_type": "stream",
     "text": [
      "\r\n",
      "Collecting chart data from ph: 728it [21:32,  1.68s/it]"
     ]
    },
    {
     "name": "stdout",
     "output_type": "stream",
     "text": [
      "\n",
      "Date: 2019-12-30\n",
      "https://spotifycharts.com/regional/ph/daily/2019-12-30/download\n"
     ]
    },
    {
     "name": "stderr",
     "output_type": "stream",
     "text": [
      "\r\n",
      "Collecting chart data from ph: 729it [21:34,  1.68s/it]"
     ]
    },
    {
     "name": "stdout",
     "output_type": "stream",
     "text": [
      "\n",
      "Date: 2019-12-31\n",
      "https://spotifycharts.com/regional/ph/daily/2019-12-31/download\n"
     ]
    },
    {
     "name": "stderr",
     "output_type": "stream",
     "text": [
      "\r\n",
      "Collecting chart data from ph: 730it [21:36,  1.73s/it]"
     ]
    },
    {
     "name": "stdout",
     "output_type": "stream",
     "text": [
      "\n",
      "Date: 2020-01-01\n",
      "https://spotifycharts.com/regional/ph/daily/2020-01-01/download\n"
     ]
    },
    {
     "name": "stderr",
     "output_type": "stream",
     "text": [
      "\r\n",
      "Collecting chart data from ph: 731it [21:38,  1.80s/it]"
     ]
    },
    {
     "name": "stdout",
     "output_type": "stream",
     "text": [
      "\n",
      "Date: 2020-01-02\n",
      "https://spotifycharts.com/regional/ph/daily/2020-01-02/download\n"
     ]
    },
    {
     "name": "stderr",
     "output_type": "stream",
     "text": [
      "\r\n",
      "Collecting chart data from ph: 732it [21:39,  1.74s/it]"
     ]
    },
    {
     "name": "stdout",
     "output_type": "stream",
     "text": [
      "\n",
      "Date: 2020-01-03\n",
      "https://spotifycharts.com/regional/ph/daily/2020-01-03/download\n"
     ]
    },
    {
     "name": "stderr",
     "output_type": "stream",
     "text": [
      "\r\n",
      "Collecting chart data from ph: 733it [21:41,  1.73s/it]"
     ]
    },
    {
     "name": "stdout",
     "output_type": "stream",
     "text": [
      "\n",
      "Date: 2020-01-04\n",
      "https://spotifycharts.com/regional/ph/daily/2020-01-04/download\n"
     ]
    },
    {
     "name": "stderr",
     "output_type": "stream",
     "text": [
      "\r\n",
      "Collecting chart data from ph: 734it [21:43,  1.69s/it]"
     ]
    },
    {
     "name": "stdout",
     "output_type": "stream",
     "text": [
      "\n",
      "Date: 2020-01-05\n",
      "https://spotifycharts.com/regional/ph/daily/2020-01-05/download\n"
     ]
    },
    {
     "name": "stderr",
     "output_type": "stream",
     "text": [
      "\r\n",
      "Collecting chart data from ph: 735it [21:44,  1.67s/it]"
     ]
    },
    {
     "name": "stdout",
     "output_type": "stream",
     "text": [
      "\n",
      "Date: 2020-01-06\n",
      "https://spotifycharts.com/regional/ph/daily/2020-01-06/download\n"
     ]
    },
    {
     "name": "stderr",
     "output_type": "stream",
     "text": [
      "\r\n",
      "Collecting chart data from ph: 736it [21:46,  1.65s/it]"
     ]
    },
    {
     "name": "stdout",
     "output_type": "stream",
     "text": [
      "\n",
      "Date: 2020-01-07\n",
      "https://spotifycharts.com/regional/ph/daily/2020-01-07/download\n"
     ]
    },
    {
     "name": "stderr",
     "output_type": "stream",
     "text": [
      "\r\n",
      "Collecting chart data from ph: 737it [21:48,  1.72s/it]"
     ]
    },
    {
     "name": "stdout",
     "output_type": "stream",
     "text": [
      "\n",
      "Date: 2020-01-08\n",
      "https://spotifycharts.com/regional/ph/daily/2020-01-08/download\n"
     ]
    },
    {
     "name": "stderr",
     "output_type": "stream",
     "text": [
      "\r\n",
      "Collecting chart data from ph: 738it [21:50,  1.74s/it]"
     ]
    },
    {
     "name": "stdout",
     "output_type": "stream",
     "text": [
      "\n",
      "Date: 2020-01-09\n",
      "https://spotifycharts.com/regional/ph/daily/2020-01-09/download\n"
     ]
    },
    {
     "name": "stderr",
     "output_type": "stream",
     "text": [
      "\r\n",
      "Collecting chart data from ph: 739it [21:51,  1.71s/it]"
     ]
    },
    {
     "name": "stdout",
     "output_type": "stream",
     "text": [
      "\n",
      "Date: 2020-01-10\n",
      "https://spotifycharts.com/regional/ph/daily/2020-01-10/download\n"
     ]
    },
    {
     "name": "stderr",
     "output_type": "stream",
     "text": [
      "\r\n",
      "Collecting chart data from ph: 740it [21:53,  1.75s/it]"
     ]
    },
    {
     "name": "stdout",
     "output_type": "stream",
     "text": [
      "\n",
      "Date: 2020-01-11\n",
      "https://spotifycharts.com/regional/ph/daily/2020-01-11/download\n"
     ]
    },
    {
     "name": "stderr",
     "output_type": "stream",
     "text": [
      "\r\n",
      "Collecting chart data from ph: 741it [21:55,  1.76s/it]"
     ]
    },
    {
     "name": "stdout",
     "output_type": "stream",
     "text": [
      "\n",
      "Date: 2020-01-12\n",
      "https://spotifycharts.com/regional/ph/daily/2020-01-12/download\n"
     ]
    },
    {
     "name": "stderr",
     "output_type": "stream",
     "text": [
      "\r\n",
      "Collecting chart data from ph: 742it [21:57,  1.72s/it]"
     ]
    },
    {
     "name": "stdout",
     "output_type": "stream",
     "text": [
      "\n",
      "Date: 2020-01-13\n",
      "https://spotifycharts.com/regional/ph/daily/2020-01-13/download\n"
     ]
    },
    {
     "name": "stderr",
     "output_type": "stream",
     "text": [
      "\r\n",
      "Collecting chart data from ph: 743it [21:58,  1.74s/it]"
     ]
    },
    {
     "name": "stdout",
     "output_type": "stream",
     "text": [
      "\n",
      "Date: 2020-01-14\n",
      "https://spotifycharts.com/regional/ph/daily/2020-01-14/download\n"
     ]
    },
    {
     "name": "stderr",
     "output_type": "stream",
     "text": [
      "\r\n",
      "Collecting chart data from ph: 744it [22:01,  2.00s/it]"
     ]
    },
    {
     "name": "stdout",
     "output_type": "stream",
     "text": [
      "\n",
      "Date: 2020-01-15\n",
      "https://spotifycharts.com/regional/ph/daily/2020-01-15/download\n"
     ]
    },
    {
     "name": "stderr",
     "output_type": "stream",
     "text": [
      "\r\n",
      "Collecting chart data from ph: 745it [22:03,  1.88s/it]"
     ]
    },
    {
     "name": "stdout",
     "output_type": "stream",
     "text": [
      "\n",
      "Date: 2020-01-16\n",
      "https://spotifycharts.com/regional/ph/daily/2020-01-16/download\n"
     ]
    },
    {
     "name": "stderr",
     "output_type": "stream",
     "text": [
      "\r\n",
      "Collecting chart data from ph: 746it [22:04,  1.80s/it]"
     ]
    },
    {
     "name": "stdout",
     "output_type": "stream",
     "text": [
      "\n",
      "Date: 2020-01-17\n",
      "https://spotifycharts.com/regional/ph/daily/2020-01-17/download\n"
     ]
    },
    {
     "name": "stderr",
     "output_type": "stream",
     "text": [
      "\r\n",
      "Collecting chart data from ph: 747it [22:06,  1.78s/it]"
     ]
    },
    {
     "name": "stdout",
     "output_type": "stream",
     "text": [
      "\n",
      "Date: 2020-01-18\n",
      "https://spotifycharts.com/regional/ph/daily/2020-01-18/download\n"
     ]
    },
    {
     "name": "stderr",
     "output_type": "stream",
     "text": [
      "\r\n",
      "Collecting chart data from ph: 748it [22:08,  1.75s/it]"
     ]
    },
    {
     "name": "stdout",
     "output_type": "stream",
     "text": [
      "\n",
      "Date: 2020-01-19\n",
      "https://spotifycharts.com/regional/ph/daily/2020-01-19/download\n"
     ]
    },
    {
     "name": "stderr",
     "output_type": "stream",
     "text": [
      "\r\n",
      "Collecting chart data from ph: 749it [22:10,  1.87s/it]"
     ]
    },
    {
     "name": "stdout",
     "output_type": "stream",
     "text": [
      "\n",
      "Date: 2020-01-20\n",
      "https://spotifycharts.com/regional/ph/daily/2020-01-20/download\n"
     ]
    },
    {
     "name": "stderr",
     "output_type": "stream",
     "text": [
      "\r\n",
      "Collecting chart data from ph: 750it [22:12,  1.86s/it]"
     ]
    },
    {
     "name": "stdout",
     "output_type": "stream",
     "text": [
      "\n",
      "Date: 2020-01-21\n",
      "https://spotifycharts.com/regional/ph/daily/2020-01-21/download\n"
     ]
    },
    {
     "name": "stderr",
     "output_type": "stream",
     "text": [
      "\r\n",
      "Collecting chart data from ph: 751it [22:13,  1.77s/it]"
     ]
    },
    {
     "name": "stdout",
     "output_type": "stream",
     "text": [
      "\n",
      "Date: 2020-01-22\n",
      "https://spotifycharts.com/regional/ph/daily/2020-01-22/download\n"
     ]
    },
    {
     "name": "stderr",
     "output_type": "stream",
     "text": [
      "\r\n",
      "Collecting chart data from ph: 752it [22:15,  1.71s/it]"
     ]
    },
    {
     "name": "stdout",
     "output_type": "stream",
     "text": [
      "\n",
      "Date: 2020-01-23\n",
      "https://spotifycharts.com/regional/ph/daily/2020-01-23/download\n"
     ]
    },
    {
     "name": "stderr",
     "output_type": "stream",
     "text": [
      "\r\n",
      "Collecting chart data from ph: 753it [22:16,  1.67s/it]"
     ]
    },
    {
     "name": "stdout",
     "output_type": "stream",
     "text": [
      "\n",
      "Date: 2020-01-24\n",
      "https://spotifycharts.com/regional/ph/daily/2020-01-24/download\n"
     ]
    },
    {
     "name": "stderr",
     "output_type": "stream",
     "text": [
      "\r\n",
      "Collecting chart data from ph: 754it [22:18,  1.67s/it]"
     ]
    },
    {
     "name": "stdout",
     "output_type": "stream",
     "text": [
      "\n",
      "Date: 2020-01-25\n",
      "https://spotifycharts.com/regional/ph/daily/2020-01-25/download\n"
     ]
    },
    {
     "name": "stderr",
     "output_type": "stream",
     "text": [
      "\r\n",
      "Collecting chart data from ph: 755it [22:20,  1.64s/it]"
     ]
    },
    {
     "name": "stdout",
     "output_type": "stream",
     "text": [
      "\n",
      "Date: 2020-01-26\n",
      "https://spotifycharts.com/regional/ph/daily/2020-01-26/download\n"
     ]
    },
    {
     "name": "stderr",
     "output_type": "stream",
     "text": [
      "\r\n",
      "Collecting chart data from ph: 756it [22:21,  1.65s/it]"
     ]
    },
    {
     "name": "stdout",
     "output_type": "stream",
     "text": [
      "\n",
      "Date: 2020-01-27\n",
      "https://spotifycharts.com/regional/ph/daily/2020-01-27/download\n"
     ]
    },
    {
     "name": "stderr",
     "output_type": "stream",
     "text": [
      "\r\n",
      "Collecting chart data from ph: 757it [22:23,  1.72s/it]"
     ]
    },
    {
     "name": "stdout",
     "output_type": "stream",
     "text": [
      "\n",
      "Date: 2020-01-28\n",
      "https://spotifycharts.com/regional/ph/daily/2020-01-28/download\n"
     ]
    },
    {
     "name": "stderr",
     "output_type": "stream",
     "text": [
      "\r\n",
      "Collecting chart data from ph: 758it [22:25,  1.73s/it]"
     ]
    },
    {
     "name": "stdout",
     "output_type": "stream",
     "text": [
      "\n",
      "Date: 2020-01-29\n",
      "https://spotifycharts.com/regional/ph/daily/2020-01-29/download\n"
     ]
    },
    {
     "name": "stderr",
     "output_type": "stream",
     "text": [
      "\r\n",
      "Collecting chart data from ph: 759it [22:27,  1.72s/it]"
     ]
    },
    {
     "name": "stdout",
     "output_type": "stream",
     "text": [
      "\n",
      "Date: 2020-01-30\n",
      "https://spotifycharts.com/regional/ph/daily/2020-01-30/download\n"
     ]
    },
    {
     "name": "stderr",
     "output_type": "stream",
     "text": [
      "\r\n",
      "Collecting chart data from ph: 760it [22:28,  1.67s/it]"
     ]
    },
    {
     "name": "stdout",
     "output_type": "stream",
     "text": [
      "\n",
      "Date: 2020-01-31\n",
      "https://spotifycharts.com/regional/ph/daily/2020-01-31/download\n"
     ]
    },
    {
     "name": "stderr",
     "output_type": "stream",
     "text": [
      "\r\n",
      "Collecting chart data from ph: 761it [22:30,  1.70s/it]"
     ]
    },
    {
     "name": "stdout",
     "output_type": "stream",
     "text": [
      "\n",
      "Date: 2020-02-01\n",
      "https://spotifycharts.com/regional/ph/daily/2020-02-01/download\n"
     ]
    },
    {
     "name": "stderr",
     "output_type": "stream",
     "text": [
      "\r\n",
      "Collecting chart data from ph: 762it [22:32,  1.71s/it]"
     ]
    },
    {
     "name": "stdout",
     "output_type": "stream",
     "text": [
      "\n",
      "Date: 2020-02-02\n",
      "https://spotifycharts.com/regional/ph/daily/2020-02-02/download\n"
     ]
    },
    {
     "name": "stderr",
     "output_type": "stream",
     "text": [
      "\r\n",
      "Collecting chart data from ph: 763it [22:33,  1.68s/it]"
     ]
    },
    {
     "name": "stdout",
     "output_type": "stream",
     "text": [
      "\n",
      "Date: 2020-02-03\n",
      "https://spotifycharts.com/regional/ph/daily/2020-02-03/download\n"
     ]
    },
    {
     "name": "stderr",
     "output_type": "stream",
     "text": [
      "\r\n",
      "Collecting chart data from ph: 764it [22:35,  1.78s/it]"
     ]
    },
    {
     "name": "stdout",
     "output_type": "stream",
     "text": [
      "\n",
      "Date: 2020-02-04\n",
      "https://spotifycharts.com/regional/ph/daily/2020-02-04/download\n"
     ]
    },
    {
     "name": "stderr",
     "output_type": "stream",
     "text": [
      "\r\n",
      "Collecting chart data from ph: 765it [22:37,  1.86s/it]"
     ]
    },
    {
     "name": "stdout",
     "output_type": "stream",
     "text": [
      "\n",
      "Date: 2020-02-05\n",
      "https://spotifycharts.com/regional/ph/daily/2020-02-05/download\n"
     ]
    },
    {
     "name": "stderr",
     "output_type": "stream",
     "text": [
      "\r\n",
      "Collecting chart data from ph: 766it [22:39,  1.77s/it]"
     ]
    },
    {
     "name": "stdout",
     "output_type": "stream",
     "text": [
      "\n",
      "Date: 2020-02-06\n",
      "https://spotifycharts.com/regional/ph/daily/2020-02-06/download\n"
     ]
    },
    {
     "name": "stderr",
     "output_type": "stream",
     "text": [
      "\r\n",
      "Collecting chart data from ph: 767it [22:40,  1.72s/it]"
     ]
    },
    {
     "name": "stdout",
     "output_type": "stream",
     "text": [
      "\n",
      "Date: 2020-02-07\n",
      "https://spotifycharts.com/regional/ph/daily/2020-02-07/download\n"
     ]
    },
    {
     "name": "stderr",
     "output_type": "stream",
     "text": [
      "\r\n",
      "Collecting chart data from ph: 768it [22:42,  1.68s/it]"
     ]
    },
    {
     "name": "stdout",
     "output_type": "stream",
     "text": [
      "\n",
      "Date: 2020-02-08\n",
      "https://spotifycharts.com/regional/ph/daily/2020-02-08/download\n"
     ]
    },
    {
     "name": "stderr",
     "output_type": "stream",
     "text": [
      "\r\n",
      "Collecting chart data from ph: 769it [22:44,  1.76s/it]"
     ]
    },
    {
     "name": "stdout",
     "output_type": "stream",
     "text": [
      "\n",
      "Date: 2020-02-09\n",
      "https://spotifycharts.com/regional/ph/daily/2020-02-09/download\n"
     ]
    },
    {
     "name": "stderr",
     "output_type": "stream",
     "text": [
      "\r\n",
      "Collecting chart data from ph: 770it [22:46,  1.74s/it]"
     ]
    },
    {
     "name": "stdout",
     "output_type": "stream",
     "text": [
      "\n",
      "Date: 2020-02-10\n",
      "https://spotifycharts.com/regional/ph/daily/2020-02-10/download\n"
     ]
    },
    {
     "name": "stderr",
     "output_type": "stream",
     "text": [
      "\r\n",
      "Collecting chart data from ph: 771it [22:48,  1.82s/it]"
     ]
    },
    {
     "name": "stdout",
     "output_type": "stream",
     "text": [
      "\n",
      "Date: 2020-02-11\n",
      "https://spotifycharts.com/regional/ph/daily/2020-02-11/download\n"
     ]
    },
    {
     "name": "stderr",
     "output_type": "stream",
     "text": [
      "\r\n",
      "Collecting chart data from ph: 772it [22:49,  1.76s/it]"
     ]
    },
    {
     "name": "stdout",
     "output_type": "stream",
     "text": [
      "\n",
      "Date: 2020-02-12\n",
      "https://spotifycharts.com/regional/ph/daily/2020-02-12/download\n"
     ]
    },
    {
     "name": "stderr",
     "output_type": "stream",
     "text": [
      "\r\n",
      "Collecting chart data from ph: 773it [22:51,  1.81s/it]"
     ]
    },
    {
     "name": "stdout",
     "output_type": "stream",
     "text": [
      "\n",
      "Date: 2020-02-13\n",
      "https://spotifycharts.com/regional/ph/daily/2020-02-13/download\n"
     ]
    },
    {
     "name": "stderr",
     "output_type": "stream",
     "text": [
      "\r\n",
      "Collecting chart data from ph: 774it [22:53,  1.75s/it]"
     ]
    },
    {
     "name": "stdout",
     "output_type": "stream",
     "text": [
      "\n",
      "Date: 2020-02-14\n",
      "https://spotifycharts.com/regional/ph/daily/2020-02-14/download\n"
     ]
    },
    {
     "name": "stderr",
     "output_type": "stream",
     "text": [
      "\r\n",
      "Collecting chart data from ph: 775it [22:54,  1.70s/it]"
     ]
    },
    {
     "name": "stdout",
     "output_type": "stream",
     "text": [
      "\n",
      "Date: 2020-02-15\n",
      "https://spotifycharts.com/regional/ph/daily/2020-02-15/download\n"
     ]
    },
    {
     "name": "stderr",
     "output_type": "stream",
     "text": [
      "\r\n",
      "Collecting chart data from ph: 776it [22:56,  1.65s/it]"
     ]
    },
    {
     "name": "stdout",
     "output_type": "stream",
     "text": [
      "\n",
      "Date: 2020-02-16\n",
      "https://spotifycharts.com/regional/ph/daily/2020-02-16/download\n"
     ]
    },
    {
     "name": "stderr",
     "output_type": "stream",
     "text": [
      "\r\n",
      "Collecting chart data from ph: 777it [22:58,  1.69s/it]"
     ]
    },
    {
     "name": "stdout",
     "output_type": "stream",
     "text": [
      "\n",
      "Date: 2020-02-17\n",
      "https://spotifycharts.com/regional/ph/daily/2020-02-17/download\n"
     ]
    },
    {
     "name": "stderr",
     "output_type": "stream",
     "text": [
      "\r\n",
      "Collecting chart data from ph: 778it [22:59,  1.70s/it]"
     ]
    },
    {
     "name": "stdout",
     "output_type": "stream",
     "text": [
      "\n",
      "Date: 2020-02-18\n",
      "https://spotifycharts.com/regional/ph/daily/2020-02-18/download\n"
     ]
    },
    {
     "name": "stderr",
     "output_type": "stream",
     "text": [
      "\r\n",
      "Collecting chart data from ph: 779it [23:01,  1.67s/it]"
     ]
    },
    {
     "name": "stdout",
     "output_type": "stream",
     "text": [
      "\n",
      "Date: 2020-02-19\n",
      "https://spotifycharts.com/regional/ph/daily/2020-02-19/download\n"
     ]
    },
    {
     "name": "stderr",
     "output_type": "stream",
     "text": [
      "\r\n",
      "Collecting chart data from ph: 780it [23:03,  1.64s/it]"
     ]
    },
    {
     "name": "stdout",
     "output_type": "stream",
     "text": [
      "\n",
      "Date: 2020-02-20\n",
      "https://spotifycharts.com/regional/ph/daily/2020-02-20/download\n"
     ]
    },
    {
     "name": "stderr",
     "output_type": "stream",
     "text": [
      "\r\n",
      "Collecting chart data from ph: 781it [23:04,  1.61s/it]"
     ]
    },
    {
     "name": "stdout",
     "output_type": "stream",
     "text": [
      "\n",
      "Date: 2020-02-21\n",
      "https://spotifycharts.com/regional/ph/daily/2020-02-21/download\n"
     ]
    },
    {
     "name": "stderr",
     "output_type": "stream",
     "text": [
      "\r\n",
      "Collecting chart data from ph: 782it [23:06,  1.62s/it]"
     ]
    },
    {
     "name": "stdout",
     "output_type": "stream",
     "text": [
      "\n",
      "Date: 2020-02-22\n",
      "https://spotifycharts.com/regional/ph/daily/2020-02-22/download\n"
     ]
    },
    {
     "name": "stderr",
     "output_type": "stream",
     "text": [
      "\r\n",
      "Collecting chart data from ph: 783it [23:07,  1.63s/it]"
     ]
    },
    {
     "name": "stdout",
     "output_type": "stream",
     "text": [
      "\n",
      "Date: 2020-02-23\n",
      "https://spotifycharts.com/regional/ph/daily/2020-02-23/download\n"
     ]
    },
    {
     "name": "stderr",
     "output_type": "stream",
     "text": [
      "\r\n",
      "Collecting chart data from ph: 784it [23:09,  1.66s/it]"
     ]
    },
    {
     "name": "stdout",
     "output_type": "stream",
     "text": [
      "\n",
      "Date: 2020-02-24\n",
      "https://spotifycharts.com/regional/ph/daily/2020-02-24/download\n"
     ]
    },
    {
     "name": "stderr",
     "output_type": "stream",
     "text": [
      "\r\n",
      "Collecting chart data from ph: 785it [23:11,  1.68s/it]"
     ]
    },
    {
     "name": "stdout",
     "output_type": "stream",
     "text": [
      "\n",
      "Date: 2020-02-25\n",
      "https://spotifycharts.com/regional/ph/daily/2020-02-25/download\n"
     ]
    },
    {
     "name": "stderr",
     "output_type": "stream",
     "text": [
      "\r\n",
      "Collecting chart data from ph: 786it [23:12,  1.66s/it]"
     ]
    },
    {
     "name": "stdout",
     "output_type": "stream",
     "text": [
      "\n",
      "Date: 2020-02-26\n",
      "https://spotifycharts.com/regional/ph/daily/2020-02-26/download\n"
     ]
    },
    {
     "name": "stderr",
     "output_type": "stream",
     "text": [
      "\r\n",
      "Collecting chart data from ph: 787it [23:14,  1.74s/it]"
     ]
    },
    {
     "name": "stdout",
     "output_type": "stream",
     "text": [
      "\n",
      "Date: 2020-02-27\n",
      "https://spotifycharts.com/regional/ph/daily/2020-02-27/download\n"
     ]
    },
    {
     "name": "stderr",
     "output_type": "stream",
     "text": [
      "\r\n",
      "Collecting chart data from ph: 788it [23:16,  1.79s/it]"
     ]
    },
    {
     "name": "stdout",
     "output_type": "stream",
     "text": [
      "\n",
      "Date: 2020-02-28\n",
      "https://spotifycharts.com/regional/ph/daily/2020-02-28/download\n"
     ]
    },
    {
     "name": "stderr",
     "output_type": "stream",
     "text": [
      "\r\n",
      "Collecting chart data from ph: 789it [23:18,  1.71s/it]"
     ]
    },
    {
     "name": "stdout",
     "output_type": "stream",
     "text": [
      "\n",
      "Date: 2020-02-29\n",
      "https://spotifycharts.com/regional/ph/daily/2020-02-29/download\n"
     ]
    },
    {
     "name": "stderr",
     "output_type": "stream",
     "text": [
      "\r\n",
      "Collecting chart data from ph: 790it [23:20,  1.92s/it]"
     ]
    },
    {
     "name": "stdout",
     "output_type": "stream",
     "text": [
      "\n",
      "Date: 2020-03-01\n",
      "https://spotifycharts.com/regional/ph/daily/2020-03-01/download\n"
     ]
    },
    {
     "name": "stderr",
     "output_type": "stream",
     "text": [
      "\r\n",
      "Collecting chart data from ph: 791it [23:22,  1.87s/it]"
     ]
    },
    {
     "name": "stdout",
     "output_type": "stream",
     "text": [
      "\n",
      "Date: 2020-03-02\n",
      "https://spotifycharts.com/regional/ph/daily/2020-03-02/download\n"
     ]
    },
    {
     "name": "stderr",
     "output_type": "stream",
     "text": [
      "\r\n",
      "Collecting chart data from ph: 792it [23:24,  1.92s/it]"
     ]
    },
    {
     "name": "stdout",
     "output_type": "stream",
     "text": [
      "\n",
      "Date: 2020-03-03\n",
      "https://spotifycharts.com/regional/ph/daily/2020-03-03/download\n"
     ]
    },
    {
     "name": "stderr",
     "output_type": "stream",
     "text": [
      "\r\n",
      "Collecting chart data from ph: 793it [23:26,  1.90s/it]"
     ]
    },
    {
     "name": "stdout",
     "output_type": "stream",
     "text": [
      "\n",
      "Date: 2020-03-04\n",
      "https://spotifycharts.com/regional/ph/daily/2020-03-04/download\n"
     ]
    },
    {
     "name": "stderr",
     "output_type": "stream",
     "text": [
      "\r\n",
      "Collecting chart data from ph: 794it [23:28,  1.99s/it]"
     ]
    },
    {
     "name": "stdout",
     "output_type": "stream",
     "text": [
      "\n",
      "Date: 2020-03-05\n",
      "https://spotifycharts.com/regional/ph/daily/2020-03-05/download\n"
     ]
    },
    {
     "name": "stderr",
     "output_type": "stream",
     "text": [
      "\r\n",
      "Collecting chart data from ph: 795it [23:30,  1.92s/it]"
     ]
    },
    {
     "name": "stdout",
     "output_type": "stream",
     "text": [
      "\n",
      "Date: 2020-03-06\n",
      "https://spotifycharts.com/regional/ph/daily/2020-03-06/download\n"
     ]
    },
    {
     "name": "stderr",
     "output_type": "stream",
     "text": [
      "\r\n",
      "Collecting chart data from ph: 796it [23:31,  1.81s/it]"
     ]
    },
    {
     "name": "stdout",
     "output_type": "stream",
     "text": [
      "\n",
      "Date: 2020-03-07\n",
      "https://spotifycharts.com/regional/ph/daily/2020-03-07/download\n"
     ]
    },
    {
     "name": "stderr",
     "output_type": "stream",
     "text": [
      "\r\n",
      "Collecting chart data from ph: 797it [23:33,  1.74s/it]"
     ]
    },
    {
     "name": "stdout",
     "output_type": "stream",
     "text": [
      "\n",
      "Date: 2020-03-08\n",
      "https://spotifycharts.com/regional/ph/daily/2020-03-08/download\n"
     ]
    },
    {
     "name": "stderr",
     "output_type": "stream",
     "text": [
      "\r\n",
      "Collecting chart data from ph: 798it [23:35,  1.69s/it]"
     ]
    },
    {
     "name": "stdout",
     "output_type": "stream",
     "text": [
      "\n",
      "Date: 2020-03-09\n",
      "https://spotifycharts.com/regional/ph/daily/2020-03-09/download\n"
     ]
    },
    {
     "name": "stderr",
     "output_type": "stream",
     "text": [
      "\r\n",
      "Collecting chart data from ph: 799it [23:36,  1.68s/it]"
     ]
    },
    {
     "name": "stdout",
     "output_type": "stream",
     "text": [
      "\n",
      "Date: 2020-03-10\n",
      "https://spotifycharts.com/regional/ph/daily/2020-03-10/download\n"
     ]
    },
    {
     "name": "stderr",
     "output_type": "stream",
     "text": [
      "\r\n",
      "Collecting chart data from ph: 800it [23:38,  1.67s/it]"
     ]
    },
    {
     "name": "stdout",
     "output_type": "stream",
     "text": [
      "\n",
      "Date: 2020-03-11\n",
      "https://spotifycharts.com/regional/ph/daily/2020-03-11/download\n"
     ]
    },
    {
     "name": "stderr",
     "output_type": "stream",
     "text": [
      "\r\n",
      "Collecting chart data from ph: 801it [23:40,  1.68s/it]"
     ]
    },
    {
     "name": "stdout",
     "output_type": "stream",
     "text": [
      "\n",
      "Date: 2020-03-12\n",
      "https://spotifycharts.com/regional/ph/daily/2020-03-12/download\n"
     ]
    },
    {
     "name": "stderr",
     "output_type": "stream",
     "text": [
      "\r\n",
      "Collecting chart data from ph: 802it [23:41,  1.65s/it]"
     ]
    },
    {
     "name": "stdout",
     "output_type": "stream",
     "text": [
      "\n",
      "Date: 2020-03-13\n",
      "https://spotifycharts.com/regional/ph/daily/2020-03-13/download\n"
     ]
    },
    {
     "name": "stderr",
     "output_type": "stream",
     "text": [
      "\r\n",
      "Collecting chart data from ph: 803it [23:43,  1.64s/it]"
     ]
    },
    {
     "name": "stdout",
     "output_type": "stream",
     "text": [
      "\n",
      "Date: 2020-03-14\n",
      "https://spotifycharts.com/regional/ph/daily/2020-03-14/download\n"
     ]
    },
    {
     "name": "stderr",
     "output_type": "stream",
     "text": [
      "\r\n",
      "Collecting chart data from ph: 804it [23:44,  1.62s/it]"
     ]
    },
    {
     "name": "stdout",
     "output_type": "stream",
     "text": [
      "\n",
      "Date: 2020-03-15\n",
      "https://spotifycharts.com/regional/ph/daily/2020-03-15/download\n"
     ]
    },
    {
     "name": "stderr",
     "output_type": "stream",
     "text": [
      "\r\n",
      "Collecting chart data from ph: 805it [23:46,  1.60s/it]"
     ]
    },
    {
     "name": "stdout",
     "output_type": "stream",
     "text": [
      "\n",
      "Date: 2020-03-16\n",
      "https://spotifycharts.com/regional/ph/daily/2020-03-16/download\n"
     ]
    },
    {
     "name": "stderr",
     "output_type": "stream",
     "text": [
      "\r\n",
      "Collecting chart data from ph: 806it [23:48,  1.65s/it]"
     ]
    },
    {
     "name": "stdout",
     "output_type": "stream",
     "text": [
      "\n",
      "Date: 2020-03-17\n",
      "https://spotifycharts.com/regional/ph/daily/2020-03-17/download\n"
     ]
    },
    {
     "name": "stderr",
     "output_type": "stream",
     "text": [
      "\r\n",
      "Collecting chart data from ph: 807it [23:49,  1.67s/it]"
     ]
    },
    {
     "name": "stdout",
     "output_type": "stream",
     "text": [
      "\n",
      "Date: 2020-03-18\n",
      "https://spotifycharts.com/regional/ph/daily/2020-03-18/download\n"
     ]
    },
    {
     "name": "stderr",
     "output_type": "stream",
     "text": [
      "\r\n",
      "Collecting chart data from ph: 808it [23:51,  1.64s/it]"
     ]
    },
    {
     "name": "stdout",
     "output_type": "stream",
     "text": [
      "\n",
      "Date: 2020-03-19\n",
      "https://spotifycharts.com/regional/ph/daily/2020-03-19/download\n"
     ]
    },
    {
     "name": "stderr",
     "output_type": "stream",
     "text": [
      "\r\n",
      "Collecting chart data from ph: 809it [23:52,  1.61s/it]"
     ]
    },
    {
     "name": "stdout",
     "output_type": "stream",
     "text": [
      "\n",
      "Date: 2020-03-20\n",
      "https://spotifycharts.com/regional/ph/daily/2020-03-20/download\n"
     ]
    },
    {
     "name": "stderr",
     "output_type": "stream",
     "text": [
      "\r\n",
      "Collecting chart data from ph: 810it [23:54,  1.60s/it]"
     ]
    },
    {
     "name": "stdout",
     "output_type": "stream",
     "text": [
      "\n",
      "Date: 2020-03-21\n",
      "https://spotifycharts.com/regional/ph/daily/2020-03-21/download\n"
     ]
    },
    {
     "name": "stderr",
     "output_type": "stream",
     "text": [
      "\r\n",
      "Collecting chart data from ph: 811it [23:56,  1.60s/it]"
     ]
    },
    {
     "name": "stdout",
     "output_type": "stream",
     "text": [
      "\n",
      "Date: 2020-03-22\n",
      "https://spotifycharts.com/regional/ph/daily/2020-03-22/download\n"
     ]
    },
    {
     "name": "stderr",
     "output_type": "stream",
     "text": [
      "\r\n",
      "Collecting chart data from ph: 812it [23:57,  1.57s/it]"
     ]
    },
    {
     "name": "stdout",
     "output_type": "stream",
     "text": [
      "\n",
      "Date: 2020-03-23\n",
      "https://spotifycharts.com/regional/ph/daily/2020-03-23/download\n"
     ]
    },
    {
     "name": "stderr",
     "output_type": "stream",
     "text": [
      "\r\n",
      "Collecting chart data from ph: 813it [24:00,  1.82s/it]"
     ]
    },
    {
     "name": "stdout",
     "output_type": "stream",
     "text": [
      "\n",
      "Date: 2020-03-24\n",
      "https://spotifycharts.com/regional/ph/daily/2020-03-24/download\n"
     ]
    },
    {
     "name": "stderr",
     "output_type": "stream",
     "text": [
      "\r\n",
      "Collecting chart data from ph: 814it [24:01,  1.76s/it]"
     ]
    },
    {
     "name": "stdout",
     "output_type": "stream",
     "text": [
      "\n",
      "Date: 2020-03-25\n",
      "https://spotifycharts.com/regional/ph/daily/2020-03-25/download\n"
     ]
    },
    {
     "name": "stderr",
     "output_type": "stream",
     "text": [
      "\r\n",
      "Collecting chart data from ph: 815it [24:03,  1.74s/it]"
     ]
    },
    {
     "name": "stdout",
     "output_type": "stream",
     "text": [
      "\n",
      "Date: 2020-03-26\n",
      "https://spotifycharts.com/regional/ph/daily/2020-03-26/download\n"
     ]
    },
    {
     "name": "stderr",
     "output_type": "stream",
     "text": [
      "\r\n",
      "Collecting chart data from ph: 816it [24:05,  1.72s/it]"
     ]
    },
    {
     "name": "stdout",
     "output_type": "stream",
     "text": [
      "\n",
      "Date: 2020-03-27\n",
      "https://spotifycharts.com/regional/ph/daily/2020-03-27/download\n"
     ]
    },
    {
     "name": "stderr",
     "output_type": "stream",
     "text": [
      "\r\n",
      "Collecting chart data from ph: 817it [24:06,  1.71s/it]"
     ]
    },
    {
     "name": "stdout",
     "output_type": "stream",
     "text": [
      "\n",
      "Date: 2020-03-28\n",
      "https://spotifycharts.com/regional/ph/daily/2020-03-28/download\n"
     ]
    },
    {
     "name": "stderr",
     "output_type": "stream",
     "text": [
      "\r\n",
      "Collecting chart data from ph: 818it [24:08,  1.69s/it]"
     ]
    },
    {
     "name": "stdout",
     "output_type": "stream",
     "text": [
      "\n",
      "Date: 2020-03-29\n",
      "https://spotifycharts.com/regional/ph/daily/2020-03-29/download\n"
     ]
    },
    {
     "name": "stderr",
     "output_type": "stream",
     "text": [
      "\r\n",
      "Collecting chart data from ph: 819it [24:10,  1.68s/it]"
     ]
    },
    {
     "name": "stdout",
     "output_type": "stream",
     "text": [
      "\n",
      "Date: 2020-03-30\n",
      "https://spotifycharts.com/regional/ph/daily/2020-03-30/download\n"
     ]
    },
    {
     "name": "stderr",
     "output_type": "stream",
     "text": [
      "\r\n",
      "Collecting chart data from ph: 820it [24:11,  1.70s/it]"
     ]
    },
    {
     "name": "stdout",
     "output_type": "stream",
     "text": [
      "\n",
      "Date: 2020-03-31\n",
      "https://spotifycharts.com/regional/ph/daily/2020-03-31/download\n"
     ]
    },
    {
     "name": "stderr",
     "output_type": "stream",
     "text": [
      "\r\n",
      "Collecting chart data from ph: 821it [24:13,  1.65s/it]"
     ]
    },
    {
     "name": "stdout",
     "output_type": "stream",
     "text": [
      "\n",
      "Date: 2020-04-01\n",
      "https://spotifycharts.com/regional/ph/daily/2020-04-01/download\n"
     ]
    },
    {
     "name": "stderr",
     "output_type": "stream",
     "text": [
      "\r\n",
      "Collecting chart data from ph: 822it [24:15,  1.71s/it]"
     ]
    },
    {
     "name": "stdout",
     "output_type": "stream",
     "text": [
      "\n",
      "Date: 2020-04-02\n",
      "https://spotifycharts.com/regional/ph/daily/2020-04-02/download\n"
     ]
    },
    {
     "name": "stderr",
     "output_type": "stream",
     "text": [
      "\r\n",
      "Collecting chart data from ph: 823it [24:16,  1.69s/it]"
     ]
    },
    {
     "name": "stdout",
     "output_type": "stream",
     "text": [
      "\n",
      "Date: 2020-04-03\n",
      "https://spotifycharts.com/regional/ph/daily/2020-04-03/download\n"
     ]
    },
    {
     "name": "stderr",
     "output_type": "stream",
     "text": [
      "\r\n",
      "Collecting chart data from ph: 824it [24:18,  1.70s/it]"
     ]
    },
    {
     "name": "stdout",
     "output_type": "stream",
     "text": [
      "\n",
      "Date: 2020-04-04\n",
      "https://spotifycharts.com/regional/ph/daily/2020-04-04/download\n"
     ]
    },
    {
     "name": "stderr",
     "output_type": "stream",
     "text": [
      "\r\n",
      "Collecting chart data from ph: 825it [24:20,  1.72s/it]"
     ]
    },
    {
     "name": "stdout",
     "output_type": "stream",
     "text": [
      "\n",
      "Date: 2020-04-05\n",
      "https://spotifycharts.com/regional/ph/daily/2020-04-05/download\n"
     ]
    },
    {
     "name": "stderr",
     "output_type": "stream",
     "text": [
      "\r\n",
      "Collecting chart data from ph: 826it [24:22,  1.90s/it]"
     ]
    },
    {
     "name": "stdout",
     "output_type": "stream",
     "text": [
      "\n",
      "Date: 2020-04-06\n",
      "https://spotifycharts.com/regional/ph/daily/2020-04-06/download\n"
     ]
    },
    {
     "name": "stderr",
     "output_type": "stream",
     "text": [
      "\r\n",
      "Collecting chart data from ph: 827it [24:24,  1.85s/it]"
     ]
    },
    {
     "name": "stdout",
     "output_type": "stream",
     "text": [
      "\n",
      "Date: 2020-04-07\n",
      "https://spotifycharts.com/regional/ph/daily/2020-04-07/download\n"
     ]
    },
    {
     "name": "stderr",
     "output_type": "stream",
     "text": [
      "\r\n",
      "Collecting chart data from ph: 828it [24:26,  1.80s/it]"
     ]
    },
    {
     "name": "stdout",
     "output_type": "stream",
     "text": [
      "\n",
      "Date: 2020-04-08\n",
      "https://spotifycharts.com/regional/ph/daily/2020-04-08/download\n"
     ]
    },
    {
     "name": "stderr",
     "output_type": "stream",
     "text": [
      "\r\n",
      "Collecting chart data from ph: 829it [24:27,  1.74s/it]"
     ]
    },
    {
     "name": "stdout",
     "output_type": "stream",
     "text": [
      "\n",
      "Date: 2020-04-09\n",
      "https://spotifycharts.com/regional/ph/daily/2020-04-09/download\n"
     ]
    },
    {
     "name": "stderr",
     "output_type": "stream",
     "text": [
      "\r\n",
      "Collecting chart data from ph: 830it [24:29,  1.77s/it]"
     ]
    },
    {
     "name": "stdout",
     "output_type": "stream",
     "text": [
      "\n",
      "Date: 2020-04-10\n",
      "https://spotifycharts.com/regional/ph/daily/2020-04-10/download\n"
     ]
    },
    {
     "name": "stderr",
     "output_type": "stream",
     "text": [
      "\r\n",
      "Collecting chart data from ph: 831it [24:31,  1.72s/it]"
     ]
    },
    {
     "name": "stdout",
     "output_type": "stream",
     "text": [
      "\n",
      "Date: 2020-04-11\n",
      "https://spotifycharts.com/regional/ph/daily/2020-04-11/download\n"
     ]
    },
    {
     "name": "stderr",
     "output_type": "stream",
     "text": [
      "\r\n",
      "Collecting chart data from ph: 832it [24:33,  1.86s/it]"
     ]
    },
    {
     "name": "stdout",
     "output_type": "stream",
     "text": [
      "\n",
      "Date: 2020-04-12\n",
      "https://spotifycharts.com/regional/ph/daily/2020-04-12/download\n"
     ]
    },
    {
     "name": "stderr",
     "output_type": "stream",
     "text": [
      "\r\n",
      "Collecting chart data from ph: 833it [24:34,  1.78s/it]"
     ]
    },
    {
     "name": "stdout",
     "output_type": "stream",
     "text": [
      "\n",
      "Date: 2020-04-13\n",
      "https://spotifycharts.com/regional/ph/daily/2020-04-13/download\n"
     ]
    },
    {
     "name": "stderr",
     "output_type": "stream",
     "text": [
      "\r\n",
      "Collecting chart data from ph: 834it [24:36,  1.75s/it]"
     ]
    },
    {
     "name": "stdout",
     "output_type": "stream",
     "text": [
      "\n",
      "Date: 2020-04-14\n",
      "https://spotifycharts.com/regional/ph/daily/2020-04-14/download\n"
     ]
    },
    {
     "name": "stderr",
     "output_type": "stream",
     "text": [
      "\r\n",
      "Collecting chart data from ph: 835it [24:38,  1.79s/it]"
     ]
    },
    {
     "name": "stdout",
     "output_type": "stream",
     "text": [
      "\n",
      "Date: 2020-04-15\n",
      "https://spotifycharts.com/regional/ph/daily/2020-04-15/download\n"
     ]
    },
    {
     "name": "stderr",
     "output_type": "stream",
     "text": [
      "\r\n",
      "Collecting chart data from ph: 836it [24:40,  1.78s/it]"
     ]
    },
    {
     "name": "stdout",
     "output_type": "stream",
     "text": [
      "\n",
      "Date: 2020-04-16\n",
      "https://spotifycharts.com/regional/ph/daily/2020-04-16/download\n"
     ]
    },
    {
     "name": "stderr",
     "output_type": "stream",
     "text": [
      "\r\n",
      "Collecting chart data from ph: 837it [24:41,  1.75s/it]"
     ]
    },
    {
     "name": "stdout",
     "output_type": "stream",
     "text": [
      "\n",
      "Date: 2020-04-17\n",
      "https://spotifycharts.com/regional/ph/daily/2020-04-17/download\n"
     ]
    },
    {
     "name": "stderr",
     "output_type": "stream",
     "text": [
      "\r\n",
      "Collecting chart data from ph: 838it [24:43,  1.72s/it]"
     ]
    },
    {
     "name": "stdout",
     "output_type": "stream",
     "text": [
      "\n",
      "Date: 2020-04-18\n",
      "https://spotifycharts.com/regional/ph/daily/2020-04-18/download\n"
     ]
    },
    {
     "name": "stderr",
     "output_type": "stream",
     "text": [
      "\r\n",
      "Collecting chart data from ph: 839it [24:45,  1.67s/it]"
     ]
    },
    {
     "name": "stdout",
     "output_type": "stream",
     "text": [
      "\n",
      "Date: 2020-04-19\n",
      "https://spotifycharts.com/regional/ph/daily/2020-04-19/download\n"
     ]
    },
    {
     "name": "stderr",
     "output_type": "stream",
     "text": [
      "\r\n",
      "Collecting chart data from ph: 840it [24:46,  1.65s/it]"
     ]
    },
    {
     "name": "stdout",
     "output_type": "stream",
     "text": [
      "\n",
      "Date: 2020-04-20\n",
      "https://spotifycharts.com/regional/ph/daily/2020-04-20/download\n"
     ]
    },
    {
     "name": "stderr",
     "output_type": "stream",
     "text": [
      "\r\n",
      "Collecting chart data from ph: 841it [24:48,  1.73s/it]"
     ]
    },
    {
     "name": "stdout",
     "output_type": "stream",
     "text": [
      "\n",
      "Date: 2020-04-21\n",
      "https://spotifycharts.com/regional/ph/daily/2020-04-21/download\n"
     ]
    },
    {
     "name": "stderr",
     "output_type": "stream",
     "text": [
      "\r\n",
      "Collecting chart data from ph: 842it [24:51,  2.21s/it]"
     ]
    },
    {
     "name": "stdout",
     "output_type": "stream",
     "text": [
      "\n",
      "Date: 2020-04-22\n",
      "https://spotifycharts.com/regional/ph/daily/2020-04-22/download\n"
     ]
    },
    {
     "name": "stderr",
     "output_type": "stream",
     "text": [
      "\r\n",
      "Collecting chart data from ph: 843it [24:53,  2.08s/it]"
     ]
    },
    {
     "name": "stdout",
     "output_type": "stream",
     "text": [
      "\n",
      "Date: 2020-04-23\n",
      "https://spotifycharts.com/regional/ph/daily/2020-04-23/download\n"
     ]
    },
    {
     "name": "stderr",
     "output_type": "stream",
     "text": [
      "\r\n",
      "Collecting chart data from ph: 844it [24:55,  2.01s/it]"
     ]
    },
    {
     "name": "stdout",
     "output_type": "stream",
     "text": [
      "\n",
      "Date: 2020-04-24\n",
      "https://spotifycharts.com/regional/ph/daily/2020-04-24/download\n"
     ]
    },
    {
     "name": "stderr",
     "output_type": "stream",
     "text": [
      "\r\n",
      "Collecting chart data from ph: 845it [24:57,  1.99s/it]"
     ]
    },
    {
     "name": "stdout",
     "output_type": "stream",
     "text": [
      "\n",
      "Date: 2020-04-25\n",
      "https://spotifycharts.com/regional/ph/daily/2020-04-25/download\n"
     ]
    },
    {
     "name": "stderr",
     "output_type": "stream",
     "text": [
      "\r\n",
      "Collecting chart data from ph: 846it [24:59,  1.88s/it]"
     ]
    },
    {
     "name": "stdout",
     "output_type": "stream",
     "text": [
      "\n",
      "Date: 2020-04-26\n",
      "https://spotifycharts.com/regional/ph/daily/2020-04-26/download\n"
     ]
    },
    {
     "name": "stderr",
     "output_type": "stream",
     "text": [
      "\r\n",
      "Collecting chart data from ph: 847it [25:00,  1.84s/it]"
     ]
    },
    {
     "name": "stdout",
     "output_type": "stream",
     "text": [
      "\n",
      "Date: 2020-04-27\n",
      "https://spotifycharts.com/regional/ph/daily/2020-04-27/download\n"
     ]
    },
    {
     "name": "stderr",
     "output_type": "stream",
     "text": [
      "\r\n",
      "Collecting chart data from ph: 848it [25:02,  1.76s/it]"
     ]
    },
    {
     "name": "stdout",
     "output_type": "stream",
     "text": [
      "\n",
      "Date: 2020-04-28\n",
      "https://spotifycharts.com/regional/ph/daily/2020-04-28/download\n"
     ]
    },
    {
     "name": "stderr",
     "output_type": "stream",
     "text": [
      "\r\n",
      "Collecting chart data from ph: 849it [25:04,  1.86s/it]"
     ]
    },
    {
     "name": "stdout",
     "output_type": "stream",
     "text": [
      "\n",
      "Date: 2020-04-29\n",
      "https://spotifycharts.com/regional/ph/daily/2020-04-29/download\n"
     ]
    },
    {
     "name": "stderr",
     "output_type": "stream",
     "text": [
      "\r\n",
      "Collecting chart data from ph: 850it [25:07,  2.24s/it]"
     ]
    },
    {
     "name": "stdout",
     "output_type": "stream",
     "text": [
      "\n",
      "Date: 2020-04-30\n",
      "https://spotifycharts.com/regional/ph/daily/2020-04-30/download\n"
     ]
    },
    {
     "name": "stderr",
     "output_type": "stream",
     "text": [
      "\r\n",
      "Collecting chart data from ph: 851it [25:09,  2.21s/it]"
     ]
    },
    {
     "name": "stdout",
     "output_type": "stream",
     "text": [
      "\n",
      "Date: 2020-05-01\n",
      "https://spotifycharts.com/regional/ph/daily/2020-05-01/download\n"
     ]
    },
    {
     "name": "stderr",
     "output_type": "stream",
     "text": [
      "\r\n",
      "Collecting chart data from ph: 852it [25:11,  2.20s/it]"
     ]
    },
    {
     "name": "stdout",
     "output_type": "stream",
     "text": [
      "\n",
      "Date: 2020-05-02\n",
      "https://spotifycharts.com/regional/ph/daily/2020-05-02/download\n"
     ]
    },
    {
     "name": "stderr",
     "output_type": "stream",
     "text": [
      "\r\n",
      "Collecting chart data from ph: 853it [25:13,  2.08s/it]"
     ]
    },
    {
     "name": "stdout",
     "output_type": "stream",
     "text": [
      "\n",
      "Date: 2020-05-03\n",
      "https://spotifycharts.com/regional/ph/daily/2020-05-03/download\n"
     ]
    },
    {
     "name": "stderr",
     "output_type": "stream",
     "text": [
      "\r\n",
      "Collecting chart data from ph: 854it [25:16,  2.38s/it]"
     ]
    },
    {
     "name": "stdout",
     "output_type": "stream",
     "text": [
      "\n",
      "Date: 2020-05-04\n",
      "https://spotifycharts.com/regional/ph/daily/2020-05-04/download\n"
     ]
    },
    {
     "name": "stderr",
     "output_type": "stream",
     "text": [
      "\r\n",
      "Collecting chart data from ph: 855it [25:18,  2.32s/it]"
     ]
    },
    {
     "name": "stdout",
     "output_type": "stream",
     "text": [
      "\n",
      "Date: 2020-05-05\n",
      "https://spotifycharts.com/regional/ph/daily/2020-05-05/download\n"
     ]
    },
    {
     "name": "stderr",
     "output_type": "stream",
     "text": [
      "\r\n",
      "Collecting chart data from ph: 856it [25:21,  2.34s/it]"
     ]
    },
    {
     "name": "stdout",
     "output_type": "stream",
     "text": [
      "\n",
      "Date: 2020-05-06\n",
      "https://spotifycharts.com/regional/ph/daily/2020-05-06/download\n"
     ]
    },
    {
     "name": "stderr",
     "output_type": "stream",
     "text": [
      "\r\n",
      "Collecting chart data from ph: 857it [25:23,  2.15s/it]"
     ]
    },
    {
     "name": "stdout",
     "output_type": "stream",
     "text": [
      "\n",
      "Date: 2020-05-07\n",
      "https://spotifycharts.com/regional/ph/daily/2020-05-07/download\n"
     ]
    },
    {
     "name": "stderr",
     "output_type": "stream",
     "text": [
      "\r\n",
      "Collecting chart data from ph: 858it [25:25,  2.22s/it]"
     ]
    },
    {
     "name": "stdout",
     "output_type": "stream",
     "text": [
      "\n",
      "Date: 2020-05-08\n",
      "https://spotifycharts.com/regional/ph/daily/2020-05-08/download\n"
     ]
    },
    {
     "name": "stderr",
     "output_type": "stream",
     "text": [
      "\r\n",
      "Collecting chart data from ph: 859it [25:27,  2.08s/it]"
     ]
    },
    {
     "name": "stdout",
     "output_type": "stream",
     "text": [
      "\n",
      "Date: 2020-05-09\n",
      "https://spotifycharts.com/regional/ph/daily/2020-05-09/download\n"
     ]
    },
    {
     "name": "stderr",
     "output_type": "stream",
     "text": [
      "\r\n",
      "Collecting chart data from ph: 860it [25:29,  1.99s/it]"
     ]
    },
    {
     "name": "stdout",
     "output_type": "stream",
     "text": [
      "\n",
      "Date: 2020-05-10\n",
      "https://spotifycharts.com/regional/ph/daily/2020-05-10/download\n"
     ]
    },
    {
     "name": "stderr",
     "output_type": "stream",
     "text": [
      "\r\n",
      "Collecting chart data from ph: 861it [25:30,  1.98s/it]"
     ]
    },
    {
     "name": "stdout",
     "output_type": "stream",
     "text": [
      "\n",
      "Date: 2020-05-11\n",
      "https://spotifycharts.com/regional/ph/daily/2020-05-11/download\n"
     ]
    },
    {
     "name": "stderr",
     "output_type": "stream",
     "text": [
      "\r\n",
      "Collecting chart data from ph: 862it [25:32,  1.91s/it]"
     ]
    },
    {
     "name": "stdout",
     "output_type": "stream",
     "text": [
      "\n",
      "Date: 2020-05-12\n",
      "https://spotifycharts.com/regional/ph/daily/2020-05-12/download\n"
     ]
    },
    {
     "name": "stderr",
     "output_type": "stream",
     "text": [
      "\r\n",
      "Collecting chart data from ph: 863it [25:34,  1.84s/it]"
     ]
    },
    {
     "name": "stdout",
     "output_type": "stream",
     "text": [
      "\n",
      "Date: 2020-05-13\n",
      "https://spotifycharts.com/regional/ph/daily/2020-05-13/download\n"
     ]
    },
    {
     "name": "stderr",
     "output_type": "stream",
     "text": [
      "\r\n",
      "Collecting chart data from ph: 864it [25:36,  2.01s/it]"
     ]
    },
    {
     "name": "stdout",
     "output_type": "stream",
     "text": [
      "\n",
      "Date: 2020-05-14\n",
      "https://spotifycharts.com/regional/ph/daily/2020-05-14/download\n"
     ]
    },
    {
     "name": "stderr",
     "output_type": "stream",
     "text": [
      "\r\n",
      "Collecting chart data from ph: 865it [25:39,  2.28s/it]"
     ]
    },
    {
     "name": "stdout",
     "output_type": "stream",
     "text": [
      "\n",
      "Date: 2020-05-15\n",
      "https://spotifycharts.com/regional/ph/daily/2020-05-15/download\n"
     ]
    },
    {
     "name": "stderr",
     "output_type": "stream",
     "text": [
      "\r\n",
      "Collecting chart data from ph: 866it [25:41,  2.15s/it]"
     ]
    },
    {
     "name": "stdout",
     "output_type": "stream",
     "text": [
      "\n",
      "Date: 2020-05-16\n",
      "https://spotifycharts.com/regional/ph/daily/2020-05-16/download\n"
     ]
    },
    {
     "name": "stderr",
     "output_type": "stream",
     "text": [
      "\r\n",
      "Collecting chart data from ph: 867it [25:43,  2.07s/it]"
     ]
    },
    {
     "name": "stdout",
     "output_type": "stream",
     "text": [
      "\n",
      "Date: 2020-05-17\n",
      "https://spotifycharts.com/regional/ph/daily/2020-05-17/download\n"
     ]
    },
    {
     "name": "stderr",
     "output_type": "stream",
     "text": [
      "\r\n",
      "Collecting chart data from ph: 868it [25:45,  1.99s/it]"
     ]
    },
    {
     "name": "stdout",
     "output_type": "stream",
     "text": [
      "\n",
      "Date: 2020-05-18\n",
      "https://spotifycharts.com/regional/ph/daily/2020-05-18/download\n"
     ]
    },
    {
     "name": "stderr",
     "output_type": "stream",
     "text": [
      "\r\n",
      "Collecting chart data from ph: 869it [25:47,  2.10s/it]"
     ]
    },
    {
     "name": "stdout",
     "output_type": "stream",
     "text": [
      "\n",
      "Date: 2020-05-19\n",
      "https://spotifycharts.com/regional/ph/daily/2020-05-19/download\n"
     ]
    },
    {
     "name": "stderr",
     "output_type": "stream",
     "text": [
      "\r\n",
      "Collecting chart data from ph: 870it [25:49,  2.02s/it]"
     ]
    },
    {
     "name": "stdout",
     "output_type": "stream",
     "text": [
      "\n",
      "Date: 2020-05-20\n",
      "https://spotifycharts.com/regional/ph/daily/2020-05-20/download\n"
     ]
    },
    {
     "name": "stderr",
     "output_type": "stream",
     "text": [
      "\r\n",
      "Collecting chart data from ph: 871it [25:52,  2.21s/it]"
     ]
    },
    {
     "name": "stdout",
     "output_type": "stream",
     "text": [
      "\n",
      "Date: 2020-05-21\n",
      "https://spotifycharts.com/regional/ph/daily/2020-05-21/download\n"
     ]
    },
    {
     "name": "stderr",
     "output_type": "stream",
     "text": [
      "\r\n",
      "Collecting chart data from ph: 872it [25:54,  2.28s/it]"
     ]
    },
    {
     "name": "stdout",
     "output_type": "stream",
     "text": [
      "\n",
      "Date: 2020-05-22\n",
      "https://spotifycharts.com/regional/ph/daily/2020-05-22/download\n"
     ]
    },
    {
     "name": "stderr",
     "output_type": "stream",
     "text": [
      "\r\n",
      "Collecting chart data from ph: 873it [25:56,  2.13s/it]"
     ]
    },
    {
     "name": "stdout",
     "output_type": "stream",
     "text": [
      "\n",
      "Date: 2020-05-23\n",
      "https://spotifycharts.com/regional/ph/daily/2020-05-23/download\n"
     ]
    },
    {
     "name": "stderr",
     "output_type": "stream",
     "text": [
      "\r\n",
      "Collecting chart data from ph: 874it [25:58,  2.15s/it]"
     ]
    },
    {
     "name": "stdout",
     "output_type": "stream",
     "text": [
      "\n",
      "Date: 2020-05-24\n",
      "https://spotifycharts.com/regional/ph/daily/2020-05-24/download\n"
     ]
    },
    {
     "name": "stderr",
     "output_type": "stream",
     "text": [
      "\r\n",
      "Collecting chart data from ph: 875it [26:01,  2.25s/it]"
     ]
    },
    {
     "name": "stdout",
     "output_type": "stream",
     "text": [
      "\n",
      "Date: 2020-05-25\n",
      "https://spotifycharts.com/regional/ph/daily/2020-05-25/download\n"
     ]
    },
    {
     "name": "stderr",
     "output_type": "stream",
     "text": [
      "\r\n",
      "Collecting chart data from ph: 876it [26:02,  2.10s/it]"
     ]
    },
    {
     "name": "stdout",
     "output_type": "stream",
     "text": [
      "\n",
      "Date: 2020-05-26\n",
      "https://spotifycharts.com/regional/ph/daily/2020-05-26/download\n"
     ]
    },
    {
     "name": "stderr",
     "output_type": "stream",
     "text": [
      "\r\n",
      "Collecting chart data from ph: 877it [26:04,  2.01s/it]"
     ]
    },
    {
     "name": "stdout",
     "output_type": "stream",
     "text": [
      "\n",
      "Date: 2020-05-27\n",
      "https://spotifycharts.com/regional/ph/daily/2020-05-27/download\n"
     ]
    },
    {
     "name": "stderr",
     "output_type": "stream",
     "text": [
      "\r\n",
      "Collecting chart data from ph: 878it [26:06,  1.93s/it]"
     ]
    },
    {
     "name": "stdout",
     "output_type": "stream",
     "text": [
      "\n",
      "Date: 2020-05-28\n",
      "https://spotifycharts.com/regional/ph/daily/2020-05-28/download\n"
     ]
    },
    {
     "name": "stderr",
     "output_type": "stream",
     "text": [
      "\r\n",
      "Collecting chart data from ph: 879it [26:08,  2.12s/it]"
     ]
    },
    {
     "name": "stdout",
     "output_type": "stream",
     "text": [
      "\n",
      "Date: 2020-05-29\n",
      "https://spotifycharts.com/regional/ph/daily/2020-05-29/download\n"
     ]
    },
    {
     "name": "stderr",
     "output_type": "stream",
     "text": [
      "\r\n",
      "Collecting chart data from ph: 880it [26:10,  2.00s/it]"
     ]
    },
    {
     "name": "stdout",
     "output_type": "stream",
     "text": [
      "\n",
      "Date: 2020-05-30\n",
      "https://spotifycharts.com/regional/ph/daily/2020-05-30/download\n"
     ]
    },
    {
     "name": "stderr",
     "output_type": "stream",
     "text": [
      "\r\n",
      "Collecting chart data from ph: 881it [26:12,  2.02s/it]"
     ]
    },
    {
     "name": "stdout",
     "output_type": "stream",
     "text": [
      "\n",
      "Date: 2020-05-31\n",
      "https://spotifycharts.com/regional/ph/daily/2020-05-31/download\n"
     ]
    },
    {
     "name": "stderr",
     "output_type": "stream",
     "text": [
      "\r\n",
      "Collecting chart data from ph: 882it [26:14,  1.99s/it]"
     ]
    },
    {
     "name": "stdout",
     "output_type": "stream",
     "text": [
      "\n",
      "Date: 2020-06-01\n",
      "https://spotifycharts.com/regional/ph/daily/2020-06-01/download\n"
     ]
    },
    {
     "name": "stderr",
     "output_type": "stream",
     "text": [
      "\r\n",
      "Collecting chart data from ph: 883it [26:16,  1.95s/it]"
     ]
    },
    {
     "name": "stdout",
     "output_type": "stream",
     "text": [
      "\n",
      "Date: 2020-06-02\n",
      "https://spotifycharts.com/regional/ph/daily/2020-06-02/download\n"
     ]
    },
    {
     "name": "stderr",
     "output_type": "stream",
     "text": [
      "\r\n",
      "Collecting chart data from ph: 884it [26:19,  2.14s/it]"
     ]
    },
    {
     "name": "stdout",
     "output_type": "stream",
     "text": [
      "\n",
      "Date: 2020-06-03\n",
      "https://spotifycharts.com/regional/ph/daily/2020-06-03/download\n"
     ]
    },
    {
     "name": "stderr",
     "output_type": "stream",
     "text": [
      "\r\n",
      "Collecting chart data from ph: 885it [26:20,  2.04s/it]"
     ]
    },
    {
     "name": "stdout",
     "output_type": "stream",
     "text": [
      "\n",
      "Date: 2020-06-04\n",
      "https://spotifycharts.com/regional/ph/daily/2020-06-04/download\n"
     ]
    },
    {
     "name": "stderr",
     "output_type": "stream",
     "text": [
      "\r\n",
      "Collecting chart data from ph: 886it [26:22,  1.98s/it]"
     ]
    },
    {
     "name": "stdout",
     "output_type": "stream",
     "text": [
      "\n",
      "Date: 2020-06-05\n",
      "https://spotifycharts.com/regional/ph/daily/2020-06-05/download\n"
     ]
    },
    {
     "name": "stderr",
     "output_type": "stream",
     "text": [
      "\r\n",
      "Collecting chart data from ph: 887it [26:24,  2.08s/it]"
     ]
    },
    {
     "name": "stdout",
     "output_type": "stream",
     "text": [
      "\n",
      "Date: 2020-06-06\n",
      "https://spotifycharts.com/regional/ph/daily/2020-06-06/download\n"
     ]
    },
    {
     "name": "stderr",
     "output_type": "stream",
     "text": [
      "\r\n",
      "Collecting chart data from ph: 888it [26:26,  2.05s/it]"
     ]
    },
    {
     "name": "stdout",
     "output_type": "stream",
     "text": [
      "\n",
      "Date: 2020-06-07\n",
      "https://spotifycharts.com/regional/ph/daily/2020-06-07/download\n"
     ]
    },
    {
     "name": "stderr",
     "output_type": "stream",
     "text": [
      "\r\n",
      "Collecting chart data from ph: 889it [26:29,  2.21s/it]"
     ]
    },
    {
     "name": "stdout",
     "output_type": "stream",
     "text": [
      "\n",
      "Date: 2020-06-08\n",
      "https://spotifycharts.com/regional/ph/daily/2020-06-08/download\n"
     ]
    },
    {
     "name": "stderr",
     "output_type": "stream",
     "text": [
      "\r\n",
      "Collecting chart data from ph: 890it [26:31,  2.14s/it]"
     ]
    },
    {
     "name": "stdout",
     "output_type": "stream",
     "text": [
      "\n",
      "Date: 2020-06-09\n",
      "https://spotifycharts.com/regional/ph/daily/2020-06-09/download\n"
     ]
    },
    {
     "name": "stderr",
     "output_type": "stream",
     "text": [
      "\r\n",
      "Collecting chart data from ph: 891it [26:33,  2.12s/it]"
     ]
    },
    {
     "name": "stdout",
     "output_type": "stream",
     "text": [
      "\n",
      "Date: 2020-06-10\n",
      "https://spotifycharts.com/regional/ph/daily/2020-06-10/download\n"
     ]
    },
    {
     "name": "stderr",
     "output_type": "stream",
     "text": [
      "\r\n",
      "Collecting chart data from ph: 892it [26:35,  2.11s/it]"
     ]
    },
    {
     "name": "stdout",
     "output_type": "stream",
     "text": [
      "\n",
      "Date: 2020-06-11\n",
      "https://spotifycharts.com/regional/ph/daily/2020-06-11/download\n"
     ]
    },
    {
     "name": "stderr",
     "output_type": "stream",
     "text": [
      "\r\n",
      "Collecting chart data from ph: 893it [26:37,  2.17s/it]"
     ]
    },
    {
     "name": "stdout",
     "output_type": "stream",
     "text": [
      "\n",
      "Date: 2020-06-12\n",
      "https://spotifycharts.com/regional/ph/daily/2020-06-12/download\n"
     ]
    },
    {
     "name": "stderr",
     "output_type": "stream",
     "text": [
      "\r\n",
      "Collecting chart data from ph: 894it [26:39,  2.06s/it]"
     ]
    },
    {
     "name": "stdout",
     "output_type": "stream",
     "text": [
      "\n",
      "Date: 2020-06-13\n",
      "https://spotifycharts.com/regional/ph/daily/2020-06-13/download\n"
     ]
    },
    {
     "name": "stderr",
     "output_type": "stream",
     "text": [
      "\r\n",
      "Collecting chart data from ph: 895it [26:41,  2.00s/it]"
     ]
    },
    {
     "name": "stdout",
     "output_type": "stream",
     "text": [
      "\n",
      "Date: 2020-06-14\n",
      "https://spotifycharts.com/regional/ph/daily/2020-06-14/download\n"
     ]
    },
    {
     "name": "stderr",
     "output_type": "stream",
     "text": [
      "\r\n",
      "Collecting chart data from ph: 896it [26:43,  1.98s/it]"
     ]
    },
    {
     "name": "stdout",
     "output_type": "stream",
     "text": [
      "\n",
      "Date: 2020-06-15\n",
      "https://spotifycharts.com/regional/ph/daily/2020-06-15/download\n"
     ]
    },
    {
     "name": "stderr",
     "output_type": "stream",
     "text": [
      "\r\n",
      "Collecting chart data from ph: 897it [26:45,  2.05s/it]"
     ]
    },
    {
     "name": "stdout",
     "output_type": "stream",
     "text": [
      "\n",
      "Date: 2020-06-16\n",
      "https://spotifycharts.com/regional/ph/daily/2020-06-16/download\n"
     ]
    },
    {
     "name": "stderr",
     "output_type": "stream",
     "text": [
      "\r\n",
      "Collecting chart data from ph: 898it [26:47,  2.02s/it]"
     ]
    },
    {
     "name": "stdout",
     "output_type": "stream",
     "text": [
      "\n",
      "Date: 2020-06-17\n",
      "https://spotifycharts.com/regional/ph/daily/2020-06-17/download\n"
     ]
    },
    {
     "name": "stderr",
     "output_type": "stream",
     "text": [
      "\r\n",
      "Collecting chart data from ph: 899it [26:50,  2.13s/it]"
     ]
    },
    {
     "name": "stdout",
     "output_type": "stream",
     "text": [
      "\n",
      "Date: 2020-06-18\n",
      "https://spotifycharts.com/regional/ph/daily/2020-06-18/download\n"
     ]
    },
    {
     "name": "stderr",
     "output_type": "stream",
     "text": [
      "\r\n",
      "Collecting chart data from ph: 900it [26:52,  2.15s/it]"
     ]
    },
    {
     "name": "stdout",
     "output_type": "stream",
     "text": [
      "\n",
      "Date: 2020-06-19\n",
      "https://spotifycharts.com/regional/ph/daily/2020-06-19/download\n"
     ]
    },
    {
     "name": "stderr",
     "output_type": "stream",
     "text": [
      "\r\n",
      "Collecting chart data from ph: 901it [26:54,  2.08s/it]"
     ]
    },
    {
     "name": "stdout",
     "output_type": "stream",
     "text": [
      "\n",
      "Date: 2020-06-20\n",
      "https://spotifycharts.com/regional/ph/daily/2020-06-20/download\n"
     ]
    },
    {
     "name": "stderr",
     "output_type": "stream",
     "text": [
      "\r\n",
      "Collecting chart data from ph: 902it [26:56,  2.20s/it]"
     ]
    },
    {
     "name": "stdout",
     "output_type": "stream",
     "text": [
      "\n",
      "Date: 2020-06-21\n",
      "https://spotifycharts.com/regional/ph/daily/2020-06-21/download\n"
     ]
    },
    {
     "name": "stderr",
     "output_type": "stream",
     "text": [
      "\r\n",
      "Collecting chart data from ph: 903it [26:59,  2.43s/it]"
     ]
    },
    {
     "name": "stdout",
     "output_type": "stream",
     "text": [
      "\n",
      "Date: 2020-06-22\n",
      "https://spotifycharts.com/regional/ph/daily/2020-06-22/download\n"
     ]
    },
    {
     "name": "stderr",
     "output_type": "stream",
     "text": [
      "\r\n",
      "Collecting chart data from ph: 904it [27:02,  2.46s/it]"
     ]
    },
    {
     "name": "stdout",
     "output_type": "stream",
     "text": [
      "\n",
      "Date: 2020-06-23\n",
      "https://spotifycharts.com/regional/ph/daily/2020-06-23/download\n"
     ]
    },
    {
     "name": "stderr",
     "output_type": "stream",
     "text": [
      "\r\n",
      "Collecting chart data from ph: 905it [27:04,  2.32s/it]"
     ]
    },
    {
     "name": "stdout",
     "output_type": "stream",
     "text": [
      "\n",
      "Date: 2020-06-24\n",
      "https://spotifycharts.com/regional/ph/daily/2020-06-24/download\n"
     ]
    },
    {
     "name": "stderr",
     "output_type": "stream",
     "text": [
      "\r\n",
      "Collecting chart data from ph: 906it [27:06,  2.37s/it]"
     ]
    },
    {
     "name": "stdout",
     "output_type": "stream",
     "text": [
      "\n",
      "Date: 2020-06-25\n",
      "https://spotifycharts.com/regional/ph/daily/2020-06-25/download\n"
     ]
    },
    {
     "name": "stderr",
     "output_type": "stream",
     "text": [
      "\r\n",
      "Collecting chart data from ph: 907it [27:08,  2.25s/it]"
     ]
    },
    {
     "name": "stdout",
     "output_type": "stream",
     "text": [
      "\n",
      "Date: 2020-06-26\n",
      "https://spotifycharts.com/regional/ph/daily/2020-06-26/download\n"
     ]
    },
    {
     "name": "stderr",
     "output_type": "stream",
     "text": [
      "\r\n",
      "Collecting chart data from ph: 908it [27:10,  2.26s/it]"
     ]
    },
    {
     "name": "stdout",
     "output_type": "stream",
     "text": [
      "\n",
      "Date: 2020-06-27\n",
      "https://spotifycharts.com/regional/ph/daily/2020-06-27/download\n"
     ]
    },
    {
     "name": "stderr",
     "output_type": "stream",
     "text": [
      "\r\n",
      "Collecting chart data from ph: 909it [27:12,  2.15s/it]"
     ]
    },
    {
     "name": "stdout",
     "output_type": "stream",
     "text": [
      "\n",
      "Date: 2020-06-28\n",
      "https://spotifycharts.com/regional/ph/daily/2020-06-28/download\n"
     ]
    },
    {
     "name": "stderr",
     "output_type": "stream",
     "text": [
      "\r\n",
      "Collecting chart data from ph: 910it [27:15,  2.31s/it]"
     ]
    },
    {
     "name": "stdout",
     "output_type": "stream",
     "text": [
      "\n",
      "Date: 2020-06-29\n",
      "https://spotifycharts.com/regional/ph/daily/2020-06-29/download\n"
     ]
    },
    {
     "name": "stderr",
     "output_type": "stream",
     "text": [
      "\r\n",
      "Collecting chart data from ph: 911it [27:17,  2.22s/it]"
     ]
    },
    {
     "name": "stdout",
     "output_type": "stream",
     "text": [
      "\n",
      "Date: 2020-06-30\n",
      "https://spotifycharts.com/regional/ph/daily/2020-06-30/download\n"
     ]
    },
    {
     "name": "stderr",
     "output_type": "stream",
     "text": [
      "\r\n",
      "Collecting chart data from ph: 912it [27:19,  2.10s/it]"
     ]
    },
    {
     "name": "stdout",
     "output_type": "stream",
     "text": [
      "\n",
      "Date: 2020-07-01\n",
      "https://spotifycharts.com/regional/ph/daily/2020-07-01/download\n"
     ]
    },
    {
     "name": "stderr",
     "output_type": "stream",
     "text": [
      "\r\n",
      "Collecting chart data from ph: 913it [27:21,  2.13s/it]"
     ]
    },
    {
     "name": "stdout",
     "output_type": "stream",
     "text": [
      "\n",
      "Date: 2020-07-02\n",
      "https://spotifycharts.com/regional/ph/daily/2020-07-02/download\n"
     ]
    },
    {
     "name": "stderr",
     "output_type": "stream",
     "text": [
      "\r\n",
      "Collecting chart data from ph: 914it [27:23,  2.10s/it]"
     ]
    },
    {
     "name": "stdout",
     "output_type": "stream",
     "text": [
      "\n",
      "Date: 2020-07-03\n",
      "https://spotifycharts.com/regional/ph/daily/2020-07-03/download\n"
     ]
    },
    {
     "name": "stderr",
     "output_type": "stream",
     "text": [
      "\r\n",
      "Collecting chart data from ph: 915it [27:25,  2.19s/it]"
     ]
    },
    {
     "name": "stdout",
     "output_type": "stream",
     "text": [
      "\n",
      "Date: 2020-07-04\n",
      "https://spotifycharts.com/regional/ph/daily/2020-07-04/download\n"
     ]
    },
    {
     "name": "stderr",
     "output_type": "stream",
     "text": [
      "\r\n",
      "Collecting chart data from ph: 916it [27:28,  2.18s/it]"
     ]
    },
    {
     "name": "stdout",
     "output_type": "stream",
     "text": [
      "\n",
      "Date: 2020-07-05\n",
      "https://spotifycharts.com/regional/ph/daily/2020-07-05/download\n"
     ]
    },
    {
     "name": "stderr",
     "output_type": "stream",
     "text": [
      "\r\n",
      "Collecting chart data from ph: 917it [27:31,  2.44s/it]"
     ]
    },
    {
     "name": "stdout",
     "output_type": "stream",
     "text": [
      "\n",
      "Date: 2020-07-06\n",
      "https://spotifycharts.com/regional/ph/daily/2020-07-06/download\n"
     ]
    },
    {
     "name": "stderr",
     "output_type": "stream",
     "text": [
      "\r\n",
      "Collecting chart data from ph: 918it [27:34,  2.58s/it]"
     ]
    },
    {
     "name": "stdout",
     "output_type": "stream",
     "text": [
      "\n",
      "Date: 2020-07-07\n",
      "https://spotifycharts.com/regional/ph/daily/2020-07-07/download\n"
     ]
    },
    {
     "name": "stderr",
     "output_type": "stream",
     "text": [
      "\r\n",
      "Collecting chart data from ph: 919it [27:36,  2.47s/it]"
     ]
    },
    {
     "name": "stdout",
     "output_type": "stream",
     "text": [
      "\n",
      "Date: 2020-07-08\n",
      "https://spotifycharts.com/regional/ph/daily/2020-07-08/download\n"
     ]
    },
    {
     "name": "stderr",
     "output_type": "stream",
     "text": [
      "\r\n",
      "Collecting chart data from ph: 920it [27:38,  2.43s/it]"
     ]
    },
    {
     "name": "stdout",
     "output_type": "stream",
     "text": [
      "\n",
      "Date: 2020-07-09\n",
      "https://spotifycharts.com/regional/ph/daily/2020-07-09/download\n"
     ]
    },
    {
     "name": "stderr",
     "output_type": "stream",
     "text": [
      "\r\n",
      "Collecting chart data from ph: 921it [27:40,  2.31s/it]"
     ]
    },
    {
     "name": "stdout",
     "output_type": "stream",
     "text": [
      "\n",
      "Date: 2020-07-10\n",
      "https://spotifycharts.com/regional/ph/daily/2020-07-10/download\n"
     ]
    },
    {
     "name": "stderr",
     "output_type": "stream",
     "text": [
      "\r\n",
      "Collecting chart data from ph: 922it [27:42,  2.22s/it]"
     ]
    },
    {
     "name": "stdout",
     "output_type": "stream",
     "text": [
      "\n",
      "Date: 2020-07-11\n",
      "https://spotifycharts.com/regional/ph/daily/2020-07-11/download\n"
     ]
    },
    {
     "name": "stderr",
     "output_type": "stream",
     "text": [
      "\r\n",
      "Collecting chart data from ph: 923it [27:45,  2.34s/it]"
     ]
    },
    {
     "name": "stdout",
     "output_type": "stream",
     "text": [
      "\n",
      "Date: 2020-07-12\n",
      "https://spotifycharts.com/regional/ph/daily/2020-07-12/download\n"
     ]
    },
    {
     "name": "stderr",
     "output_type": "stream",
     "text": [
      "\r\n",
      "Collecting chart data from ph: 924it [27:47,  2.21s/it]"
     ]
    },
    {
     "name": "stdout",
     "output_type": "stream",
     "text": [
      "\n",
      "Date: 2020-07-13\n",
      "https://spotifycharts.com/regional/ph/daily/2020-07-13/download\n"
     ]
    },
    {
     "name": "stderr",
     "output_type": "stream",
     "text": [
      "\r\n",
      "Collecting chart data from ph: 925it [27:49,  2.13s/it]"
     ]
    },
    {
     "name": "stdout",
     "output_type": "stream",
     "text": [
      "\n",
      "Date: 2020-07-14\n",
      "https://spotifycharts.com/regional/ph/daily/2020-07-14/download\n"
     ]
    },
    {
     "name": "stderr",
     "output_type": "stream",
     "text": [
      "\r\n",
      "Collecting chart data from ph: 926it [27:51,  2.05s/it]"
     ]
    },
    {
     "name": "stdout",
     "output_type": "stream",
     "text": [
      "\n",
      "Date: 2020-07-15\n",
      "https://spotifycharts.com/regional/ph/daily/2020-07-15/download\n"
     ]
    },
    {
     "name": "stderr",
     "output_type": "stream",
     "text": [
      "\r\n",
      "Collecting chart data from ph: 927it [27:54,  2.55s/it]"
     ]
    },
    {
     "name": "stdout",
     "output_type": "stream",
     "text": [
      "\n",
      "Date: 2020-07-16\n",
      "https://spotifycharts.com/regional/ph/daily/2020-07-16/download\n"
     ]
    },
    {
     "name": "stderr",
     "output_type": "stream",
     "text": [
      "\r\n",
      "Collecting chart data from ph: 928it [27:57,  2.48s/it]"
     ]
    },
    {
     "name": "stdout",
     "output_type": "stream",
     "text": [
      "\n",
      "Date: 2020-07-17\n",
      "https://spotifycharts.com/regional/ph/daily/2020-07-17/download\n"
     ]
    },
    {
     "name": "stderr",
     "output_type": "stream",
     "text": [
      "\r\n",
      "Collecting chart data from ph: 929it [27:59,  2.45s/it]"
     ]
    },
    {
     "name": "stdout",
     "output_type": "stream",
     "text": [
      "\n",
      "Date: 2020-07-18\n",
      "https://spotifycharts.com/regional/ph/daily/2020-07-18/download\n"
     ]
    },
    {
     "name": "stderr",
     "output_type": "stream",
     "text": [
      "\r\n",
      "Collecting chart data from ph: 930it [28:01,  2.36s/it]"
     ]
    },
    {
     "name": "stdout",
     "output_type": "stream",
     "text": [
      "\n",
      "Date: 2020-07-19\n",
      "https://spotifycharts.com/regional/ph/daily/2020-07-19/download\n"
     ]
    },
    {
     "name": "stderr",
     "output_type": "stream",
     "text": [
      "\r\n",
      "Collecting chart data from ph: 931it [28:04,  2.45s/it]"
     ]
    },
    {
     "name": "stdout",
     "output_type": "stream",
     "text": [
      "\n",
      "Date: 2020-07-20\n",
      "https://spotifycharts.com/regional/ph/daily/2020-07-20/download\n"
     ]
    },
    {
     "name": "stderr",
     "output_type": "stream",
     "text": [
      "\r\n",
      "Collecting chart data from ph: 932it [28:06,  2.38s/it]"
     ]
    },
    {
     "name": "stdout",
     "output_type": "stream",
     "text": [
      "\n",
      "Date: 2020-07-21\n",
      "https://spotifycharts.com/regional/ph/daily/2020-07-21/download\n"
     ]
    },
    {
     "name": "stderr",
     "output_type": "stream",
     "text": [
      "\r\n",
      "Collecting chart data from ph: 933it [28:09,  2.46s/it]"
     ]
    },
    {
     "name": "stdout",
     "output_type": "stream",
     "text": [
      "\n",
      "Date: 2020-07-22\n",
      "https://spotifycharts.com/regional/ph/daily/2020-07-22/download\n"
     ]
    },
    {
     "name": "stderr",
     "output_type": "stream",
     "text": [
      "\r\n",
      "Collecting chart data from ph: 934it [28:11,  2.43s/it]"
     ]
    },
    {
     "name": "stdout",
     "output_type": "stream",
     "text": [
      "\n",
      "Date: 2020-07-23\n",
      "https://spotifycharts.com/regional/ph/daily/2020-07-23/download\n"
     ]
    },
    {
     "name": "stderr",
     "output_type": "stream",
     "text": [
      "\r\n",
      "Collecting chart data from ph: 935it [28:13,  2.30s/it]"
     ]
    },
    {
     "name": "stdout",
     "output_type": "stream",
     "text": [
      "\n",
      "Date: 2020-07-24\n",
      "https://spotifycharts.com/regional/ph/daily/2020-07-24/download\n"
     ]
    },
    {
     "name": "stderr",
     "output_type": "stream",
     "text": [
      "\r\n",
      "Collecting chart data from ph: 936it [28:15,  2.17s/it]"
     ]
    },
    {
     "name": "stdout",
     "output_type": "stream",
     "text": [
      "\n",
      "Date: 2020-07-25\n",
      "https://spotifycharts.com/regional/ph/daily/2020-07-25/download\n"
     ]
    },
    {
     "name": "stderr",
     "output_type": "stream",
     "text": [
      "\r\n",
      "Collecting chart data from ph: 937it [28:17,  2.17s/it]"
     ]
    },
    {
     "name": "stdout",
     "output_type": "stream",
     "text": [
      "\n",
      "Date: 2020-07-26\n",
      "https://spotifycharts.com/regional/ph/daily/2020-07-26/download\n"
     ]
    },
    {
     "name": "stderr",
     "output_type": "stream",
     "text": [
      "\r\n",
      "Collecting chart data from ph: 938it [28:20,  2.55s/it]"
     ]
    },
    {
     "name": "stdout",
     "output_type": "stream",
     "text": [
      "\n",
      "Date: 2020-07-27\n",
      "https://spotifycharts.com/regional/ph/daily/2020-07-27/download\n"
     ]
    },
    {
     "name": "stderr",
     "output_type": "stream",
     "text": [
      "\r\n",
      "Collecting chart data from ph: 939it [28:22,  2.40s/it]"
     ]
    },
    {
     "name": "stdout",
     "output_type": "stream",
     "text": [
      "\n",
      "Date: 2020-07-28\n",
      "https://spotifycharts.com/regional/ph/daily/2020-07-28/download\n"
     ]
    },
    {
     "name": "stderr",
     "output_type": "stream",
     "text": [
      "\r\n",
      "Collecting chart data from ph: 940it [28:24,  2.24s/it]"
     ]
    },
    {
     "name": "stdout",
     "output_type": "stream",
     "text": [
      "\n",
      "Date: 2020-07-29\n",
      "https://spotifycharts.com/regional/ph/daily/2020-07-29/download\n"
     ]
    },
    {
     "name": "stderr",
     "output_type": "stream",
     "text": [
      "\r\n",
      "Collecting chart data from ph: 941it [28:26,  2.17s/it]"
     ]
    },
    {
     "name": "stdout",
     "output_type": "stream",
     "text": [
      "\n",
      "Date: 2020-07-30\n",
      "https://spotifycharts.com/regional/ph/daily/2020-07-30/download\n"
     ]
    },
    {
     "name": "stderr",
     "output_type": "stream",
     "text": [
      "\r\n",
      "Collecting chart data from ph: 942it [28:28,  2.11s/it]"
     ]
    },
    {
     "name": "stdout",
     "output_type": "stream",
     "text": [
      "\n",
      "Date: 2020-07-31\n",
      "https://spotifycharts.com/regional/ph/daily/2020-07-31/download\n"
     ]
    },
    {
     "name": "stderr",
     "output_type": "stream",
     "text": [
      "\r\n",
      "Collecting chart data from ph: 943it [28:30,  2.05s/it]"
     ]
    },
    {
     "name": "stdout",
     "output_type": "stream",
     "text": [
      "\n",
      "Date: 2020-08-01\n",
      "https://spotifycharts.com/regional/ph/daily/2020-08-01/download\n"
     ]
    },
    {
     "name": "stderr",
     "output_type": "stream",
     "text": [
      "\r\n",
      "Collecting chart data from ph: 944it [28:32,  1.96s/it]"
     ]
    },
    {
     "name": "stdout",
     "output_type": "stream",
     "text": [
      "\n",
      "Date: 2020-08-02\n",
      "https://spotifycharts.com/regional/ph/daily/2020-08-02/download\n"
     ]
    },
    {
     "name": "stderr",
     "output_type": "stream",
     "text": [
      "\r\n",
      "Collecting chart data from ph: 945it [28:35,  2.32s/it]"
     ]
    },
    {
     "name": "stdout",
     "output_type": "stream",
     "text": [
      "\n",
      "Date: 2020-08-03\n",
      "https://spotifycharts.com/regional/ph/daily/2020-08-03/download\n"
     ]
    },
    {
     "name": "stderr",
     "output_type": "stream",
     "text": [
      "\r\n",
      "Collecting chart data from ph: 946it [28:38,  2.59s/it]"
     ]
    },
    {
     "name": "stdout",
     "output_type": "stream",
     "text": [
      "\n",
      "Date: 2020-08-04\n",
      "https://spotifycharts.com/regional/ph/daily/2020-08-04/download\n"
     ]
    },
    {
     "name": "stderr",
     "output_type": "stream",
     "text": [
      "\r\n",
      "Collecting chart data from ph: 947it [28:41,  2.55s/it]"
     ]
    },
    {
     "name": "stdout",
     "output_type": "stream",
     "text": [
      "\n",
      "Date: 2020-08-05\n",
      "https://spotifycharts.com/regional/ph/daily/2020-08-05/download\n"
     ]
    },
    {
     "name": "stderr",
     "output_type": "stream",
     "text": [
      "\r\n",
      "Collecting chart data from ph: 948it [28:43,  2.56s/it]"
     ]
    },
    {
     "name": "stdout",
     "output_type": "stream",
     "text": [
      "\n",
      "Date: 2020-08-06\n",
      "https://spotifycharts.com/regional/ph/daily/2020-08-06/download\n"
     ]
    },
    {
     "name": "stderr",
     "output_type": "stream",
     "text": [
      "\r\n",
      "Collecting chart data from ph: 949it [28:46,  2.52s/it]"
     ]
    },
    {
     "name": "stdout",
     "output_type": "stream",
     "text": [
      "\n",
      "Date: 2020-08-07\n",
      "https://spotifycharts.com/regional/ph/daily/2020-08-07/download\n"
     ]
    },
    {
     "name": "stderr",
     "output_type": "stream",
     "text": [
      "\r\n",
      "Collecting chart data from ph: 950it [28:48,  2.42s/it]"
     ]
    },
    {
     "name": "stdout",
     "output_type": "stream",
     "text": [
      "\n",
      "Date: 2020-08-08\n",
      "https://spotifycharts.com/regional/ph/daily/2020-08-08/download\n"
     ]
    },
    {
     "name": "stderr",
     "output_type": "stream",
     "text": [
      "\r\n",
      "Collecting chart data from ph: 951it [28:51,  2.46s/it]"
     ]
    },
    {
     "name": "stdout",
     "output_type": "stream",
     "text": [
      "\n",
      "Date: 2020-08-09\n",
      "https://spotifycharts.com/regional/ph/daily/2020-08-09/download\n"
     ]
    },
    {
     "name": "stderr",
     "output_type": "stream",
     "text": [
      "\r\n",
      "Collecting chart data from ph: 952it [28:53,  2.37s/it]"
     ]
    },
    {
     "name": "stdout",
     "output_type": "stream",
     "text": [
      "\n",
      "Date: 2020-08-10\n",
      "https://spotifycharts.com/regional/ph/daily/2020-08-10/download\n"
     ]
    },
    {
     "name": "stderr",
     "output_type": "stream",
     "text": [
      "\r\n",
      "Collecting chart data from ph: 953it [28:56,  2.49s/it]"
     ]
    },
    {
     "name": "stdout",
     "output_type": "stream",
     "text": [
      "\n",
      "Date: 2020-08-11\n",
      "https://spotifycharts.com/regional/ph/daily/2020-08-11/download\n"
     ]
    },
    {
     "name": "stderr",
     "output_type": "stream",
     "text": [
      "\r\n",
      "Collecting chart data from ph: 954it [28:57,  2.32s/it]"
     ]
    },
    {
     "name": "stdout",
     "output_type": "stream",
     "text": [
      "\n",
      "Date: 2020-08-12\n",
      "https://spotifycharts.com/regional/ph/daily/2020-08-12/download\n"
     ]
    },
    {
     "name": "stderr",
     "output_type": "stream",
     "text": [
      "\r\n",
      "Collecting chart data from ph: 955it [28:59,  2.20s/it]"
     ]
    },
    {
     "name": "stdout",
     "output_type": "stream",
     "text": [
      "\n",
      "Date: 2020-08-13\n",
      "https://spotifycharts.com/regional/ph/daily/2020-08-13/download\n"
     ]
    },
    {
     "name": "stderr",
     "output_type": "stream",
     "text": [
      "\r\n",
      "Collecting chart data from ph: 956it [29:01,  2.13s/it]"
     ]
    },
    {
     "name": "stdout",
     "output_type": "stream",
     "text": [
      "\n",
      "Date: 2020-08-14\n",
      "https://spotifycharts.com/regional/ph/daily/2020-08-14/download\n"
     ]
    },
    {
     "name": "stderr",
     "output_type": "stream",
     "text": [
      "\r\n",
      "Collecting chart data from ph: 957it [29:04,  2.26s/it]"
     ]
    },
    {
     "name": "stdout",
     "output_type": "stream",
     "text": [
      "\n",
      "Date: 2020-08-15\n",
      "https://spotifycharts.com/regional/ph/daily/2020-08-15/download\n"
     ]
    },
    {
     "name": "stderr",
     "output_type": "stream",
     "text": [
      "\r\n",
      "Collecting chart data from ph: 958it [29:06,  2.33s/it]"
     ]
    },
    {
     "name": "stdout",
     "output_type": "stream",
     "text": [
      "\n",
      "Date: 2020-08-16\n",
      "https://spotifycharts.com/regional/ph/daily/2020-08-16/download\n"
     ]
    },
    {
     "name": "stderr",
     "output_type": "stream",
     "text": [
      "\r\n",
      "Collecting chart data from ph: 959it [29:09,  2.46s/it]"
     ]
    },
    {
     "name": "stdout",
     "output_type": "stream",
     "text": [
      "\n",
      "Date: 2020-08-17\n",
      "https://spotifycharts.com/regional/ph/daily/2020-08-17/download\n"
     ]
    },
    {
     "name": "stderr",
     "output_type": "stream",
     "text": [
      "\r\n",
      "Collecting chart data from ph: 960it [29:11,  2.39s/it]"
     ]
    },
    {
     "name": "stdout",
     "output_type": "stream",
     "text": [
      "\n",
      "Date: 2020-08-18\n",
      "https://spotifycharts.com/regional/ph/daily/2020-08-18/download\n"
     ]
    },
    {
     "name": "stderr",
     "output_type": "stream",
     "text": [
      "\r\n",
      "Collecting chart data from ph: 961it [29:14,  2.32s/it]"
     ]
    },
    {
     "name": "stdout",
     "output_type": "stream",
     "text": [
      "\n",
      "Date: 2020-08-19\n",
      "https://spotifycharts.com/regional/ph/daily/2020-08-19/download\n"
     ]
    },
    {
     "name": "stderr",
     "output_type": "stream",
     "text": [
      "\r\n",
      "Collecting chart data from ph: 962it [29:16,  2.33s/it]"
     ]
    },
    {
     "name": "stdout",
     "output_type": "stream",
     "text": [
      "\n",
      "Date: 2020-08-20\n",
      "https://spotifycharts.com/regional/ph/daily/2020-08-20/download\n"
     ]
    },
    {
     "name": "stderr",
     "output_type": "stream",
     "text": [
      "\r\n",
      "Collecting chart data from ph: 963it [29:18,  2.26s/it]"
     ]
    },
    {
     "name": "stdout",
     "output_type": "stream",
     "text": [
      "\n",
      "Date: 2020-08-21\n",
      "https://spotifycharts.com/regional/ph/daily/2020-08-21/download\n"
     ]
    },
    {
     "name": "stderr",
     "output_type": "stream",
     "text": [
      "\r\n",
      "Collecting chart data from ph: 964it [29:21,  2.33s/it]"
     ]
    },
    {
     "name": "stdout",
     "output_type": "stream",
     "text": [
      "\n",
      "Date: 2020-08-22\n",
      "https://spotifycharts.com/regional/ph/daily/2020-08-22/download\n"
     ]
    },
    {
     "name": "stderr",
     "output_type": "stream",
     "text": [
      "\r\n",
      "Collecting chart data from ph: 965it [29:23,  2.28s/it]"
     ]
    },
    {
     "name": "stdout",
     "output_type": "stream",
     "text": [
      "\n",
      "Date: 2020-08-23\n",
      "https://spotifycharts.com/regional/ph/daily/2020-08-23/download\n"
     ]
    },
    {
     "name": "stderr",
     "output_type": "stream",
     "text": [
      "\r\n",
      "Collecting chart data from ph: 966it [29:25,  2.19s/it]"
     ]
    },
    {
     "name": "stdout",
     "output_type": "stream",
     "text": [
      "\n",
      "Date: 2020-08-24\n",
      "https://spotifycharts.com/regional/ph/daily/2020-08-24/download\n"
     ]
    },
    {
     "name": "stderr",
     "output_type": "stream",
     "text": [
      "\r\n",
      "Collecting chart data from ph: 967it [29:27,  2.35s/it]"
     ]
    },
    {
     "name": "stdout",
     "output_type": "stream",
     "text": [
      "\n",
      "Date: 2020-08-25\n",
      "https://spotifycharts.com/regional/ph/daily/2020-08-25/download\n"
     ]
    },
    {
     "name": "stderr",
     "output_type": "stream",
     "text": [
      "\r\n",
      "Collecting chart data from ph: 968it [29:30,  2.36s/it]"
     ]
    },
    {
     "name": "stdout",
     "output_type": "stream",
     "text": [
      "\n",
      "Date: 2020-08-26\n",
      "https://spotifycharts.com/regional/ph/daily/2020-08-26/download\n"
     ]
    },
    {
     "name": "stderr",
     "output_type": "stream",
     "text": [
      "\r\n",
      "Collecting chart data from ph: 969it [29:32,  2.29s/it]"
     ]
    },
    {
     "name": "stdout",
     "output_type": "stream",
     "text": [
      "\n",
      "Date: 2020-08-27\n",
      "https://spotifycharts.com/regional/ph/daily/2020-08-27/download\n"
     ]
    },
    {
     "name": "stderr",
     "output_type": "stream",
     "text": [
      "\r\n",
      "Collecting chart data from ph: 970it [29:34,  2.24s/it]"
     ]
    },
    {
     "name": "stdout",
     "output_type": "stream",
     "text": [
      "\n",
      "Date: 2020-08-28\n",
      "https://spotifycharts.com/regional/ph/daily/2020-08-28/download\n"
     ]
    },
    {
     "name": "stderr",
     "output_type": "stream",
     "text": [
      "\r\n",
      "Collecting chart data from ph: 971it [29:37,  2.39s/it]"
     ]
    },
    {
     "name": "stdout",
     "output_type": "stream",
     "text": [
      "\n",
      "Date: 2020-08-29\n",
      "https://spotifycharts.com/regional/ph/daily/2020-08-29/download\n"
     ]
    },
    {
     "name": "stderr",
     "output_type": "stream",
     "text": [
      "\r\n",
      "Collecting chart data from ph: 972it [29:40,  2.57s/it]"
     ]
    },
    {
     "name": "stdout",
     "output_type": "stream",
     "text": [
      "\n",
      "Date: 2020-08-30\n",
      "https://spotifycharts.com/regional/ph/daily/2020-08-30/download\n"
     ]
    },
    {
     "name": "stderr",
     "output_type": "stream",
     "text": [
      "\r\n",
      "Collecting chart data from ph: 973it [29:42,  2.48s/it]"
     ]
    },
    {
     "name": "stdout",
     "output_type": "stream",
     "text": [
      "\n",
      "Date: 2020-08-31\n",
      "https://spotifycharts.com/regional/ph/daily/2020-08-31/download\n"
     ]
    },
    {
     "name": "stderr",
     "output_type": "stream",
     "text": [
      "\r\n",
      "Collecting chart data from ph: 974it [29:45,  2.50s/it]"
     ]
    },
    {
     "name": "stdout",
     "output_type": "stream",
     "text": [
      "\n",
      "Date: 2020-09-01\n",
      "https://spotifycharts.com/regional/ph/daily/2020-09-01/download\n"
     ]
    },
    {
     "name": "stderr",
     "output_type": "stream",
     "text": [
      "\r\n",
      "Collecting chart data from ph: 975it [29:47,  2.47s/it]"
     ]
    },
    {
     "name": "stdout",
     "output_type": "stream",
     "text": [
      "\n",
      "Date: 2020-09-02\n",
      "https://spotifycharts.com/regional/ph/daily/2020-09-02/download\n"
     ]
    },
    {
     "name": "stderr",
     "output_type": "stream",
     "text": [
      "\r\n",
      "Collecting chart data from ph: 976it [29:49,  2.32s/it]"
     ]
    },
    {
     "name": "stdout",
     "output_type": "stream",
     "text": [
      "\n",
      "Date: 2020-09-03\n",
      "https://spotifycharts.com/regional/ph/daily/2020-09-03/download\n"
     ]
    },
    {
     "name": "stderr",
     "output_type": "stream",
     "text": [
      "\r\n",
      "Collecting chart data from ph: 977it [29:51,  2.22s/it]"
     ]
    },
    {
     "name": "stdout",
     "output_type": "stream",
     "text": [
      "\n",
      "Date: 2020-09-04\n",
      "https://spotifycharts.com/regional/ph/daily/2020-09-04/download\n"
     ]
    },
    {
     "name": "stderr",
     "output_type": "stream",
     "text": [
      "\r\n",
      "Collecting chart data from ph: 978it [29:53,  2.12s/it]"
     ]
    },
    {
     "name": "stdout",
     "output_type": "stream",
     "text": [
      "\n",
      "Date: 2020-09-05\n",
      "https://spotifycharts.com/regional/ph/daily/2020-09-05/download\n"
     ]
    },
    {
     "name": "stderr",
     "output_type": "stream",
     "text": [
      "\r\n",
      "Collecting chart data from ph: 979it [29:56,  2.48s/it]"
     ]
    },
    {
     "name": "stdout",
     "output_type": "stream",
     "text": [
      "\n",
      "Date: 2020-09-06\n",
      "https://spotifycharts.com/regional/ph/daily/2020-09-06/download\n"
     ]
    },
    {
     "name": "stderr",
     "output_type": "stream",
     "text": [
      "\r\n",
      "Collecting chart data from ph: 980it [29:58,  2.27s/it]"
     ]
    },
    {
     "name": "stdout",
     "output_type": "stream",
     "text": [
      "\n",
      "Date: 2020-09-07\n",
      "https://spotifycharts.com/regional/ph/daily/2020-09-07/download\n"
     ]
    },
    {
     "name": "stderr",
     "output_type": "stream",
     "text": [
      "\r\n",
      "Collecting chart data from ph: 981it [29:59,  2.03s/it]"
     ]
    },
    {
     "name": "stdout",
     "output_type": "stream",
     "text": [
      "\n",
      "Date: 2020-09-08\n",
      "https://spotifycharts.com/regional/ph/daily/2020-09-08/download\n"
     ]
    },
    {
     "name": "stderr",
     "output_type": "stream",
     "text": [
      "\r\n",
      "Collecting chart data from ph: 982it [30:01,  1.91s/it]"
     ]
    },
    {
     "name": "stdout",
     "output_type": "stream",
     "text": [
      "\n",
      "Date: 2020-09-09\n",
      "https://spotifycharts.com/regional/ph/daily/2020-09-09/download\n"
     ]
    },
    {
     "name": "stderr",
     "output_type": "stream",
     "text": [
      "\r\n",
      "Collecting chart data from ph: 983it [30:02,  1.76s/it]"
     ]
    },
    {
     "name": "stdout",
     "output_type": "stream",
     "text": [
      "\n",
      "Date: 2020-09-10\n",
      "https://spotifycharts.com/regional/ph/daily/2020-09-10/download\n"
     ]
    },
    {
     "name": "stderr",
     "output_type": "stream",
     "text": [
      "\r\n",
      "Collecting chart data from ph: 984it [30:04,  1.65s/it]"
     ]
    },
    {
     "name": "stdout",
     "output_type": "stream",
     "text": [
      "\n",
      "Date: 2020-09-11\n",
      "https://spotifycharts.com/regional/ph/daily/2020-09-11/download\n"
     ]
    },
    {
     "name": "stderr",
     "output_type": "stream",
     "text": [
      "\r\n",
      "Collecting chart data from ph: 985it [30:06,  1.80s/it]"
     ]
    },
    {
     "name": "stdout",
     "output_type": "stream",
     "text": [
      "\n",
      "Date: 2020-09-12\n",
      "https://spotifycharts.com/regional/ph/daily/2020-09-12/download\n"
     ]
    },
    {
     "name": "stderr",
     "output_type": "stream",
     "text": [
      "\r\n",
      "Collecting chart data from ph: 986it [30:09,  2.09s/it]"
     ]
    },
    {
     "name": "stdout",
     "output_type": "stream",
     "text": [
      "\n",
      "Date: 2020-09-13\n",
      "https://spotifycharts.com/regional/ph/daily/2020-09-13/download\n"
     ]
    },
    {
     "name": "stderr",
     "output_type": "stream",
     "text": [
      "\r\n",
      "Collecting chart data from ph: 987it [30:11,  2.01s/it]"
     ]
    },
    {
     "name": "stdout",
     "output_type": "stream",
     "text": [
      "\n",
      "Date: 2020-09-14\n",
      "https://spotifycharts.com/regional/ph/daily/2020-09-14/download\n"
     ]
    },
    {
     "name": "stderr",
     "output_type": "stream",
     "text": [
      "\r\n",
      "Collecting chart data from ph: 988it [30:13,  2.14s/it]"
     ]
    },
    {
     "name": "stdout",
     "output_type": "stream",
     "text": [
      "\n",
      "Date: 2020-09-15\n",
      "https://spotifycharts.com/regional/ph/daily/2020-09-15/download\n"
     ]
    },
    {
     "name": "stderr",
     "output_type": "stream",
     "text": [
      "\n",
      "Collecting chart data from ph: 989it [30:15,  2.11s/it]\n",
      "Collecting chart data from ph: 989it [30:15,  1.84s/it]\n"
     ]
    }
   ],
   "source": [
    "%run scrape_spotify_charts.py"
   ]
  },
  {
   "cell_type": "code",
   "execution_count": null,
   "metadata": {},
   "outputs": [],
   "source": []
  }
 ],
 "metadata": {
  "kernelspec": {
   "display_name": "Python 3",
   "language": "python",
   "name": "python3"
  },
  "language_info": {
   "codemirror_mode": {
    "name": "ipython",
    "version": 3
   },
   "file_extension": ".py",
   "mimetype": "text/x-python",
   "name": "python",
   "nbconvert_exporter": "python",
   "pygments_lexer": "ipython3",
   "version": "3.7.3"
  }
 },
 "nbformat": 4,
 "nbformat_minor": 2
}
